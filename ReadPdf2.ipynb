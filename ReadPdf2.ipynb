{
  "nbformat": 4,
  "nbformat_minor": 0,
  "metadata": {
    "colab": {
      "name": "ReadPdf.ipynb",
      "provenance": [],
      "include_colab_link": true
    },
    "kernelspec": {
      "name": "python3",
      "display_name": "Python 3"
    },
    "language_info": {
      "name": "python"
    }
  },
  "cells": [
    {
      "cell_type": "markdown",
      "metadata": {
        "id": "view-in-github",
        "colab_type": "text"
      },
      "source": [
        "<a href=\"https://colab.research.google.com/github/kerryqliu/stats170/blob/irene/ReadPdf2.ipynb\" target=\"_parent\"><img src=\"https://colab.research.google.com/assets/colab-badge.svg\" alt=\"Open In Colab\"/></a>"
      ]
    },
    {
      "cell_type": "code",
      "metadata": {
        "id": "GMH5lZQsR9MC"
      },
      "source": [
        "from PIL import Image"
      ],
      "execution_count": 1,
      "outputs": []
    },
    {
      "cell_type": "code",
      "metadata": {
        "colab": {
          "base_uri": "https://localhost:8080/"
        },
        "id": "IN4IyvNJ1yDt",
        "outputId": "43e637cd-f266-45c5-b39a-e751fc612762"
      },
      "source": [
        "!pip install pytesseract"
      ],
      "execution_count": 2,
      "outputs": [
        {
          "output_type": "stream",
          "text": [
            "Collecting pytesseract\n",
            "  Downloading https://files.pythonhosted.org/packages/a0/e6/a4e9fc8a93c1318540e8de6d8d4beb5749b7960388a7c7f27799fc2dd016/pytesseract-0.3.7.tar.gz\n",
            "Requirement already satisfied: Pillow in /usr/local/lib/python3.7/dist-packages (from pytesseract) (7.0.0)\n",
            "Building wheels for collected packages: pytesseract\n",
            "  Building wheel for pytesseract (setup.py) ... \u001b[?25l\u001b[?25hdone\n",
            "  Created wheel for pytesseract: filename=pytesseract-0.3.7-py2.py3-none-any.whl size=13945 sha256=79045150db470f9571dbb9d5e31a5d1ff57910fd33dd1370b4f6838a12d50725\n",
            "  Stored in directory: /root/.cache/pip/wheels/81/20/7e/1dd0daad1575d5260916bb1e9781246430647adaef4b3ca3b3\n",
            "Successfully built pytesseract\n",
            "Installing collected packages: pytesseract\n",
            "Successfully installed pytesseract-0.3.7\n"
          ],
          "name": "stdout"
        }
      ]
    },
    {
      "cell_type": "code",
      "metadata": {
        "colab": {
          "base_uri": "https://localhost:8080/"
        },
        "id": "ORYVEehFDQoN",
        "outputId": "5ef2a3a0-20c9-421d-d881-9142173efe5c"
      },
      "source": [
        "!pip install pdf2image"
      ],
      "execution_count": 3,
      "outputs": [
        {
          "output_type": "stream",
          "text": [
            "Collecting pdf2image\n",
            "  Downloading https://files.pythonhosted.org/packages/03/62/089030fd16ab3e5c245315d63c80b29250b8f9e4579b5a09306eb7e7539c/pdf2image-1.14.0-py3-none-any.whl\n",
            "Requirement already satisfied: pillow in /usr/local/lib/python3.7/dist-packages (from pdf2image) (7.0.0)\n",
            "Installing collected packages: pdf2image\n",
            "Successfully installed pdf2image-1.14.0\n"
          ],
          "name": "stdout"
        }
      ]
    },
    {
      "cell_type": "code",
      "metadata": {
        "colab": {
          "base_uri": "https://localhost:8080/"
        },
        "id": "YNS4aEknF5dn",
        "outputId": "174f5c99-9ba8-4a52-88f7-4ae7fc801ba8"
      },
      "source": [
        "!sudo apt-get install tesseract-ocr"
      ],
      "execution_count": 4,
      "outputs": [
        {
          "output_type": "stream",
          "text": [
            "Reading package lists... Done\n",
            "Building dependency tree       \n",
            "Reading state information... Done\n",
            "The following additional packages will be installed:\n",
            "  tesseract-ocr-eng tesseract-ocr-osd\n",
            "The following NEW packages will be installed:\n",
            "  tesseract-ocr tesseract-ocr-eng tesseract-ocr-osd\n",
            "0 upgraded, 3 newly installed, 0 to remove and 30 not upgraded.\n",
            "Need to get 4,795 kB of archives.\n",
            "After this operation, 15.8 MB of additional disk space will be used.\n",
            "Get:1 http://archive.ubuntu.com/ubuntu bionic/universe amd64 tesseract-ocr-eng all 4.00~git24-0e00fe6-1.2 [1,588 kB]\n",
            "Get:2 http://archive.ubuntu.com/ubuntu bionic/universe amd64 tesseract-ocr-osd all 4.00~git24-0e00fe6-1.2 [2,989 kB]\n",
            "Get:3 http://archive.ubuntu.com/ubuntu bionic/universe amd64 tesseract-ocr amd64 4.00~git2288-10f4998a-2 [218 kB]\n",
            "Fetched 4,795 kB in 0s (28.1 MB/s)\n",
            "debconf: unable to initialize frontend: Dialog\n",
            "debconf: (No usable dialog-like program is installed, so the dialog based frontend cannot be used. at /usr/share/perl5/Debconf/FrontEnd/Dialog.pm line 76, <> line 3.)\n",
            "debconf: falling back to frontend: Readline\n",
            "debconf: unable to initialize frontend: Readline\n",
            "debconf: (This frontend requires a controlling tty.)\n",
            "debconf: falling back to frontend: Teletype\n",
            "dpkg-preconfigure: unable to re-open stdin: \n",
            "Selecting previously unselected package tesseract-ocr-eng.\n",
            "(Reading database ... 160980 files and directories currently installed.)\n",
            "Preparing to unpack .../tesseract-ocr-eng_4.00~git24-0e00fe6-1.2_all.deb ...\n",
            "Unpacking tesseract-ocr-eng (4.00~git24-0e00fe6-1.2) ...\n",
            "Selecting previously unselected package tesseract-ocr-osd.\n",
            "Preparing to unpack .../tesseract-ocr-osd_4.00~git24-0e00fe6-1.2_all.deb ...\n",
            "Unpacking tesseract-ocr-osd (4.00~git24-0e00fe6-1.2) ...\n",
            "Selecting previously unselected package tesseract-ocr.\n",
            "Preparing to unpack .../tesseract-ocr_4.00~git2288-10f4998a-2_amd64.deb ...\n",
            "Unpacking tesseract-ocr (4.00~git2288-10f4998a-2) ...\n",
            "Setting up tesseract-ocr-osd (4.00~git24-0e00fe6-1.2) ...\n",
            "Setting up tesseract-ocr-eng (4.00~git24-0e00fe6-1.2) ...\n",
            "Setting up tesseract-ocr (4.00~git2288-10f4998a-2) ...\n",
            "Processing triggers for man-db (2.8.3-2ubuntu0.1) ...\n"
          ],
          "name": "stdout"
        }
      ]
    },
    {
      "cell_type": "code",
      "metadata": {
        "colab": {
          "base_uri": "https://localhost:8080/"
        },
        "id": "PGf5hzED2R-y",
        "outputId": "9da50735-54fd-45b8-c225-df3792c85e74"
      },
      "source": [
        "!sudo apt-get install poppler-utils"
      ],
      "execution_count": 5,
      "outputs": [
        {
          "output_type": "stream",
          "text": [
            "Reading package lists... Done\n",
            "Building dependency tree       \n",
            "Reading state information... Done\n",
            "The following NEW packages will be installed:\n",
            "  poppler-utils\n",
            "0 upgraded, 1 newly installed, 0 to remove and 30 not upgraded.\n",
            "Need to get 154 kB of archives.\n",
            "After this operation, 613 kB of additional disk space will be used.\n",
            "Get:1 http://archive.ubuntu.com/ubuntu bionic-updates/main amd64 poppler-utils amd64 0.62.0-2ubuntu2.12 [154 kB]\n",
            "Fetched 154 kB in 0s (2,321 kB/s)\n",
            "debconf: unable to initialize frontend: Dialog\n",
            "debconf: (No usable dialog-like program is installed, so the dialog based frontend cannot be used. at /usr/share/perl5/Debconf/FrontEnd/Dialog.pm line 76, <> line 1.)\n",
            "debconf: falling back to frontend: Readline\n",
            "debconf: unable to initialize frontend: Readline\n",
            "debconf: (This frontend requires a controlling tty.)\n",
            "debconf: falling back to frontend: Teletype\n",
            "dpkg-preconfigure: unable to re-open stdin: \n",
            "Selecting previously unselected package poppler-utils.\n",
            "(Reading database ... 161027 files and directories currently installed.)\n",
            "Preparing to unpack .../poppler-utils_0.62.0-2ubuntu2.12_amd64.deb ...\n",
            "Unpacking poppler-utils (0.62.0-2ubuntu2.12) ...\n",
            "Setting up poppler-utils (0.62.0-2ubuntu2.12) ...\n",
            "Processing triggers for man-db (2.8.3-2ubuntu0.1) ...\n"
          ],
          "name": "stdout"
        }
      ]
    },
    {
      "cell_type": "code",
      "metadata": {
        "id": "br6oyZHkT14X",
        "colab": {
          "base_uri": "https://localhost:8080/"
        },
        "outputId": "3832d5e3-ac9c-4931-b9e8-b2151b42d1e7"
      },
      "source": [
        "from google.colab import drive\n",
        "drive.mount('/content/drive')"
      ],
      "execution_count": 6,
      "outputs": [
        {
          "output_type": "stream",
          "text": [
            "Mounted at /content/drive\n"
          ],
          "name": "stdout"
        }
      ]
    },
    {
      "cell_type": "code",
      "metadata": {
        "id": "jcUA9vNnGGfk"
      },
      "source": [
        "from PIL import Image\n",
        "import pytesseract\n",
        "import sys\n",
        "from pdf2image import convert_from_path\n",
        "import os"
      ],
      "execution_count": 7,
      "outputs": []
    },
    {
      "cell_type": "code",
      "metadata": {
        "id": "VMQFuIaQITdf"
      },
      "source": [
        "pdf_file = \"/content/drive/Shareddrives/CAPSTONE/documents/nerve 3.pdf\""
      ],
      "execution_count": 10,
      "outputs": []
    },
    {
      "cell_type": "code",
      "metadata": {
        "id": "nJCCIdpxIWbV"
      },
      "source": [
        "pages = convert_from_path(pdf_file)"
      ],
      "execution_count": 11,
      "outputs": []
    },
    {
      "cell_type": "code",
      "metadata": {
        "colab": {
          "base_uri": "https://localhost:8080/"
        },
        "id": "CH9bSTm045yP",
        "outputId": "ddc7c128-6da6-4466-b1d9-6351421b9752"
      },
      "source": [
        "for page in pages:\n",
        "  print(\"hi\")\n",
        "  filename = \"/content/drive/Shareddrives/CAPSTONE/documents/test.jpg\"\n",
        "  page.save(filename, 'JPEG')"
      ],
      "execution_count": 13,
      "outputs": [
        {
          "output_type": "stream",
          "text": [
            "hi\n"
          ],
          "name": "stdout"
        }
      ]
    },
    {
      "cell_type": "code",
      "metadata": {
        "colab": {
          "base_uri": "https://localhost:8080/"
        },
        "id": "l-8SE4FM_Zid",
        "outputId": "ea536a14-d9d2-4581-ade3-d512b099c91a"
      },
      "source": [
        "!ls"
      ],
      "execution_count": 14,
      "outputs": [
        {
          "output_type": "stream",
          "text": [
            "drive  sample_data\n"
          ],
          "name": "stdout"
        }
      ]
    },
    {
      "cell_type": "code",
      "metadata": {
        "id": "AF5ZoxUfAZ0t"
      },
      "source": [
        "outfile = \"/content/drive/MyDrive/Stats170/test.jpg\""
      ],
      "execution_count": 16,
      "outputs": []
    },
    {
      "cell_type": "code",
      "metadata": {
        "id": "T9IBH8RZAf-6"
      },
      "source": [
        "text = str(((pytesseract.image_to_string(Image.open(filename)))))"
      ],
      "execution_count": 17,
      "outputs": []
    },
    {
      "cell_type": "code",
      "metadata": {
        "colab": {
          "base_uri": "https://localhost:8080/"
        },
        "id": "1MMLCvt9AhWh",
        "outputId": "927660e3-2e4e-4c43-c50e-8ed3038a7775"
      },
      "source": [
        "print(text)"
      ],
      "execution_count": 18,
      "outputs": [
        {
          "output_type": "stream",
          "text": [
            "Reflexes: Deep tendon reflexes are normal at the knees and ankles\n",
            "bilaterally. Flicker response only at the triceps bilaterally. No respons\n",
            "even with reinforcement at the biceps and brachjoradialis bilaterally.\n",
            "Negative Hoffmann sign. Plantar responses flexor bilaterally.\n",
            "\n",
            "Sensation: Sensation is intact to light touch, pinprick and vibration in\n",
            "both upper and lower extremities. Joint position sense is intact.\n",
            "Coordination: Finger-to-nose and heel-to-shin is normal.\n",
            "\f\n"
          ],
          "name": "stdout"
        }
      ]
    },
    {
      "cell_type": "code",
      "metadata": {
        "id": "M7nmCjrBAlIH",
        "colab": {
          "base_uri": "https://localhost:8080/"
        },
        "outputId": "d66f11b3-1c96-4b05-e4c7-5b0eeed5d434"
      },
      "source": [
        "type(text)"
      ],
      "execution_count": 19,
      "outputs": [
        {
          "output_type": "execute_result",
          "data": {
            "text/plain": [
              "str"
            ]
          },
          "metadata": {
            "tags": []
          },
          "execution_count": 19
        }
      ]
    },
    {
      "cell_type": "code",
      "metadata": {
        "id": "Z-byCrCrVAda",
        "outputId": "934cfd4f-8c69-43e4-e04e-d9fce661a2fd",
        "colab": {
          "base_uri": "https://localhost:8080/"
        }
      },
      "source": [
        "all_filenames = []\n",
        "\n",
        "for i in range(1,9):\n",
        "  curr_pdf = \"/content/drive/Shareddrives/CAPSTONE/documents/nerve \" + str(i) + \".pdf\"\n",
        "  print(curr_pdf)\n",
        "\n",
        "  pages = convert_from_path(curr_pdf)\n",
        "\n",
        "  pg_num = 0\n",
        "\n",
        "  for page in pages:\n",
        "    pg_num += 1\n",
        "    filename = \"/content/drive/Shareddrives/CAPSTONE/documents/test files/test\" + str(i) + \"_\" + str(pg_num) + \".jpg\"\n",
        "    all_filenames.append(filename)\n",
        "    print(filename)\n",
        "    page.save(filename, 'JPEG')"
      ],
      "execution_count": 22,
      "outputs": [
        {
          "output_type": "stream",
          "text": [
            "/content/drive/Shareddrives/CAPSTONE/documents/nerve 1.pdf\n",
            "/content/drive/Shareddrives/CAPSTONE/documents/test files/test1_1.jpg\n",
            "/content/drive/Shareddrives/CAPSTONE/documents/nerve 2.pdf\n",
            "/content/drive/Shareddrives/CAPSTONE/documents/test files/test2_1.jpg\n",
            "/content/drive/Shareddrives/CAPSTONE/documents/nerve 3.pdf\n",
            "/content/drive/Shareddrives/CAPSTONE/documents/test files/test3_1.jpg\n",
            "/content/drive/Shareddrives/CAPSTONE/documents/nerve 4.pdf\n",
            "/content/drive/Shareddrives/CAPSTONE/documents/test files/test4_1.jpg\n",
            "/content/drive/Shareddrives/CAPSTONE/documents/nerve 5.pdf\n",
            "/content/drive/Shareddrives/CAPSTONE/documents/test files/test5_1.jpg\n",
            "/content/drive/Shareddrives/CAPSTONE/documents/nerve 6.pdf\n",
            "/content/drive/Shareddrives/CAPSTONE/documents/test files/test6_1.jpg\n",
            "/content/drive/Shareddrives/CAPSTONE/documents/nerve 7.pdf\n",
            "/content/drive/Shareddrives/CAPSTONE/documents/test files/test7_1.jpg\n",
            "/content/drive/Shareddrives/CAPSTONE/documents/nerve 8.pdf\n",
            "/content/drive/Shareddrives/CAPSTONE/documents/test files/test8_1.jpg\n"
          ],
          "name": "stdout"
        }
      ]
    },
    {
      "cell_type": "code",
      "metadata": {
        "id": "EqjdwW0jXOAq",
        "outputId": "b09f7b2a-6dcc-44c1-97ad-1e7014e3356a",
        "colab": {
          "base_uri": "https://localhost:8080/"
        }
      },
      "source": [
        "text_list = []\n",
        "\n",
        "for f in all_filenames:\n",
        "  text_list.append(str(((pytesseract.image_to_string(Image.open(f))))))\n",
        "\n",
        "text_list"
      ],
      "execution_count": 23,
      "outputs": [
        {
          "output_type": "execute_result",
          "data": {
            "text/plain": [
              "[' \\n\\x0c',\n",
              " 'Examination of the neck showed full range of movement with no bruits, masses,\\nthyromegaly or adenopathy. Auscultation of the heart and lungs was normal.\\nThere was no organomegaly or adenopathy.\\n\\nExamination of the extremities showed normal tone throughout. Tendon reflexes\\nwere all absent apart from trace ankle jerks, which could only bé obtained with\\nreinforcement. All other tendons reflexes were absent. All muscles\\ndemonstrated normal strength apart from reduced 4+/5 right ankle dorsiflexion\\nstrength and reduced 3/5 strength of. the right toe extensors and the right\\nextensor hallucis longus. The right extensor digitorum brevis muscles were felt\\n\\x0c',\n",
              " 'Reflexes: Deep tendon reflexes are normal at the knees and ankles\\nbilaterally. Flicker response only at the triceps bilaterally. No respons\\neven with reinforcement at the biceps and brachjoradialis bilaterally.\\nNegative Hoffmann sign. Plantar responses flexor bilaterally.\\n\\nSensation: Sensation is intact to light touch, pinprick and vibration in\\nboth upper and lower extremities. Joint position sense is intact.\\nCoordination: Finger-to-nose and heel-to-shin is normal.\\n\\x0c',\n",
              " 'Musclo Strength & Tono\\nmild proximal muscle weakness in the 4/5 range in both lower extremities. He has difficulty arising from a squatting position.\\n\\nSonsation (diminished vibratory songation and pin sensation in tho feet bilaterally)\\n\\nRefloxos (absent reflexes throughout)\\n\\nCoordination and Galt (his gait ls normal. He can heel and too walk. Tandem walking Is fair)\\nPsychlatric: Cooperative, Appropriate mood & affect, Normal Judgment,\\n\\x0c',\n",
              " \"PHYSICAL EXAM:\\n\\nNeurologic Examination: A comprehensive neurological examination was\\nperformed and is outlined on the neurologic record of today's date. Weight\\nis 64.5 kg. Speech is normal. Mental status not formally assessed but see\\na bit slow. Language is normal to conversation. Cranial nerve examination\\nnotable for what appears to skew deviation with marked impairment in inferi\\noblique function. Diplopia was present in a number of positions. Pupillar\\nresponses were intact. Facial strength and sensation was normal. I wonder\\nabout a slight left pronator drift. Digit extensors seem to be mildly weak\\non the left. Deep tendon reflexes are brisk throughout with nonsustained\\nclonus. Plantar response mute on the right, flexor on the left. Wo eviden\\nof any appendicular or truncal ataxia. Sensory examination was completely\\nnormal .\\n\\x0c\",\n",
              " 'Neurologic:\\n\\norientation and mood- overall: alert, oriented to person, place and time and normal mood and affect; memory;\\noverall: intact Immediate, recent, remote memory; attention span and concentration; overall: normal attention\\nspan and concentration; language and speech; overall: speech, language normal; fund of knowledge; overall:\\nnormal fund of knowledge; cranial nerve 2; overall: fields intact to confrontation and flat discs bilaterally; crania\\nnerve 3, 4, 6; overall: Pupils equal, round, reactive to light and extraocular movements intact; cranial nerve §;\\noverall: normal facial sensatlon; cranial nerve 7; overall: normal facial movement; cranial nerve 8; overall:\\nhearing grossly normal to voice; cranial nerve 9,10; overall: normal palatal movement and tongue protrusion;\\ncranial nerve 11; overall: normal shoulder shrug; cranial nerve 12; overall: normal tongue protrusion; sensation;\\noverall: decreased vibration in the toes comapred to the ankles, decreased temperature sensation in the\\nfeet compared to the upper legs and pin prick decreased below the calves; deep tendon reflexes; Left\\nbiceps normal at 2+; Right biceps normal at 2+; Left triceps normal at 2+; Right triceps normal at 2+; Left patella\\nnormal at 2+; Right patella normal at 2+; Left achilles normal at 2+; Right achilles normal at 2+; coordination;\\noverall: finger to nose, heel-shin and RAM normal and finger to nose and RAM normal\\n\\x0c',\n",
              " '~ AVS) SIT\\n\\n \\n\\nnewer\\n\\nReflexes: DTRs absent throughout. Downgoing Babinski bilaterally. Negative Hoffman bilaterally.\\n\\x0c',\n",
              " 'Neurological: Coordination: normal finger-to-nose and unable to perform heel-to-shin. Sensation: normal pinprick, temperature,\\nvibration, position, and light touch. Reflexes on the Right: bi ; 2/4, ltriceps 2/4, brachial radialis 2/4, achilles 2/4, and patellar 3/4,\\nReflexes on the Left: biceps 2/4, triceps 2/4, brachial radialis 2/4, achilles 2/4, and pateltar 3/4,\\n\\x0c']"
            ]
          },
          "metadata": {
            "tags": []
          },
          "execution_count": 23
        }
      ]
    }
  ]
}