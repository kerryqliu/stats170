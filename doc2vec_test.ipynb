{
  "nbformat": 4,
  "nbformat_minor": 0,
  "metadata": {
    "colab": {
      "name": "doc2vec test",
      "provenance": [],
      "toc_visible": true,
      "machine_shape": "hm",
      "mount_file_id": "15Y5gpM3xYRBl-pua656RDIuS9ShHoPE1",
      "authorship_tag": "ABX9TyNqauS79opNBRnzbEAmdsrI",
      "include_colab_link": true
    },
    "kernelspec": {
      "name": "python3",
      "display_name": "Python 3"
    },
    "language_info": {
      "name": "python"
    }
  },
  "cells": [
    {
      "cell_type": "markdown",
      "metadata": {
        "id": "view-in-github",
        "colab_type": "text"
      },
      "source": [
        "<a href=\"https://colab.research.google.com/github/kerryqliu/stats170/blob/kerry/doc2vec_test.ipynb\" target=\"_parent\"><img src=\"https://colab.research.google.com/assets/colab-badge.svg\" alt=\"Open In Colab\"/></a>"
      ]
    },
    {
      "cell_type": "code",
      "metadata": {
        "colab": {
          "base_uri": "https://localhost:8080/"
        },
        "id": "JBRV1MKuewNp",
        "outputId": "e9e76b0d-45b4-4cb4-b8f4-6b39e5d520b9"
      },
      "source": [
        "import pandas as pd\n",
        "import numpy as np\n",
        "from tqdm import tqdm\n",
        "tqdm.pandas(desc=\"progress-bar\")\n",
        "from gensim.models import Doc2Vec\n",
        "from sklearn import utils\n",
        "from sklearn.model_selection import train_test_split\n",
        "import gensim\n",
        "from sklearn.linear_model import LogisticRegression\n",
        "from gensim.models.doc2vec import TaggedDocument\n",
        "import re\n",
        "import seaborn as sns\n",
        "import matplotlib.pyplot as plt"
      ],
      "execution_count": null,
      "outputs": [
        {
          "output_type": "stream",
          "text": [
            "/usr/local/lib/python3.7/dist-packages/tqdm/std.py:658: FutureWarning: The Panel class is removed from pandas. Accessing it from the top-level namespace will also be removed in the next version\n",
            "  from pandas import Panel\n"
          ],
          "name": "stderr"
        }
      ]
    },
    {
      "cell_type": "markdown",
      "metadata": {
        "id": "kwhtegkLfP2e"
      },
      "source": [
        "# Pull info from database"
      ]
    },
    {
      "cell_type": "code",
      "metadata": {
        "colab": {
          "base_uri": "https://localhost:8080/"
        },
        "id": "_vlT992ze_-z",
        "outputId": "2d5475a1-ebb2-44fc-f4db-48f4251d5452"
      },
      "source": [
        "from sqlalchemy import create_engine"
      ],
      "execution_count": null,
      "outputs": [
        {
          "output_type": "stream",
          "text": [
            "/usr/local/lib/python3.7/dist-packages/psycopg2/__init__.py:144: UserWarning: The psycopg2 wheel package will be renamed from release 2.8; in order to keep installing from binary please use \"pip install psycopg2-binary\" instead. For details see: <http://initd.org/psycopg/docs/install.html#binary-install-from-pypi>.\n",
            "  \"\"\")\n"
          ],
          "name": "stderr"
        }
      ]
    },
    {
      "cell_type": "code",
      "metadata": {
        "colab": {
          "base_uri": "https://localhost:8080/",
          "height": 419
        },
        "id": "nT3WGMlIfUyP",
        "outputId": "b06c8f08-7d90-4e0b-89f4-ddfee9598d5c"
      },
      "source": [
        "testQuery = \"SELECT d.docid, f.fulltext, d.label from fullDocuments f join documentLabels d on f.docid = d.docid;\"\n",
        "docs = pd.read_sql_query(testQuery, con=engine)\n",
        "docs"
      ],
      "execution_count": null,
      "outputs": [
        {
          "output_type": "execute_result",
          "data": {
            "text/html": [
              "<div>\n",
              "<style scoped>\n",
              "    .dataframe tbody tr th:only-of-type {\n",
              "        vertical-align: middle;\n",
              "    }\n",
              "\n",
              "    .dataframe tbody tr th {\n",
              "        vertical-align: top;\n",
              "    }\n",
              "\n",
              "    .dataframe thead th {\n",
              "        text-align: right;\n",
              "    }\n",
              "</style>\n",
              "<table border=\"1\" class=\"dataframe\">\n",
              "  <thead>\n",
              "    <tr style=\"text-align: right;\">\n",
              "      <th></th>\n",
              "      <th>docid</th>\n",
              "      <th>fulltext</th>\n",
              "      <th>label</th>\n",
              "    </tr>\n",
              "  </thead>\n",
              "  <tbody>\n",
              "    <tr>\n",
              "      <th>0</th>\n",
              "      <td>1</td>\n",
              "      <td>Document Text: Example 1\\nReferring Doctor: Un...</td>\n",
              "      <td>1.0</td>\n",
              "    </tr>\n",
              "    <tr>\n",
              "      <th>1</th>\n",
              "      <td>2</td>\n",
              "      <td>Document Text: Example 2\\nProgress Notes\\nDate...</td>\n",
              "      <td>1.0</td>\n",
              "    </tr>\n",
              "    <tr>\n",
              "      <th>2</th>\n",
              "      <td>3</td>\n",
              "      <td>Document Text: Example 3\\nChief Complaint:\\n1....</td>\n",
              "      <td>4.0</td>\n",
              "    </tr>\n",
              "    <tr>\n",
              "      <th>3</th>\n",
              "      <td>4</td>\n",
              "      <td>Document Text: 14\\nse\\nLAIDA\\n*\\nPatient Infor...</td>\n",
              "      <td>1.0</td>\n",
              "    </tr>\n",
              "    <tr>\n",
              "      <th>4</th>\n",
              "      <td>5</td>\n",
              "      <td>Document Text: The first set of documents behi...</td>\n",
              "      <td>1.0</td>\n",
              "    </tr>\n",
              "    <tr>\n",
              "      <th>...</th>\n",
              "      <td>...</td>\n",
              "      <td>...</td>\n",
              "      <td>...</td>\n",
              "    </tr>\n",
              "    <tr>\n",
              "      <th>110</th>\n",
              "      <td>111</td>\n",
              "      <td>Document Text: 9:10\\nFAX\\n2002/041\\n'\\nPatient...</td>\n",
              "      <td>1.0</td>\n",
              "    </tr>\n",
              "    <tr>\n",
              "      <th>111</th>\n",
              "      <td>112</td>\n",
              "      <td>Document Text: # 23/24\\nfined VI\\nvyy\\nScan on...</td>\n",
              "      <td>1.0</td>\n",
              "    </tr>\n",
              "    <tr>\n",
              "      <th>112</th>\n",
              "      <td>113</td>\n",
              "      <td>Document Text: 15:03 From\\nPage: 1/24\\nNUFACTO...</td>\n",
              "      <td>1.0</td>\n",
              "    </tr>\n",
              "    <tr>\n",
              "      <th>113</th>\n",
              "      <td>114</td>\n",
              "      <td>Document Text: 03:58:42 p.m.\\n1/2\\nNU FACTOR\\n...</td>\n",
              "      <td>2.0</td>\n",
              "    </tr>\n",
              "    <tr>\n",
              "      <th>114</th>\n",
              "      <td>115</td>\n",
              "      <td>Document Text: No. 0902 P. 1\\nIV/IG Protocol\\n...</td>\n",
              "      <td>1.0</td>\n",
              "    </tr>\n",
              "  </tbody>\n",
              "</table>\n",
              "<p>115 rows × 3 columns</p>\n",
              "</div>"
            ],
            "text/plain": [
              "     docid                                           fulltext  label\n",
              "0        1  Document Text: Example 1\\nReferring Doctor: Un...    1.0\n",
              "1        2  Document Text: Example 2\\nProgress Notes\\nDate...    1.0\n",
              "2        3  Document Text: Example 3\\nChief Complaint:\\n1....    4.0\n",
              "3        4  Document Text: 14\\nse\\nLAIDA\\n*\\nPatient Infor...    1.0\n",
              "4        5  Document Text: The first set of documents behi...    1.0\n",
              "..     ...                                                ...    ...\n",
              "110    111  Document Text: 9:10\\nFAX\\n2002/041\\n'\\nPatient...    1.0\n",
              "111    112  Document Text: # 23/24\\nfined VI\\nvyy\\nScan on...    1.0\n",
              "112    113  Document Text: 15:03 From\\nPage: 1/24\\nNUFACTO...    1.0\n",
              "113    114  Document Text: 03:58:42 p.m.\\n1/2\\nNU FACTOR\\n...    2.0\n",
              "114    115  Document Text: No. 0902 P. 1\\nIV/IG Protocol\\n...    1.0\n",
              "\n",
              "[115 rows x 3 columns]"
            ]
          },
          "metadata": {
            "tags": []
          },
          "execution_count": 11
        }
      ]
    },
    {
      "cell_type": "code",
      "metadata": {
        "colab": {
          "base_uri": "https://localhost:8080/",
          "height": 576
        },
        "id": "zHvHTu2XfZGw",
        "outputId": "378cae3e-22d8-453d-bac1-962731f63a70"
      },
      "source": [
        "testD = docs[docs['docid'] == 66].reset_index()\n",
        "testD[testD['label'] != 0]"
      ],
      "execution_count": null,
      "outputs": [
        {
          "output_type": "execute_result",
          "data": {
            "text/html": [
              "<div>\n",
              "<style scoped>\n",
              "    .dataframe tbody tr th:only-of-type {\n",
              "        vertical-align: middle;\n",
              "    }\n",
              "\n",
              "    .dataframe tbody tr th {\n",
              "        vertical-align: top;\n",
              "    }\n",
              "\n",
              "    .dataframe thead th {\n",
              "        text-align: right;\n",
              "    }\n",
              "</style>\n",
              "<table border=\"1\" class=\"dataframe\">\n",
              "  <thead>\n",
              "    <tr style=\"text-align: right;\">\n",
              "      <th></th>\n",
              "      <th>index</th>\n",
              "      <th>docid</th>\n",
              "      <th>sentencenum</th>\n",
              "      <th>sentence</th>\n",
              "      <th>label</th>\n",
              "    </tr>\n",
              "  </thead>\n",
              "  <tbody>\n",
              "    <tr>\n",
              "      <th>0</th>\n",
              "      <td>4561</td>\n",
              "      <td>66.0</td>\n",
              "      <td>1.0</td>\n",
              "      <td>Document Text: 14:08\\nPAGE\\n04/11\\nPatient Nam...</td>\n",
              "      <td>1.0</td>\n",
              "    </tr>\n",
              "    <tr>\n",
              "      <th>1</th>\n",
              "      <td>4562</td>\n",
              "      <td>66.0</td>\n",
              "      <td>2.0</td>\n",
              "      <td>He did have profound evidence of neuropathy on...</td>\n",
              "      <td>1.0</td>\n",
              "    </tr>\n",
              "    <tr>\n",
              "      <th>8</th>\n",
              "      <td>4569</td>\n",
              "      <td>66.0</td>\n",
              "      <td>9.0</td>\n",
              "      <td>Localized Osteoarthritis Of The Knee 715.36\\n4.</td>\n",
              "      <td>1.0</td>\n",
              "    </tr>\n",
              "    <tr>\n",
              "      <th>9</th>\n",
              "      <td>4570</td>\n",
              "      <td>66.0</td>\n",
              "      <td>10.0</td>\n",
              "      <td>Muscle Weakness 728.87\\n5.</td>\n",
              "      <td>1.0</td>\n",
              "    </tr>\n",
              "    <tr>\n",
              "      <th>10</th>\n",
              "      <td>4571</td>\n",
              "      <td>66.0</td>\n",
              "      <td>11.0</td>\n",
              "      <td>Numbness (Hypesthesia) 782.0\\n6.</td>\n",
              "      <td>1.0</td>\n",
              "    </tr>\n",
              "    <tr>\n",
              "      <th>16</th>\n",
              "      <td>4577</td>\n",
              "      <td>66.0</td>\n",
              "      <td>17.0</td>\n",
              "      <td>Muscle Weakness 728.87\\n2.</td>\n",
              "      <td>1.0</td>\n",
              "    </tr>\n",
              "    <tr>\n",
              "      <th>17</th>\n",
              "      <td>4578</td>\n",
              "      <td>66.0</td>\n",
              "      <td>18.0</td>\n",
              "      <td>Numbness (Hypesthesia) 782.0\\n3.</td>\n",
              "      <td>1.0</td>\n",
              "    </tr>\n",
              "    <tr>\n",
              "      <th>18</th>\n",
              "      <td>4579</td>\n",
              "      <td>66.0</td>\n",
              "      <td>19.0</td>\n",
              "      <td>Chronic Inflammatory Demyelinating Polyneuropa...</td>\n",
              "      <td>1.0</td>\n",
              "    </tr>\n",
              "    <tr>\n",
              "      <th>22</th>\n",
              "      <td>4583</td>\n",
              "      <td>66.0</td>\n",
              "      <td>23.0</td>\n",
              "      <td>He has noticed significant impairment in ambul...</td>\n",
              "      <td>1.0</td>\n",
              "    </tr>\n",
              "    <tr>\n",
              "      <th>25</th>\n",
              "      <td>4586</td>\n",
              "      <td>66.0</td>\n",
              "      <td>26.0</td>\n",
              "      <td>He states that he has significant difficulty g...</td>\n",
              "      <td>1.0</td>\n",
              "    </tr>\n",
              "    <tr>\n",
              "      <th>42</th>\n",
              "      <td>4603</td>\n",
              "      <td>66.0</td>\n",
              "      <td>43.0</td>\n",
              "      <td>Complete Tear Of The Right Rotator Cuff Tendon...</td>\n",
              "      <td>1.0</td>\n",
              "    </tr>\n",
              "    <tr>\n",
              "      <th>43</th>\n",
              "      <td>4604</td>\n",
              "      <td>66.0</td>\n",
              "      <td>44.0</td>\n",
              "      <td>Localized Osteoarthritis Of The Knee 715.36\\n4.</td>\n",
              "      <td>1.0</td>\n",
              "    </tr>\n",
              "    <tr>\n",
              "      <th>44</th>\n",
              "      <td>4605</td>\n",
              "      <td>66.0</td>\n",
              "      <td>45.0</td>\n",
              "      <td>Muscle Weakness 728.87\\nPast Medical History\\n...</td>\n",
              "      <td>1.0</td>\n",
              "    </tr>\n",
              "    <tr>\n",
              "      <th>52</th>\n",
              "      <td>4613</td>\n",
              "      <td>66.0</td>\n",
              "      <td>53.0</td>\n",
              "      <td>CN: R pupil 3 mm and briskly reactive to direc...</td>\n",
              "      <td>1.0</td>\n",
              "    </tr>\n",
              "    <tr>\n",
              "      <th>53</th>\n",
              "      <td>4614</td>\n",
              "      <td>66.0</td>\n",
              "      <td>54.0</td>\n",
              "      <td>Muscle Weakness 728.87\\n2.</td>\n",
              "      <td>1.0</td>\n",
              "    </tr>\n",
              "    <tr>\n",
              "      <th>54</th>\n",
              "      <td>4615</td>\n",
              "      <td>66.0</td>\n",
              "      <td>55.0</td>\n",
              "      <td>Peripheral Neuropathy 356.9\\n3.</td>\n",
              "      <td>1.0</td>\n",
              "    </tr>\n",
              "    <tr>\n",
              "      <th>55</th>\n",
              "      <td>4616</td>\n",
              "      <td>66.0</td>\n",
              "      <td>56.0</td>\n",
              "      <td>Numbness (Hypesthesia) 782.0\\n68-year-old male...</td>\n",
              "      <td>1.0</td>\n",
              "    </tr>\n",
              "  </tbody>\n",
              "</table>\n",
              "</div>"
            ],
            "text/plain": [
              "    index  docid  ...                                           sentence label\n",
              "0    4561   66.0  ...  Document Text: 14:08\\nPAGE\\n04/11\\nPatient Nam...   1.0\n",
              "1    4562   66.0  ...  He did have profound evidence of neuropathy on...   1.0\n",
              "8    4569   66.0  ...    Localized Osteoarthritis Of The Knee 715.36\\n4.   1.0\n",
              "9    4570   66.0  ...                         Muscle Weakness 728.87\\n5.   1.0\n",
              "10   4571   66.0  ...                   Numbness (Hypesthesia) 782.0\\n6.   1.0\n",
              "16   4577   66.0  ...                         Muscle Weakness 728.87\\n2.   1.0\n",
              "17   4578   66.0  ...                   Numbness (Hypesthesia) 782.0\\n3.   1.0\n",
              "18   4579   66.0  ...  Chronic Inflammatory Demyelinating Polyneuropa...   1.0\n",
              "22   4583   66.0  ...  He has noticed significant impairment in ambul...   1.0\n",
              "25   4586   66.0  ...  He states that he has significant difficulty g...   1.0\n",
              "42   4603   66.0  ...  Complete Tear Of The Right Rotator Cuff Tendon...   1.0\n",
              "43   4604   66.0  ...    Localized Osteoarthritis Of The Knee 715.36\\n4.   1.0\n",
              "44   4605   66.0  ...  Muscle Weakness 728.87\\nPast Medical History\\n...   1.0\n",
              "52   4613   66.0  ...  CN: R pupil 3 mm and briskly reactive to direc...   1.0\n",
              "53   4614   66.0  ...                         Muscle Weakness 728.87\\n2.   1.0\n",
              "54   4615   66.0  ...                    Peripheral Neuropathy 356.9\\n3.   1.0\n",
              "55   4616   66.0  ...  Numbness (Hypesthesia) 782.0\\n68-year-old male...   1.0\n",
              "\n",
              "[17 rows x 5 columns]"
            ]
          },
          "metadata": {
            "tags": []
          },
          "execution_count": 43
        }
      ]
    },
    {
      "cell_type": "code",
      "metadata": {
        "colab": {
          "base_uri": "https://localhost:8080/",
          "height": 342
        },
        "id": "_15nQtxPj9Sb",
        "outputId": "09542bc5-6afb-47a0-c842-aa49c3c12e84"
      },
      "source": [
        "cnt_pro = docs['label'].value_counts()\n",
        "plt.figure(figsize=(12,4))\n",
        "sns.barplot(cnt_pro.index, cnt_pro.values, alpha=0.8)\n",
        "plt.ylabel('Number of Occurrences', fontsize=12)\n",
        "plt.xlabel('Product', fontsize=12)\n",
        "plt.xticks(rotation=90)\n",
        "plt.show();"
      ],
      "execution_count": null,
      "outputs": [
        {
          "output_type": "stream",
          "text": [
            "/usr/local/lib/python3.7/dist-packages/seaborn/_decorators.py:43: FutureWarning: Pass the following variables as keyword args: x, y. From version 0.12, the only valid positional argument will be `data`, and passing other arguments without an explicit keyword will result in an error or misinterpretation.\n",
            "  FutureWarning\n"
          ],
          "name": "stderr"
        },
        {
          "output_type": "display_data",
          "data": {
            "image/png": "[encoded data removed]",
            "text/plain": [
              "<Figure size 864x288 with 1 Axes>"
            ]
          },
          "metadata": {
            "tags": [],
            "needs_background": "light"
          }
        }
      ]
    },
    {
      "cell_type": "code",
      "metadata": {
        "colab": {
          "base_uri": "https://localhost:8080/"
        },
        "id": "BxYZyE3F_C2f",
        "outputId": "d6da2f46-ac6b-474f-b355-3c58b5780a9f"
      },
      "source": [
        "cnt_pro"
      ],
      "execution_count": null,
      "outputs": [
        {
          "output_type": "execute_result",
          "data": {
            "text/plain": [
              "1.0    70\n",
              "0.0    21\n",
              "2.0    12\n",
              "3.0     6\n",
              "4.0     6\n",
              "Name: label, dtype: int64"
            ]
          },
          "metadata": {
            "tags": []
          },
          "execution_count": 5
        }
      ]
    },
    {
      "cell_type": "markdown",
      "metadata": {
        "id": "AigSWJx6kV20"
      },
      "source": [
        "# Text Pre-Processing"
      ]
    },
    {
      "cell_type": "code",
      "metadata": {
        "colab": {
          "base_uri": "https://localhost:8080/"
        },
        "id": "tN9KI2edkvDZ",
        "outputId": "7ff12d39-5610-43a8-e7d2-f618cae3d82a"
      },
      "source": [
        "import nltk\n",
        "from gensim.models.phrases import Phrases\n",
        "nltk.download('punkt')"
      ],
      "execution_count": null,
      "outputs": [
        {
          "output_type": "stream",
          "text": [
            "[nltk_data] Downloading package punkt to /root/nltk_data...\n",
            "[nltk_data]   Unzipping tokenizers/punkt.zip.\n"
          ],
          "name": "stdout"
        },
        {
          "output_type": "execute_result",
          "data": {
            "text/plain": [
              "True"
            ]
          },
          "metadata": {
            "tags": []
          },
          "execution_count": 13
        }
      ]
    },
    {
      "cell_type": "code",
      "metadata": {
        "id": "VgCQ5fGou3hj"
      },
      "source": [
        "from bs4 import BeautifulSoup\n",
        "def cleanText(text):\n",
        "    text = text.lower()\n",
        "    text = re.sub(r'[.,!?]', ' ', text)\n",
        "    text = re.sub(r'\\n', ' ', text)\n",
        "    return text"
      ],
      "execution_count": null,
      "outputs": []
    },
    {
      "cell_type": "markdown",
      "metadata": {
        "id": "zLy3ZUQyu4Br"
      },
      "source": [
        "Train bigram thing"
      ]
    },
    {
      "cell_type": "code",
      "metadata": {
        "colab": {
          "base_uri": "https://localhost:8080/",
          "height": 419
        },
        "id": "kzKgu9bYu51j",
        "outputId": "418157c9-5f80-4c29-ac53-573d8802856c"
      },
      "source": [
        "query = \"SELECT * from docSentences\"\n",
        "sentences = pd.read_sql_query(query, con=engine)\n",
        "sentences"
      ],
      "execution_count": null,
      "outputs": [
        {
          "output_type": "execute_result",
          "data": {
            "text/html": [
              "<div>\n",
              "<style scoped>\n",
              "    .dataframe tbody tr th:only-of-type {\n",
              "        vertical-align: middle;\n",
              "    }\n",
              "\n",
              "    .dataframe tbody tr th {\n",
              "        vertical-align: top;\n",
              "    }\n",
              "\n",
              "    .dataframe thead th {\n",
              "        text-align: right;\n",
              "    }\n",
              "</style>\n",
              "<table border=\"1\" class=\"dataframe\">\n",
              "  <thead>\n",
              "    <tr style=\"text-align: right;\">\n",
              "      <th></th>\n",
              "      <th>docid</th>\n",
              "      <th>sentencenum</th>\n",
              "      <th>sentence</th>\n",
              "    </tr>\n",
              "  </thead>\n",
              "  <tbody>\n",
              "    <tr>\n",
              "      <th>0</th>\n",
              "      <td>1.0</td>\n",
              "      <td>1.0</td>\n",
              "      <td>Document Text: Example 1\\nReferring Doctor: Un...</td>\n",
              "    </tr>\n",
              "    <tr>\n",
              "      <th>1</th>\n",
              "      <td>1.0</td>\n",
              "      <td>2.0</td>\n",
              "      <td>He noted trouble Dorsey and plantar flexing th...</td>\n",
              "    </tr>\n",
              "    <tr>\n",
              "      <th>2</th>\n",
              "      <td>1.0</td>\n",
              "      <td>3.0</td>\n",
              "      <td>This presented without pain numbness or parest...</td>\n",
              "    </tr>\n",
              "    <tr>\n",
              "      <th>3</th>\n",
              "      <td>1.0</td>\n",
              "      <td>4.0</td>\n",
              "      <td>He also noted some\\nweakness of his left hip a...</td>\n",
              "    </tr>\n",
              "    <tr>\n",
              "      <th>4</th>\n",
              "      <td>1.0</td>\n",
              "      <td>5.0</td>\n",
              "      <td>In he states mentions someone spike does drink...</td>\n",
              "    </tr>\n",
              "    <tr>\n",
              "      <th>...</th>\n",
              "      <td>...</td>\n",
              "      <td>...</td>\n",
              "      <td>...</td>\n",
              "    </tr>\n",
              "    <tr>\n",
              "      <th>7803</th>\n",
              "      <td>115.0</td>\n",
              "      <td>78.0</td>\n",
              "      <td>Comments\\nThe MP Evaluation analyzes an indivi...</td>\n",
              "    </tr>\n",
              "    <tr>\n",
              "      <th>7804</th>\n",
              "      <td>115.0</td>\n",
              "      <td>79.0</td>\n",
              "      <td>This analysis did not detect any abnormallyele...</td>\n",
              "    </tr>\n",
              "    <tr>\n",
              "      <th>7805</th>\n",
              "      <td>115.0</td>\n",
              "      <td>80.0</td>\n",
              "      <td>Therefore, it is unlikelythat this individual'...</td>\n",
              "    </tr>\n",
              "    <tr>\n",
              "      <th>7806</th>\n",
              "      <td>115.0</td>\n",
              "      <td>81.0</td>\n",
              "      <td>No.</td>\n",
              "    </tr>\n",
              "    <tr>\n",
              "      <th>7807</th>\n",
              "      <td>115.0</td>\n",
              "      <td>82.0</td>\n",
              "      <td>0902\\nPage 2 of 3 #1139863\\nP. 8\\n☑</td>\n",
              "    </tr>\n",
              "  </tbody>\n",
              "</table>\n",
              "<p>7808 rows × 3 columns</p>\n",
              "</div>"
            ],
            "text/plain": [
              "      docid  sentencenum                                           sentence\n",
              "0       1.0          1.0  Document Text: Example 1\\nReferring Doctor: Un...\n",
              "1       1.0          2.0  He noted trouble Dorsey and plantar flexing th...\n",
              "2       1.0          3.0  This presented without pain numbness or parest...\n",
              "3       1.0          4.0  He also noted some\\nweakness of his left hip a...\n",
              "4       1.0          5.0  In he states mentions someone spike does drink...\n",
              "...     ...          ...                                                ...\n",
              "7803  115.0         78.0  Comments\\nThe MP Evaluation analyzes an indivi...\n",
              "7804  115.0         79.0  This analysis did not detect any abnormallyele...\n",
              "7805  115.0         80.0  Therefore, it is unlikelythat this individual'...\n",
              "7806  115.0         81.0                                                No.\n",
              "7807  115.0         82.0                0902\\nPage 2 of 3 #1139863\\nP. 8\\n☑\n",
              "\n",
              "[7808 rows x 3 columns]"
            ]
          },
          "metadata": {
            "tags": []
          },
          "execution_count": 6
        }
      ]
    },
    {
      "cell_type": "code",
      "metadata": {
        "colab": {
          "base_uri": "https://localhost:8080/",
          "height": 214
        },
        "id": "EekQIoF9vmKm",
        "outputId": "cac348ab-89fa-438b-e640-f8d14edb4ec6"
      },
      "source": [
        "fullSentences = []\n",
        "for i, row in sentences.iterrows():\n",
        "  fullSentences.append(nltk.word_tokenize(cleanText(row['sentence'])))\n",
        "fullSentences[30]"
      ],
      "execution_count": null,
      "outputs": [
        {
          "output_type": "error",
          "ename": "NameError",
          "evalue": "ignored",
          "traceback": [
            "\u001b[0;31m---------------------------------------------------------------------------\u001b[0m",
            "\u001b[0;31mNameError\u001b[0m                                 Traceback (most recent call last)",
            "\u001b[0;32m<ipython-input-7-84e0742f32f2>\u001b[0m in \u001b[0;36m<module>\u001b[0;34m()\u001b[0m\n\u001b[1;32m      1\u001b[0m \u001b[0mfullSentences\u001b[0m \u001b[0;34m=\u001b[0m \u001b[0;34m[\u001b[0m\u001b[0;34m]\u001b[0m\u001b[0;34m\u001b[0m\u001b[0;34m\u001b[0m\u001b[0m\n\u001b[0;32m----> 2\u001b[0;31m \u001b[0;32mfor\u001b[0m \u001b[0mi\u001b[0m\u001b[0;34m,\u001b[0m \u001b[0mrow\u001b[0m \u001b[0;32min\u001b[0m \u001b[0msentences\u001b[0m\u001b[0;34m.\u001b[0m\u001b[0miterrows\u001b[0m\u001b[0;34m(\u001b[0m\u001b[0;34m)\u001b[0m\u001b[0;34m:\u001b[0m\u001b[0;34m\u001b[0m\u001b[0;34m\u001b[0m\u001b[0m\n\u001b[0m\u001b[1;32m      3\u001b[0m   \u001b[0mfullSentences\u001b[0m\u001b[0;34m.\u001b[0m\u001b[0mappend\u001b[0m\u001b[0;34m(\u001b[0m\u001b[0mnltk\u001b[0m\u001b[0;34m.\u001b[0m\u001b[0mword_tokenize\u001b[0m\u001b[0;34m(\u001b[0m\u001b[0mcleanText\u001b[0m\u001b[0;34m(\u001b[0m\u001b[0mrow\u001b[0m\u001b[0;34m[\u001b[0m\u001b[0;34m'sentence'\u001b[0m\u001b[0;34m]\u001b[0m\u001b[0;34m)\u001b[0m\u001b[0;34m)\u001b[0m\u001b[0;34m)\u001b[0m\u001b[0;34m\u001b[0m\u001b[0;34m\u001b[0m\u001b[0m\n\u001b[1;32m      4\u001b[0m \u001b[0mfullSentences\u001b[0m\u001b[0;34m[\u001b[0m\u001b[0;36m30\u001b[0m\u001b[0;34m]\u001b[0m\u001b[0;34m\u001b[0m\u001b[0;34m\u001b[0m\u001b[0m\n",
            "\u001b[0;31mNameError\u001b[0m: name 'sentences' is not defined"
          ]
        }
      ]
    },
    {
      "cell_type": "code",
      "metadata": {
        "colab": {
          "base_uri": "https://localhost:8080/"
        },
        "id": "9ZNZQdl8_UsW",
        "outputId": "3576240e-9681-4d24-e41f-f566338c6910"
      },
      "source": [
        "len(fullSentences)"
      ],
      "execution_count": null,
      "outputs": [
        {
          "output_type": "execute_result",
          "data": {
            "text/plain": [
              "7808"
            ]
          },
          "metadata": {
            "tags": []
          },
          "execution_count": 8
        }
      ]
    },
    {
      "cell_type": "code",
      "metadata": {
        "id": "uqZBrFTGv-rN"
      },
      "source": [
        "bigram = Phrases(fullSentences, min_count=10, threshold=10) #will have to tweak these thresholds"
      ],
      "execution_count": null,
      "outputs": []
    },
    {
      "cell_type": "markdown",
      "metadata": {
        "id": "Ym1E0u0_vm2f"
      },
      "source": [
        "# Now back to the test/train split"
      ]
    },
    {
      "cell_type": "code",
      "metadata": {
        "id": "QViG5GuNkXq9"
      },
      "source": [
        "train, test = train_test_split(docs, test_size=0.3, random_state=42)\n",
        "import nltk\n",
        "from nltk.corpus import stopwords\n",
        "def tokenize_text(text):\n",
        "    tokens = []\n",
        "    for sent in nltk.sent_tokenize(text):\n",
        "        sent = cleanText(sent)\n",
        "        for word in nltk.word_tokenize(sent):\n",
        "            if len(word) < 2:\n",
        "                continue\n",
        "            tokens.append(word.lower())\n",
        "    return tokens #trying this with the bigrams"
      ],
      "execution_count": null,
      "outputs": []
    },
    {
      "cell_type": "code",
      "metadata": {
        "colab": {
          "base_uri": "https://localhost:8080/"
        },
        "id": "5nJGqZHLd7c_",
        "outputId": "f4acc9d0-2298-4d0f-e5da-c6b0942b60dd"
      },
      "source": [
        "train_tagged.values[30]"
      ],
      "execution_count": null,
      "outputs": [
        {
          "output_type": "execute_result",
          "data": {
            "text/plain": [
              "TaggedDocument(words=['document', 'text', '03/08', 'page', 'mal', 'legakuna', 'wath', 'order', 'for', 'the', 'brand', 'name', 'wwnte', 'dedicafli', '19there', 'mriots', '12:31', '09/25/2013', '12:31', 'page', '04/08', 'soap', 'note', 'for', 'age', 'on', 'dos', '60', 'yrs', 'dob', 'seen', 'by', 'seen', 'on', 'friday', 'bmi', 'vs', 'height', '70', 'in', 'weight', '312', '06', '44', 'las', 'www', 'www', 'wwwwww', 'cc', 'neurological', 'consult', 'ref', 'dr', 'appt', 'time', '9:15', 'am', 'arrival', 'time', '1:29', 'pm', 'in', 'history', 'of', 'present', 'illness', 'the', 'patient', 'is', '60-year-old', 'gentleman', 'accompanied', 'with', 'the', 'wife', 'for', 'neurological', 'evaluations', 'he', 'is', 'right-handed', 'he', 'is', 'being', 'seeing', 'neurologist', 'who', 'initially', 'diagnosed', 'cidp', 'that', 'is', 'chronic', 'inflammatory', 'demyelinating', 'polyneuropathy', 'records', 'reviewed', 'and', 'the', 'patient', 'had', 'been', 'on', 'iv', 'solu-medrol', 'for', 'the', 'last', 'at', 'least', 'ten', 'years', 'over', 'one', 'year', 'the', 'patient', 'is', 'on', 'every', 'month', 'iv', 'solu-medrol', 'underlying', 'history', 'of', 'diabetes', 'and', 'obesity', 'the', 'patient', 'was', 'given', 'trial', 'of', 'ivig', 'but', 'not', 'covered', 'by', 'the', 'insurance', 'he', 'feels', 'that', 'his', 'feet', 'pressure', 'is', 'increasing', 'in', 'both', 'the', 'feet', 'can', 'not', 'feel', 'the', 'feet', 'sometime', 'off', 'balance', 'and', 'ataxia', 'and', 'solu-medrol', 'iv', 'therapy', 'is', 'not', 'helping', 'for', 'at', 'least', 'last', 'one', 'year', 'he', 'had', 'ncv/emg', 'done', 'also', 'but', 'reports', 'not', 'available', 'last', 'was', 'done', 'about', 'year', 'ago', 'he', 'denies', 'any', 'diplopia', 'dysarthria', 'or', 'dysphagia', 'he', 'also', 'had', 'mri', 'of', 'the', 'brain', 'done', 'r/o', 'demyelinating', 'disease', 'which', 'was', 'negative', 'as', 'per', 'wife', 'denies', 'any', 'weakness', 'in', 'the', 'arm', 'muscles', 'past', 'medical', 'history', 'history', 'of', 'diabetes', 'obesity', 'hypertension', 'and', 'anxiety', 'medications', 'the', 'patient', 'is', 'on', 'celexa', 'lisinopril', 'norvasc', 'xanax', 'lansoprazole', 'metformin', 'liptruzet', 'celebrex', 'iv', 'steroid', 'solu-', 'medrol', 'monthly', 'personal', 'history', 'does', 'not', 'smoke', 'does', 'not', 'drink', 'alcohol', 'family', 'history', 'noncontributory', 'physical', 'examination', 'vital', 'signs', 'stable', 'wt', '312', 'lbs', 'ht', 'head', 'atraumatic', 'and', 'normocephalic', 'tongue', 'and', 'trachea', 'in', 'the', 'midline', 'sternocleidomastoid', 'and', 'trapezius', 'are', 'intact', 'no', 'thyromegaly', 'heart', 's1', 'and', 's2', 'normal', 'no', 'murmur', 'abdomen', 'soft', 'and', 'nontender', 'extremities', 'no', 'pedal', 'edema', 'neck', 'supple', 'no', 'brudzinski', \"'s\", 'sign', 'no', 'kernig', \"'s\", 'sign', 'neurological', 'examination', 'the', 'patient', 'is', 'alert', 'awake', 'and', 'oriented', 'follows', 'ii', 'and', 'iii', 'order', 'verbal', 'commands', 'cranial', 'nerves', 'ii-xii', 'extraocular', 'muscles', 'and', 'pupils', 'are', 'intact', 'no', 'facial', 'asymmetry', 'tongue', 'in', 'the', 'midline', 'spine', 'slr', 'motor', 'examination', 'no', 'drift', 'noted', 'tone', 'is', 'normal', 'moving', 'all', 'four', 'extremities', 'very', 'well', 'ues', 'power', '5/5', 'proximally', 'and', 'distally', 'both', 'hip', 'flexion', '5/5', 'both', 'knee', 'flexion', '5/5', 'dorsiflexion', 'plantar', 'flexion', 'inversion', 'and', 'eversion', '5/5', 'tinel', \"'s\", 'sign', 'positive', \"phalen's\", 'sign', 'positive', 'no', 'atrophy', 'no', 'fasciculation', 'sensory', 'examination', 'light', 'touch', 'pinprick', 'vibration', 'sense', 'diminished', 'in', 'the', 'les', 'glove', 'and', 'stocking', 'distributions', 'joint', 'position', 'is', 'normal', 'cerebellar', 'examination', 'grip', 'equal', 'no', 'dysdiadochokinesis', 'no', 'action', 'tremor', 'gait', 'able', 'to', 'walk', 'heel-to-toe', 'walk', 'able', 'to', 'walk', 'tandem', 'walk', 'able', 'to', 'walk', 'dtr', \"'s\", 'trace', 'in', 'the', 'ues', 'and', 'trace', 'in', 'the', 'les', 'plantars', 'withdrawal', 'work', 'up', 'old', 'record', 'reviewed', 'from', 'neurologist', 'dr', 'impressions', 'cidp', 'mostly', 'chronic', 'inflammatory', 'demyelinating', 'polyneuropathy', 'ncv/emg', 'done', 'last', 'year', 'reports', 'not', 'available', 'the', 'patient', 'is', 'not', 'improving', 'on', 'the', 'iv', 'steroids', 'at', 'least', 'one', 'or', 'two', 'years', 'some', 'merkeans', 'ooth', 'bis', 'denies', 'and', 'bass', 'flex', '12:36', 'pm', 'page', 'of', '12:31', 'page', '05/08', 'soap', 'note', 'for', 'age', 'on', 'dos', '60', 'yrs', 'dob', 'subjective', 'weakness', 'in', 'both', 'legs', 'both', 'hip', 'flexion', 'and', 'extension', 'knee', 'flexion', 'and', 'extension', '4+/5', 'anxiety', 'depression', 'obesity', 'hypertension', 'diabetes', 'recommendations', 'the', 'patient', 'needs', 'to', 'change', 'ivig', 'immunoglobulin', 'that', 'is', '60', 'iv', 'monthly', '``', 'medically', 'necessary', '``', 'we', 'will', 'try', 'to', 'get', 'approval', 'from', 'the', 'health', 'insurance', 'company', 'as', 'the', 'iv', 'solu-medrol', 'is', 'not', 'helping', 'consider', 'small', 'dose', 'of', 'neurontin', 'on', 'next', 'visit', 'followup', 'ncv/emg', 'done', 'about', 'year', 'ago', 'vasculitis', 'workup', 'if', 'also', 'available', 'the', 'patient', 'never', 'had', 'spinal', 'tap', 'or', 'nerve', 'biopsies', 'we', 'will', 'follow-up', 'in', 'six', 'weeks', 'thank', 'you', 'dr', 'for', 'allowing', 'us', 'to', 'manage', 'this', 'patient', 'we', 'will', 'apprise', 'you', 'of', 'further', 'work-up', 'www', '12:36', 'pm', 'page', 'of', '12:31', 'page', '06/08', 'neurological', 'consult', 'date', 'name', 'ref', 'physician', 'dr', 'allergies', 'levaquin', 'cc', 'neuro', 'consult', 'recently', 'moved', 'from', 'diagnosed', '``', 'cidp', \"''\", 'history', 'of', 'present', 'illness', 'the', 'patient', 'is', '60-year-old', 'gentleman', 'accompanied', 'with', 'the', 'wife', 'for', 'neurological', 'evaluations', 'he', 'is', 'right-handed', 'he', 'is', 'being', 'seeing', 'neurologist', 'in', 'who', 'initially', 'diagnosed', 'cidp', 'that', 'is', 'chronic', 'inflammatory', 'demyelinating', 'polyneuropathy', 'records', 'reviewed', 'and', 'the', 'patient', 'had', 'been', 'on', 'iv', 'solu-medrol', 'for', 'the', 'last', 'at', 'least', 'ten', 'years', 'over', 'one', 'year', 'the', 'patient', 'is', 'on', 'every', 'month', 'iv', 'solu-medrol', 'underlying', 'history', 'of', 'diabetes', 'and', 'obesity', 'the', 'patient', 'was', 'given', 'trial', 'of', 'ivig', 'but', 'not', 'covered', 'by', 'the', 'insurance', 'he', 'feels', 'that', 'his', 'feet', 'pressure', 'is', 'increasing', 'in', 'both', 'the', 'feet', 'can', 'not', 'feel', 'the', 'feet', 'sometime', 'off', 'balance', 'and', 'ataxia', 'and', 'solu-medrol', 'iv', 'therapy', 'is', 'not', 'helping', 'for', 'at', 'least', 'last', 'one', 'year', 'he', 'had', 'ncv/emg', 'done', 'also', 'but', 'reports', 'not', 'available', 'last', 'was', 'done', 'about', 'year', 'ago', 'he', 'denies', 'any', 'diplopia', 'dysarthria', 'or', 'dysphagia', 'he', 'also', 'had', 'mri', 'of', 'the', 'brain', 'done', 'r/o', 'demyelinating', 'disease', 'which', 'was', 'negative', 'as', 'per', 'wife', 'denies', 'any', 'weakness', 'in', 'the', 'arm', 'muscles', 'past', 'medical', 'history', 'history', 'of', 'diabetes', 'obesity', 'hypertension', 'and', 'anxiety', 'medications', 'the', 'patient', 'is', 'on', 'celexa', 'lisinopril', 'norvasc', 'xanax', 'lansoprazole', 'metformin', 'liptruzet', 'celebrex', 'iv', 'steroid', 'solu-medrol', 'monthly', 'personal', 'history', 'does', 'not', 'smoke', 'does', 'not', 'drink', 'alcohol', 'family', 'history', 'noncontributory', 'physical', 'examination', 'vital', 'signs', 'stable', 'wt', '312', 'lbs', 'ht', 'head', 'atraumatic', 'and', 'normocephalic', 'tongue', 'and', 'trachea', 'in', 'the', 'midline', 'sternocleidomastoid', 'and', 'trapezius', 'are', 'intact', 'no', 'thyromegaly', 'heart', 's1', 'and', 'normal', 'no', 'murmur', 'abdomen', 'soft', 'and', 'nontender', 'extremities', 'no', 'pedal', 'edema', 'neck', 'supple', 'no', 'brudzinski', \"'s\", 'sign', 'no', 'kernig', \"'s\", 'sign', '12:31', 'page', '07/08', 'date', 'page', 'neurological', 'examination', 'the', 'patient', 'is', 'alert', 'awake', 'and', 'oriented', 'follows', 'ii', 'and', 'iii', 'order', 'verbal', 'commands', 'cranial', 'nerves', 'ii-xii', 'extraocular', 'muscles', 'and', 'pupils', 'are', 'intact', 'no', 'facial', 'asymmetry', 'tongue', 'in', 'the', 'midline', 'spine', 'slr', 'motor', 'examination', 'no', 'drift', 'noted', 'tone', 'is', 'normal', 'moving', 'all', 'four', 'extremities', 'very', 'well', 'ues', 'power', '5/5', 'proximally', 'and', 'distally', 'both', 'hip', 'flexion', '5/5', 'both', 'knee', 'flexion', '5/5', 'dorsiflexion', 'plantar', 'flexion', 'inversion', 'and', 'eversion', '5/5', 'tinel', \"'s\", 'sign', 'positive', 'phalen', \"'s\", 'sign', 'positive', 'no', 'atrophy', 'no', 'fasciculation', 'sensory', 'examination', 'light', 'touch', 'pinprick', 'vibration', 'sense', 'diminished', 'in', 'the', 'les', 'glove', 'and', 'stocking', 'distributions', 'joint', 'position', 'is', 'nonnal', 'cerebellar', 'examination', 'grip', 'equal', 'no', 'dysdiadochokinesis', 'no', 'action', 'tremor', 'gait', 'able', 'to', 'walk', 'heel-to-toe', 'walk', 'able', 'to', 'walk', 'tandem', 'walk', 'able', 'to', 'walk', 'dtr', \"'s\", 'trace', 'in', 'the', 'ues', 'and', 'trace', 'in', 'the', 'les', 'plantars', 'withdrawal', 'work', 'up', 'old', 'record', 'reviewed', 'from', 'neurologist', 'dr', 'impressions', 'cidp', 'mostly', 'chronic', 'inflammatory', 'demyelinating', 'polyneuropathy', 'ncv/emg', 'done', 'last', 'year', 'reports', 'not', 'available', 'the', 'patient', 'is', 'not', 'improving', 'on', 'the', 'iv', 'steroids', 'at', 'least', 'one', 'or', 'two', 'years', 'some', 'subjective', 'weakness', 'in', 'both', 'legs', 'both', 'hip', 'flexion', 'and', 'extension', 'knee', 'flexion', 'and', 'extension', '4+/5', 'anxiety', 'depression', 'obesity', 'hypertension', 'diabetes', 'recommendations', 'the', 'patient', 'needs', 'to', 'change', 'ivig', 'immunoglobulin', 'that', 'is', '60', 'iv', 'monthly', '``', 'medically', 'necessary', '``', 'we', 'will', 'try', 'to', 'get', 'approval', 'from', 'the', 'health', 'insurance', 'company', 'as', 'the', 'tv', 'solu-medrol', 'is', 'not', 'helping', 'consider', 'small', 'dose', 'of', 'neurontin', 'on', 'next', 'visit', 'followup', 'ncv/emg', 'done', 'about', 'year', 'ago', 'vasculitis', 'workup', 'if', 'also', 'available', 'the', 'patient', 'never', 'had', 'spinal', 'tap', 'or', 'nerve', 'biopsies', 'we', 'will', 'follow-up', 'in', 'six', 'weeks'], tags=[1.0])"
            ]
          },
          "metadata": {
            "tags": []
          },
          "execution_count": 78
        }
      ]
    },
    {
      "cell_type": "markdown",
      "metadata": {
        "id": "Km-4JPz1octf"
      },
      "source": [
        "# Start Training"
      ]
    },
    {
      "cell_type": "code",
      "metadata": {
        "id": "dbho2-7loeM3"
      },
      "source": [
        "import multiprocessing\n",
        "from sklearn.model_selection import StratifiedKFold\n",
        "from sklearn.feature_selection import SelectPercentile, f_classif\n",
        "cores = multiprocessing.cpu_count()"
      ],
      "execution_count": null,
      "outputs": []
    },
    {
      "cell_type": "code",
      "metadata": {
        "id": "cpGiDoSPpLmm"
      },
      "source": [
        "# consider scaling the vectors?\n",
        "def vec_for_learning(model, tagged_docs):\n",
        "    sents = tagged_docs.values\n",
        "    targets, regressors = zip(*[(doc.tags[0], model.infer_vector(doc.words, epochs=100)) for doc in sents])\n",
        "    return targets, regressors"
      ],
      "execution_count": null,
      "outputs": []
    },
    {
      "cell_type": "markdown",
      "metadata": {
        "id": "eS2EY5QJTs9D"
      },
      "source": [
        "This code block below runs the train"
      ]
    },
    {
      "cell_type": "code",
      "metadata": {
        "colab": {
          "base_uri": "https://localhost:8080/"
        },
        "id": "kxHFNViBpRKY",
        "outputId": "e4e304e8-7d0f-4abe-bf8e-c1185c8c5cbf"
      },
      "source": [
        "accuracy = []\n",
        "f1 = []\n",
        "mean_acc = []\n",
        "mean_f1 = []\n",
        "train_dict = dict()\n",
        "test_dict = dict()\n",
        "kfold = StratifiedKFold(n_splits=6, shuffle=True)\n",
        "C = [10000, 1000, 100, 10, 1, .1,.01,.001]\n",
        "for term in C:\n",
        "  test_acc = []\n",
        "  train_acc = []\n",
        "  for i in range(5):\n",
        "    for train, test in kfold.split(docs['fulltext'], docs['label']):\n",
        "      # set up the model below\n",
        "      train, test = docs.iloc[train], docs.iloc[test]\n",
        "      \n",
        "      y_train, X_train = vec_from_model(model, train)\n",
        "      y_test, X_test = vec_from_model(model, test)\n",
        "\n",
        "      logreg = LogisticRegression(penalty = 'l1', n_jobs=1, C=1e5, max_iter = 600, solver='saga')\n",
        "      logreg.fit(X_train, y_train)\n",
        "      y_pred = logreg.predict(X_test)\n",
        "      y_train_pred = logreg.predict(X_train)\n",
        "      from sklearn.metrics import accuracy_score, f1_score\n",
        "      # print('Testing accuracy %s' % accuracy_score(y_test, y_pred))\n",
        "      # print('Testing F1 score: {}'.format(f1_score(y_test, y_pred, average='weighted')))\n",
        "      test_acc.append(accuracy_score(y_test, y_pred))\n",
        "      train_acc.append(accuracy_score(y_train, y_train_pred))\n",
        "      f1.append(f1_score(y_test, y_pred, average='weighted'))\n",
        "      y_preds.append(y_pred)\n",
        "      y_tests.append(y_test)\n",
        "    train_dict[term] = train_acc\n",
        "    test_dict[term] = test_acc\n",
        "\n",
        "print(\"Mean accuracy: \", np.mean(accuracy))\n",
        "print(\"Mean F1: \", np.mean(f1))"
      ],
      "execution_count": null,
      "outputs": [
        {
          "output_type": "stream",
          "text": [
            "/usr/local/lib/python3.7/dist-packages/sklearn/linear_model/_sag.py:330: ConvergenceWarning: The max_iter was reached which means the coef_ did not converge\n",
            "  \"the coef_ did not converge\", ConvergenceWarning)\n"
          ],
          "name": "stderr"
        },
        {
          "output_type": "stream",
          "text": [
            "Testing accuracy 0.55\n",
            "Testing F1 score: 0.5752525252525252\n"
          ],
          "name": "stdout"
        },
        {
          "output_type": "stream",
          "text": [
            "/usr/local/lib/python3.7/dist-packages/sklearn/linear_model/_sag.py:330: ConvergenceWarning: The max_iter was reached which means the coef_ did not converge\n",
            "  \"the coef_ did not converge\", ConvergenceWarning)\n"
          ],
          "name": "stderr"
        },
        {
          "output_type": "stream",
          "text": [
            "Testing accuracy 0.42105263157894735\n",
            "Testing F1 score: 0.40421052631578946\n"
          ],
          "name": "stdout"
        },
        {
          "output_type": "stream",
          "text": [
            "/usr/local/lib/python3.7/dist-packages/sklearn/linear_model/_sag.py:330: ConvergenceWarning: The max_iter was reached which means the coef_ did not converge\n",
            "  \"the coef_ did not converge\", ConvergenceWarning)\n"
          ],
          "name": "stderr"
        },
        {
          "output_type": "stream",
          "text": [
            "Testing accuracy 0.3684210526315789\n",
            "Testing F1 score: 0.3839712918660287\n"
          ],
          "name": "stdout"
        },
        {
          "output_type": "stream",
          "text": [
            "/usr/local/lib/python3.7/dist-packages/sklearn/linear_model/_sag.py:330: ConvergenceWarning: The max_iter was reached which means the coef_ did not converge\n",
            "  \"the coef_ did not converge\", ConvergenceWarning)\n"
          ],
          "name": "stderr"
        },
        {
          "output_type": "stream",
          "text": [
            "Testing accuracy 0.47368421052631576\n",
            "Testing F1 score: 0.4661654135338346\n"
          ],
          "name": "stdout"
        },
        {
          "output_type": "stream",
          "text": [
            "/usr/local/lib/python3.7/dist-packages/sklearn/linear_model/_sag.py:330: ConvergenceWarning: The max_iter was reached which means the coef_ did not converge\n",
            "  \"the coef_ did not converge\", ConvergenceWarning)\n"
          ],
          "name": "stderr"
        },
        {
          "output_type": "stream",
          "text": [
            "Testing accuracy 0.42105263157894735\n",
            "Testing F1 score: 0.3859649122807018\n",
            "Testing accuracy 0.5263157894736842\n",
            "Testing F1 score: 0.5263157894736842\n",
            "Mean accuracy:  0.46008771929824555\n",
            "Mean F1:  0.45698007645376065\n"
          ],
          "name": "stdout"
        },
        {
          "output_type": "stream",
          "text": [
            "/usr/local/lib/python3.7/dist-packages/sklearn/linear_model/_sag.py:330: ConvergenceWarning: The max_iter was reached which means the coef_ did not converge\n",
            "  \"the coef_ did not converge\", ConvergenceWarning)\n"
          ],
          "name": "stderr"
        }
      ]
    },
    {
      "cell_type": "code",
      "metadata": {
        "colab": {
          "base_uri": "https://localhost:8080/"
        },
        "id": "k77z6O-vpm_B",
        "outputId": "333518da-a39e-4dac-a124-e13aecdb4bed"
      },
      "source": [
        "total = 0\n",
        "wrong = 0\n",
        "wrong_label = []\n",
        "for i in range(len(y_test)):\n",
        "  if y_test[i] != y_pred[i]:\n",
        "    wrong_label.append((y_test[i], y_pred[i]))\n",
        "    wrong += 1\n",
        "  total += 1\n",
        "print(wrong / total)"
      ],
      "execution_count": null,
      "outputs": [
        {
          "output_type": "stream",
          "text": [
            "0.42105263157894735\n"
          ],
          "name": "stdout"
        }
      ]
    },
    {
      "cell_type": "code",
      "metadata": {
        "colab": {
          "base_uri": "https://localhost:8080/"
        },
        "id": "9k5D-6eiqkrQ",
        "outputId": "578253ff-7773-4df2-f232-d4f42aba6b73"
      },
      "source": [
        "equal_0 = 0\n",
        "not_0 = 0\n",
        "for i in y_test:\n",
        "  if i == 0:\n",
        "    equal_0 += 1\n",
        "  else:\n",
        "    not_0 += 1\n",
        "print(not_0 / equal_0)"
      ],
      "execution_count": null,
      "outputs": [
        {
          "output_type": "stream",
          "text": [
            "3.75\n"
          ],
          "name": "stdout"
        }
      ]
    },
    {
      "cell_type": "code",
      "metadata": {
        "colab": {
          "base_uri": "https://localhost:8080/"
        },
        "id": "nAe2upM4qSKl",
        "outputId": "362ed79b-421a-4a0e-810d-43d34073c924"
      },
      "source": [
        "for i in wrong_label:\n",
        "  print(\"Right label: \", i[0], \" Predicted label: \", i[1])\n"
      ],
      "execution_count": null,
      "outputs": [
        {
          "output_type": "stream",
          "text": [
            "Right label:  2.0  Predicted label:  1.0\n",
            "Right label:  0.0  Predicted label:  1.0\n",
            "Right label:  4.0  Predicted label:  1.0\n",
            "Right label:  0.0  Predicted label:  1.0\n",
            "Right label:  3.0  Predicted label:  1.0\n",
            "Right label:  0.0  Predicted label:  1.0\n",
            "Right label:  0.0  Predicted label:  1.0\n",
            "Right label:  2.0  Predicted label:  1.0\n"
          ],
          "name": "stdout"
        }
      ]
    },
    {
      "cell_type": "code",
      "metadata": {
        "colab": {
          "base_uri": "https://localhost:8080/"
        },
        "id": "sU346ec2vALW",
        "outputId": "67c9ff6e-d6be-4bdb-c5b1-820c595100cd"
      },
      "source": [
        "y_preds"
      ],
      "execution_count": null,
      "outputs": [
        {
          "output_type": "execute_result",
          "data": {
            "text/plain": [
              "[array([1., 4., 1., 1., 2., 1., 1., 1., 0., 3., 0., 2., 1., 0., 1., 1., 0.,\n",
              "        1., 0., 4.]),\n",
              " array([1., 1., 4., 1., 1., 2., 1., 1., 1., 0., 0., 1., 1., 0., 1., 1., 0.,\n",
              "        1., 1.]),\n",
              " array([1., 1., 4., 1., 1., 2., 1., 1., 0., 3., 0., 2., 1., 0., 0., 1., 1.,\n",
              "        0., 1.]),\n",
              " array([1., 1., 4., 1., 1., 1., 1., 1., 0., 3., 0., 2., 1., 1., 0., 1., 1.,\n",
              "        0., 1.]),\n",
              " array([1., 2., 1., 1., 1., 3., 2., 1., 1., 0., 1., 1., 1., 1., 4., 1., 1.,\n",
              "        1., 0.]),\n",
              " array([1., 1., 4., 1., 1., 2., 1., 0., 3., 0., 2., 1., 1., 1., 1., 0., 1.,\n",
              "        1., 0.])]"
            ]
          },
          "metadata": {
            "tags": []
          },
          "execution_count": 75
        }
      ]
    },
    {
      "cell_type": "markdown",
      "metadata": {
        "id": "WmzarECNrTF1"
      },
      "source": [
        "# Try naive bayes\n"
      ]
    },
    {
      "cell_type": "code",
      "metadata": {
        "id": "ujylDoCiQvT3"
      },
      "source": [
        "from sklearn.naive_bayes import GaussianNB"
      ],
      "execution_count": null,
      "outputs": []
    },
    {
      "cell_type": "code",
      "metadata": {
        "colab": {
          "base_uri": "https://localhost:8080/",
          "height": 1000
        },
        "id": "pxbFqVJ4KXEa",
        "outputId": "b086e40e-2e60-43ab-f300-0a8693eb986d"
      },
      "source": [
        "accuracy = []\n",
        "f1 = []\n",
        "kfold = StratifiedKFold(n_splits=6, shuffle=True)\n",
        "for train, test in kfold.split(docs['fulltext'], docs['label']):\n",
        "  train, test = docs.iloc[train], docs.iloc[test]\n",
        "  train_tagged = train.apply(\n",
        "    lambda r: TaggedDocument(words=tokenize_text(r['fulltext']), tags=[r.label]), axis=1)\n",
        "  test_tagged = test.apply(\n",
        "    lambda r: TaggedDocument(words=tokenize_text(r['fulltext']), tags=[r.label]), axis=1)\n",
        "  model_dbow = Doc2Vec(dm=0, vector_size=300, negative=5, hs=0, min_count=2, sample = 0, workers=cores) #change doc2vec params here\n",
        "  model_dbow.build_vocab([x for x in tqdm(train_tagged.values)])\n",
        "  for epoch in range(60): # modify epochs on this line\n",
        "    model_dbow.train(utils.shuffle([x for x in tqdm(train_tagged.values)]), total_examples=len(train_tagged.values), epochs=1)\n",
        "    model_dbow.alpha -= 0.002\n",
        "    model_dbow.min_alpha = model_dbow.alpha\n",
        "  y_train, X_train = vec_for_learning(model_dbow, train_tagged)\n",
        "  y_test, X_test = vec_for_learning(model_dbow, test_tagged)\n",
        "\n",
        "\n",
        "  model = GaussianNB()\n",
        "  model.fit(X_train, y_train)\n",
        "  y_pred = model.predict(X_test)\n",
        "  from sklearn.metrics import accuracy_score, f1_score\n",
        "  print('Testing accuracy %s' % accuracy_score(y_test, y_pred))\n",
        "  print('Testing F1 score: {}'.format(f1_score(y_test, y_pred, average='weighted')))\n",
        "  accuracy.append(accuracy_score(y_test, y_pred))\n",
        "  f1.append(f1_score(y_test, y_pred, average='weighted'))\n",
        "\n",
        "print(\"Mean accuracy: \", np.mean(accuracy))\n",
        "print(\"Mean F1: \", np.mean(f1))"
      ],
      "execution_count": null,
      "outputs": [
        {
          "output_type": "stream",
          "text": [
            "100%|██████████| 95/95 [00:00<00:00, 75380.04it/s]\n",
            "100%|██████████| 95/95 [00:00<00:00, 13512.58it/s]\n",
            "100%|██████████| 95/95 [00:00<00:00, 306506.83it/s]\n",
            "100%|██████████| 95/95 [00:00<00:00, 315486.05it/s]\n",
            "100%|██████████| 95/95 [00:00<00:00, 201853.54it/s]\n",
            "100%|██████████| 95/95 [00:00<00:00, 31107.73it/s]\n",
            "100%|██████████| 95/95 [00:00<00:00, 29439.15it/s]\n",
            "100%|██████████| 95/95 [00:00<00:00, 77596.67it/s]\n",
            "100%|██████████| 95/95 [00:00<00:00, 310810.36it/s]\n",
            "100%|██████████| 95/95 [00:00<00:00, 340563.15it/s]\n",
            "100%|██████████| 95/95 [00:00<00:00, 292339.60it/s]\n",
            "100%|██████████| 95/95 [00:00<00:00, 40733.89it/s]\n",
            "100%|██████████| 95/95 [00:00<00:00, 321597.16it/s]\n",
            "100%|██████████| 95/95 [00:00<00:00, 352930.81it/s]\n",
            "100%|██████████| 95/95 [00:00<00:00, 369971.10it/s]\n",
            "100%|██████████| 95/95 [00:00<00:00, 41692.88it/s]\n",
            "100%|██████████| 95/95 [00:00<00:00, 44179.94it/s]\n",
            "100%|██████████| 95/95 [00:00<00:00, 76892.88it/s]\n",
            "100%|██████████| 95/95 [00:00<00:00, 192771.59it/s]\n",
            "100%|██████████| 95/95 [00:00<00:00, 27734.31it/s]\n",
            "100%|██████████| 95/95 [00:00<00:00, 90251.16it/s]\n",
            "100%|██████████| 95/95 [00:00<00:00, 338537.71it/s]\n",
            "100%|██████████| 95/95 [00:00<00:00, 74785.83it/s]\n",
            "100%|██████████| 95/95 [00:00<00:00, 443224.56it/s]\n",
            "100%|██████████| 95/95 [00:00<00:00, 325804.48it/s]\n",
            "100%|██████████| 95/95 [00:00<00:00, 90930.83it/s]\n",
            "100%|██████████| 95/95 [00:00<00:00, 325804.48it/s]\n",
            "100%|██████████| 95/95 [00:00<00:00, 400864.06it/s]\n",
            "100%|██████████| 95/95 [00:00<00:00, 277285.23it/s]\n",
            "100%|██████████| 95/95 [00:00<00:00, 146707.98it/s]\n",
            "100%|██████████| 95/95 [00:00<00:00, 132598.63it/s]\n",
            "100%|██████████| 95/95 [00:00<00:00, 97494.22it/s]\n",
            "100%|██████████| 95/95 [00:00<00:00, 28131.80it/s]\n",
            "100%|██████████| 95/95 [00:00<00:00, 358004.38it/s]\n",
            "100%|██████████| 95/95 [00:00<00:00, 325007.24it/s]\n",
            "100%|██████████| 95/95 [00:00<00:00, 75180.92it/s]\n",
            "100%|██████████| 95/95 [00:00<00:00, 33625.22it/s]\n",
            "100%|██████████| 95/95 [00:00<00:00, 342907.81it/s]\n",
            "100%|██████████| 95/95 [00:00<00:00, 29080.34it/s]\n",
            "100%|██████████| 95/95 [00:00<00:00, 49479.56it/s]\n",
            "100%|██████████| 95/95 [00:00<00:00, 60833.42it/s]\n",
            "100%|██████████| 95/95 [00:00<00:00, 103442.08it/s]\n",
            "100%|██████████| 95/95 [00:00<00:00, 47300.44it/s]\n",
            "100%|██████████| 95/95 [00:00<00:00, 333717.65it/s]\n",
            "100%|██████████| 95/95 [00:00<00:00, 59373.99it/s]\n",
            "100%|██████████| 95/95 [00:00<00:00, 52147.48it/s]\n",
            "100%|██████████| 95/95 [00:00<00:00, 56655.61it/s]\n",
            "100%|██████████| 95/95 [00:00<00:00, 18657.94it/s]\n",
            "100%|██████████| 95/95 [00:00<00:00, 54116.38it/s]\n",
            "100%|██████████| 95/95 [00:00<00:00, 107256.76it/s]\n",
            "100%|██████████| 95/95 [00:00<00:00, 310568.11it/s]\n",
            "100%|██████████| 95/95 [00:00<00:00, 261455.96it/s]\n",
            "100%|██████████| 95/95 [00:00<00:00, 291484.18it/s]\n",
            "100%|██████████| 95/95 [00:00<00:00, 22361.46it/s]\n",
            "100%|██████████| 95/95 [00:00<00:00, 120380.33it/s]\n",
            "100%|██████████| 95/95 [00:00<00:00, 260260.54it/s]\n",
            "100%|██████████| 95/95 [00:00<00:00, 345284.99it/s]\n",
            "100%|██████████| 95/95 [00:00<00:00, 21693.10it/s]\n",
            "100%|██████████| 95/95 [00:00<00:00, 414629.43it/s]\n",
            "100%|██████████| 95/95 [00:00<00:00, 369627.90it/s]\n",
            "100%|██████████| 95/95 [00:00<00:00, 346787.54it/s]\n"
          ],
          "name": "stderr"
        },
        {
          "output_type": "error",
          "ename": "NameError",
          "evalue": "ignored",
          "traceback": [
            "\u001b[0;31m---------------------------------------------------------------------------\u001b[0m",
            "\u001b[0;31mNameError\u001b[0m                                 Traceback (most recent call last)",
            "\u001b[0;32m<ipython-input-23-c1c575eb57e2>\u001b[0m in \u001b[0;36m<module>\u001b[0;34m()\u001b[0m\n\u001b[1;32m     18\u001b[0m \u001b[0;34m\u001b[0m\u001b[0m\n\u001b[1;32m     19\u001b[0m \u001b[0;34m\u001b[0m\u001b[0m\n\u001b[0;32m---> 20\u001b[0;31m   \u001b[0mmodel\u001b[0m \u001b[0;34m=\u001b[0m \u001b[0mGaussianNB\u001b[0m\u001b[0;34m(\u001b[0m\u001b[0;34m)\u001b[0m\u001b[0;34m\u001b[0m\u001b[0;34m\u001b[0m\u001b[0m\n\u001b[0m\u001b[1;32m     21\u001b[0m   \u001b[0mmodel\u001b[0m\u001b[0;34m.\u001b[0m\u001b[0mfit\u001b[0m\u001b[0;34m(\u001b[0m\u001b[0mX_train\u001b[0m\u001b[0;34m,\u001b[0m \u001b[0my_train\u001b[0m\u001b[0;34m)\u001b[0m\u001b[0;34m\u001b[0m\u001b[0;34m\u001b[0m\u001b[0m\n\u001b[1;32m     22\u001b[0m   \u001b[0my_pred\u001b[0m \u001b[0;34m=\u001b[0m \u001b[0mmodel\u001b[0m\u001b[0;34m.\u001b[0m\u001b[0mpredict\u001b[0m\u001b[0;34m(\u001b[0m\u001b[0mX_test\u001b[0m\u001b[0;34m)\u001b[0m\u001b[0;34m\u001b[0m\u001b[0;34m\u001b[0m\u001b[0m\n",
            "\u001b[0;31mNameError\u001b[0m: name 'GaussianNB' is not defined"
          ]
        }
      ]
    },
    {
      "cell_type": "markdown",
      "metadata": {
        "id": "u8D7T8nCHKn5"
      },
      "source": [
        "# Testing cross-val"
      ]
    },
    {
      "cell_type": "code",
      "metadata": {
        "id": "H3MCf62SItN8"
      },
      "source": [
        "from sklearn.model_selection import cross_val_score"
      ],
      "execution_count": null,
      "outputs": []
    },
    {
      "cell_type": "code",
      "metadata": {
        "colab": {
          "base_uri": "https://localhost:8080/",
          "height": 163
        },
        "id": "mSiDm0U5Ixsp",
        "outputId": "d2b0bfe0-23b4-4582-97fa-8c104c825b32"
      },
      "source": [
        "print(metrics.SCORERS.keys())"
      ],
      "execution_count": null,
      "outputs": [
        {
          "output_type": "error",
          "ename": "NameError",
          "evalue": "ignored",
          "traceback": [
            "\u001b[0;31m---------------------------------------------------------------------------\u001b[0m",
            "\u001b[0;31mNameError\u001b[0m                                 Traceback (most recent call last)",
            "\u001b[0;32m<ipython-input-20-491069148da4>\u001b[0m in \u001b[0;36m<module>\u001b[0;34m()\u001b[0m\n\u001b[0;32m----> 1\u001b[0;31m \u001b[0mprint\u001b[0m\u001b[0;34m(\u001b[0m\u001b[0mmetrics\u001b[0m\u001b[0;34m.\u001b[0m\u001b[0mSCORERS\u001b[0m\u001b[0;34m.\u001b[0m\u001b[0mkeys\u001b[0m\u001b[0;34m(\u001b[0m\u001b[0;34m)\u001b[0m\u001b[0;34m)\u001b[0m\u001b[0;34m\u001b[0m\u001b[0;34m\u001b[0m\u001b[0m\n\u001b[0m",
            "\u001b[0;31mNameError\u001b[0m: name 'metrics' is not defined"
          ]
        }
      ]
    },
    {
      "cell_type": "code",
      "metadata": {
        "colab": {
          "base_uri": "https://localhost:8080/"
        },
        "id": "YAWTTDL7HMvl",
        "outputId": "74f6af9f-5007-4076-a890-8d9abf40188d"
      },
      "source": [
        "C = [10, 1, .1, 0.05,.01,.001] # As C decreases, more coefficients go to zero\n",
        "tagged = docs.apply(\n",
        "    lambda r: TaggedDocument(words=tokenize_text(r['fulltext']), tags=[r.label]), axis=1)\n",
        "model_dbow = Doc2Vec(dm=0, vector_size=300, negative=5, hs=0, min_count=2, sample = 0, workers=cores) #change doc2vec params here\n",
        "model_dbow.build_vocab([x for x in tqdm(tagged.values)])\n",
        "for epoch in range(60): # modify epochs on this line\n",
        "    model_dbow.train(utils.shuffle([x for x in tqdm(tagged.values)]), total_examples=len(tagged.values), epochs=1)\n",
        "    model_dbow.alpha -= 0.002\n",
        "    model_dbow.min_alpha = model_dbow.alpha\n",
        "\n",
        "y, X = vec_for_learning(model_dbow, tagged)\n",
        "logreg = LogisticRegression(penalty = 'l1', n_jobs=1, C=0.001, max_iter = 600, solver='saga')\n",
        "scores = cross_val_score(logreg, X, y, cv=6, scoring=\"f1_micro\")  #<-- add this\n",
        "print(scores)"
      ],
      "execution_count": null,
      "outputs": [
        {
          "output_type": "stream",
          "text": [
            "100%|██████████| 115/115 [00:00<00:00, 60725.79it/s]\n",
            "100%|██████████| 115/115 [00:00<00:00, 61296.86it/s]\n",
            "100%|██████████| 115/115 [00:00<00:00, 149657.14it/s]\n",
            "100%|██████████| 115/115 [00:00<00:00, 291623.31it/s]\n",
            "100%|██████████| 115/115 [00:00<00:00, 75460.73it/s]\n",
            "100%|██████████| 115/115 [00:00<00:00, 65296.46it/s]\n",
            "100%|██████████| 115/115 [00:00<00:00, 62286.28it/s]\n",
            "100%|██████████| 115/115 [00:00<00:00, 39307.71it/s]\n",
            "100%|██████████| 115/115 [00:00<00:00, 32942.56it/s]\n",
            "100%|██████████| 115/115 [00:00<00:00, 112042.96it/s]\n",
            "100%|██████████| 115/115 [00:00<00:00, 316499.32it/s]\n",
            "100%|██████████| 115/115 [00:00<00:00, 61281.28it/s]\n",
            "100%|██████████| 115/115 [00:00<00:00, 212486.77it/s]\n",
            "100%|██████████| 115/115 [00:00<00:00, 64398.53it/s]\n",
            "100%|██████████| 115/115 [00:00<00:00, 207996.96it/s]\n",
            "100%|██████████| 115/115 [00:00<00:00, 384338.61it/s]\n",
            "100%|██████████| 115/115 [00:00<00:00, 271590.63it/s]\n",
            "100%|██████████| 115/115 [00:00<00:00, 340879.83it/s]\n",
            "100%|██████████| 115/115 [00:00<00:00, 91509.19it/s]\n",
            "100%|██████████| 115/115 [00:00<00:00, 290394.32it/s]\n",
            "100%|██████████| 115/115 [00:00<00:00, 45972.64it/s]\n",
            "100%|██████████| 115/115 [00:00<00:00, 210172.10it/s]\n",
            "100%|██████████| 115/115 [00:00<00:00, 145328.40it/s]\n",
            "100%|██████████| 115/115 [00:00<00:00, 59563.47it/s]\n",
            "100%|██████████| 115/115 [00:00<00:00, 88406.33it/s]\n",
            "100%|██████████| 115/115 [00:00<00:00, 115531.73it/s]\n",
            "100%|██████████| 115/115 [00:00<00:00, 75061.46it/s]\n",
            "100%|██████████| 115/115 [00:00<00:00, 451633.86it/s]\n",
            "100%|██████████| 115/115 [00:00<00:00, 46091.25it/s]\n",
            "100%|██████████| 115/115 [00:00<00:00, 254401.35it/s]\n",
            "100%|██████████| 115/115 [00:00<00:00, 116171.71it/s]\n",
            "100%|██████████| 115/115 [00:00<00:00, 218156.92it/s]\n",
            "100%|██████████| 115/115 [00:00<00:00, 389616.28it/s]\n",
            "100%|██████████| 115/115 [00:00<00:00, 441707.84it/s]\n",
            "100%|██████████| 115/115 [00:00<00:00, 348767.14it/s]\n",
            "100%|██████████| 115/115 [00:00<00:00, 148550.96it/s]\n",
            "100%|██████████| 115/115 [00:00<00:00, 224869.45it/s]\n",
            "100%|██████████| 115/115 [00:00<00:00, 131143.27it/s]\n",
            "100%|██████████| 115/115 [00:00<00:00, 254939.20it/s]\n",
            "100%|██████████| 115/115 [00:00<00:00, 347260.59it/s]\n",
            "100%|██████████| 115/115 [00:00<00:00, 325468.93it/s]\n",
            "100%|██████████| 115/115 [00:00<00:00, 249145.12it/s]\n",
            "100%|██████████| 115/115 [00:00<00:00, 352076.61it/s]\n",
            "100%|██████████| 115/115 [00:00<00:00, 270676.18it/s]\n",
            "100%|██████████| 115/115 [00:00<00:00, 293754.54it/s]\n",
            "100%|██████████| 115/115 [00:00<00:00, 342088.62it/s]\n",
            "100%|██████████| 115/115 [00:00<00:00, 316707.13it/s]\n",
            "100%|██████████| 115/115 [00:00<00:00, 40502.56it/s]\n",
            "100%|██████████| 115/115 [00:00<00:00, 112882.04it/s]\n",
            "100%|██████████| 115/115 [00:00<00:00, 207460.20it/s]\n",
            "100%|██████████| 115/115 [00:00<00:00, 264733.79it/s]\n",
            "100%|██████████| 115/115 [00:00<00:00, 108856.91it/s]\n",
            "100%|██████████| 115/115 [00:00<00:00, 195756.88it/s]\n",
            "100%|██████████| 115/115 [00:00<00:00, 113199.94it/s]\n",
            "100%|██████████| 115/115 [00:00<00:00, 267523.55it/s]\n",
            "100%|██████████| 115/115 [00:00<00:00, 139972.42it/s]\n",
            "100%|██████████| 115/115 [00:00<00:00, 421261.97it/s]\n",
            "100%|██████████| 115/115 [00:00<00:00, 273904.01it/s]\n",
            "100%|██████████| 115/115 [00:00<00:00, 85507.00it/s]\n",
            "100%|██████████| 115/115 [00:00<00:00, 83378.56it/s]\n",
            "100%|██████████| 115/115 [00:00<00:00, 67659.55it/s]\n"
          ],
          "name": "stderr"
        },
        {
          "output_type": "stream",
          "text": [
            "[0.6        0.63157895 0.63157895 0.63157895 0.57894737 0.57894737]\n"
          ],
          "name": "stdout"
        }
      ]
    },
    {
      "cell_type": "markdown",
      "metadata": {
        "id": "hr4M4cPQ1cTc"
      },
      "source": [
        "# BioSentVec"
      ]
    },
    {
      "cell_type": "code",
      "metadata": {
        "colab": {
          "base_uri": "https://localhost:8080/"
        },
        "id": "C8HLxPYF1gCP",
        "outputId": "8849f1f4-b8a5-4bb0-bf8f-14fac9fb9de8"
      },
      "source": [
        "!git clone https://github.com/epfml/sent2vec.git"
      ],
      "execution_count": null,
      "outputs": [
        {
          "output_type": "stream",
          "text": [
            "Cloning into 'sent2vec'...\n",
            "remote: Enumerating objects: 396, done.\u001b[K\n",
            "remote: Counting objects: 100% (3/3), done.\u001b[K\n",
            "remote: Compressing objects: 100% (3/3), done.\u001b[K\n",
            "remote: Total 396 (delta 0), reused 1 (delta 0), pack-reused 393\u001b[K\n",
            "Receiving objects: 100% (396/396), 439.62 KiB | 3.63 MiB/s, done.\n",
            "Resolving deltas: 100% (247/247), done.\n"
          ],
          "name": "stdout"
        }
      ]
    },
    {
      "cell_type": "code",
      "metadata": {
        "colab": {
          "base_uri": "https://localhost:8080/"
        },
        "id": "7BlBFESc4ASk",
        "outputId": "3926f759-7019-479b-ffbf-179a68e476bd"
      },
      "source": [
        "%cd sent2vec"
      ],
      "execution_count": null,
      "outputs": [
        {
          "output_type": "stream",
          "text": [
            "/content/sent2vec\n"
          ],
          "name": "stdout"
        }
      ]
    },
    {
      "cell_type": "code",
      "metadata": {
        "colab": {
          "base_uri": "https://localhost:8080/"
        },
        "id": "Z3bsaP6z4Dyi",
        "outputId": "f548fe8c-279c-41a0-9f8a-57546382b9cd"
      },
      "source": [
        "!python setup.py build_ext\n",
        "!pip install ."
      ],
      "execution_count": null,
      "outputs": [
        {
          "output_type": "stream",
          "text": [
            "Compiling src/sent2vec.pyx because it changed.\n",
            "[1/1] Cythonizing src/sent2vec.pyx\n",
            "/usr/local/lib/python3.7/dist-packages/Cython/Compiler/Main.py:369: FutureWarning: Cython directive 'language_level' not set, using 2 for now (Py2). This will change in a later release! File: /content/sent2vec/src/sent2vec.pyx\n",
            "  tree = Parsing.p_module(s, pxd, full_module_name)\n",
            "running build_ext\n",
            "building 'sent2vec' extension\n",
            "creating build\n",
            "creating build/temp.linux-x86_64-3.7\n",
            "creating build/temp.linux-x86_64-3.7/src\n",
            "x86_64-linux-gnu-gcc -pthread -Wno-unused-result -Wsign-compare -DNDEBUG -g -fwrapv -O2 -Wall -g -fdebug-prefix-map=/build/python3.7-a56wZI/python3.7-3.7.10=. -fstack-protector-strong -Wformat -Werror=format-security -g -fdebug-prefix-map=/build/python3.7-a56wZI/python3.7-3.7.10=. -fstack-protector-strong -Wformat -Werror=format-security -Wdate-time -D_FORTIFY_SOURCE=2 -fPIC -Isrc -I/usr/local/lib/python3.7/dist-packages/numpy/core/include -I/usr/include/python3.7m -c src/sent2vec.cpp -o build/temp.linux-x86_64-3.7/src/sent2vec.o -std=c++0x -Wno-cpp -pthread -Wno-sign-compare\n",
            "x86_64-linux-gnu-gcc -pthread -Wno-unused-result -Wsign-compare -DNDEBUG -g -fwrapv -O2 -Wall -g -fdebug-prefix-map=/build/python3.7-a56wZI/python3.7-3.7.10=. -fstack-protector-strong -Wformat -Werror=format-security -g -fdebug-prefix-map=/build/python3.7-a56wZI/python3.7-3.7.10=. -fstack-protector-strong -Wformat -Werror=format-security -Wdate-time -D_FORTIFY_SOURCE=2 -fPIC -Isrc -I/usr/local/lib/python3.7/dist-packages/numpy/core/include -I/usr/include/python3.7m -c src/fasttext.cc -o build/temp.linux-x86_64-3.7/src/fasttext.o -std=c++0x -Wno-cpp -pthread -Wno-sign-compare\n",
            "\u001b[01m\u001b[Ksrc/fasttext.cc:\u001b[m\u001b[K In member function ‘\u001b[01m\u001b[Kvoid fasttext::FastText::findNNSent(const fasttext::Matrix&, const fasttext::Vector&, int32_t, const std::set<std::__cxx11::basic_string<char> >&, int64_t, const std::vector<std::__cxx11::basic_string<char> >&)\u001b[m\u001b[K’:\n",
            "\u001b[01m\u001b[Ksrc/fasttext.cc:781:10:\u001b[m\u001b[K \u001b[01;35m\u001b[Kwarning: \u001b[m\u001b[Kvariable ‘\u001b[01m\u001b[Kit\u001b[m\u001b[K’ set but not used [\u001b[01;35m\u001b[K-Wunused-but-set-variable\u001b[m\u001b[K]\n",
            "     auto \u001b[01;35m\u001b[Kit\u001b[m\u001b[K = banSet.find(heap.top().second);\n",
            "          \u001b[01;35m\u001b[K^~\u001b[m\u001b[K\n",
            "x86_64-linux-gnu-gcc -pthread -Wno-unused-result -Wsign-compare -DNDEBUG -g -fwrapv -O2 -Wall -g -fdebug-prefix-map=/build/python3.7-a56wZI/python3.7-3.7.10=. -fstack-protector-strong -Wformat -Werror=format-security -g -fdebug-prefix-map=/build/python3.7-a56wZI/python3.7-3.7.10=. -fstack-protector-strong -Wformat -Werror=format-security -Wdate-time -D_FORTIFY_SOURCE=2 -fPIC -Isrc -I/usr/local/lib/python3.7/dist-packages/numpy/core/include -I/usr/include/python3.7m -c src/args.cc -o build/temp.linux-x86_64-3.7/src/args.o -std=c++0x -Wno-cpp -pthread -Wno-sign-compare\n",
            "x86_64-linux-gnu-gcc -pthread -Wno-unused-result -Wsign-compare -DNDEBUG -g -fwrapv -O2 -Wall -g -fdebug-prefix-map=/build/python3.7-a56wZI/python3.7-3.7.10=. -fstack-protector-strong -Wformat -Werror=format-security -g -fdebug-prefix-map=/build/python3.7-a56wZI/python3.7-3.7.10=. -fstack-protector-strong -Wformat -Werror=format-security -Wdate-time -D_FORTIFY_SOURCE=2 -fPIC -Isrc -I/usr/local/lib/python3.7/dist-packages/numpy/core/include -I/usr/include/python3.7m -c src/dictionary.cc -o build/temp.linux-x86_64-3.7/src/dictionary.o -std=c++0x -Wno-cpp -pthread -Wno-sign-compare\n",
            "x86_64-linux-gnu-gcc -pthread -Wno-unused-result -Wsign-compare -DNDEBUG -g -fwrapv -O2 -Wall -g -fdebug-prefix-map=/build/python3.7-a56wZI/python3.7-3.7.10=. -fstack-protector-strong -Wformat -Werror=format-security -g -fdebug-prefix-map=/build/python3.7-a56wZI/python3.7-3.7.10=. -fstack-protector-strong -Wformat -Werror=format-security -Wdate-time -D_FORTIFY_SOURCE=2 -fPIC -Isrc -I/usr/local/lib/python3.7/dist-packages/numpy/core/include -I/usr/include/python3.7m -c src/matrix.cc -o build/temp.linux-x86_64-3.7/src/matrix.o -std=c++0x -Wno-cpp -pthread -Wno-sign-compare\n",
            "x86_64-linux-gnu-gcc -pthread -Wno-unused-result -Wsign-compare -DNDEBUG -g -fwrapv -O2 -Wall -g -fdebug-prefix-map=/build/python3.7-a56wZI/python3.7-3.7.10=. -fstack-protector-strong -Wformat -Werror=format-security -g -fdebug-prefix-map=/build/python3.7-a56wZI/python3.7-3.7.10=. -fstack-protector-strong -Wformat -Werror=format-security -Wdate-time -D_FORTIFY_SOURCE=2 -fPIC -Isrc -I/usr/local/lib/python3.7/dist-packages/numpy/core/include -I/usr/include/python3.7m -c src/shmem_matrix.cc -o build/temp.linux-x86_64-3.7/src/shmem_matrix.o -std=c++0x -Wno-cpp -pthread -Wno-sign-compare\n",
            "x86_64-linux-gnu-gcc -pthread -Wno-unused-result -Wsign-compare -DNDEBUG -g -fwrapv -O2 -Wall -g -fdebug-prefix-map=/build/python3.7-a56wZI/python3.7-3.7.10=. -fstack-protector-strong -Wformat -Werror=format-security -g -fdebug-prefix-map=/build/python3.7-a56wZI/python3.7-3.7.10=. -fstack-protector-strong -Wformat -Werror=format-security -Wdate-time -D_FORTIFY_SOURCE=2 -fPIC -Isrc -I/usr/local/lib/python3.7/dist-packages/numpy/core/include -I/usr/include/python3.7m -c src/qmatrix.cc -o build/temp.linux-x86_64-3.7/src/qmatrix.o -std=c++0x -Wno-cpp -pthread -Wno-sign-compare\n",
            "x86_64-linux-gnu-gcc -pthread -Wno-unused-result -Wsign-compare -DNDEBUG -g -fwrapv -O2 -Wall -g -fdebug-prefix-map=/build/python3.7-a56wZI/python3.7-3.7.10=. -fstack-protector-strong -Wformat -Werror=format-security -g -fdebug-prefix-map=/build/python3.7-a56wZI/python3.7-3.7.10=. -fstack-protector-strong -Wformat -Werror=format-security -Wdate-time -D_FORTIFY_SOURCE=2 -fPIC -Isrc -I/usr/local/lib/python3.7/dist-packages/numpy/core/include -I/usr/include/python3.7m -c src/model.cc -o build/temp.linux-x86_64-3.7/src/model.o -std=c++0x -Wno-cpp -pthread -Wno-sign-compare\n",
            "x86_64-linux-gnu-gcc -pthread -Wno-unused-result -Wsign-compare -DNDEBUG -g -fwrapv -O2 -Wall -g -fdebug-prefix-map=/build/python3.7-a56wZI/python3.7-3.7.10=. -fstack-protector-strong -Wformat -Werror=format-security -g -fdebug-prefix-map=/build/python3.7-a56wZI/python3.7-3.7.10=. -fstack-protector-strong -Wformat -Werror=format-security -Wdate-time -D_FORTIFY_SOURCE=2 -fPIC -Isrc -I/usr/local/lib/python3.7/dist-packages/numpy/core/include -I/usr/include/python3.7m -c src/real.cc -o build/temp.linux-x86_64-3.7/src/real.o -std=c++0x -Wno-cpp -pthread -Wno-sign-compare\n",
            "x86_64-linux-gnu-gcc -pthread -Wno-unused-result -Wsign-compare -DNDEBUG -g -fwrapv -O2 -Wall -g -fdebug-prefix-map=/build/python3.7-a56wZI/python3.7-3.7.10=. -fstack-protector-strong -Wformat -Werror=format-security -g -fdebug-prefix-map=/build/python3.7-a56wZI/python3.7-3.7.10=. -fstack-protector-strong -Wformat -Werror=format-security -Wdate-time -D_FORTIFY_SOURCE=2 -fPIC -Isrc -I/usr/local/lib/python3.7/dist-packages/numpy/core/include -I/usr/include/python3.7m -c src/utils.cc -o build/temp.linux-x86_64-3.7/src/utils.o -std=c++0x -Wno-cpp -pthread -Wno-sign-compare\n",
            "x86_64-linux-gnu-gcc -pthread -Wno-unused-result -Wsign-compare -DNDEBUG -g -fwrapv -O2 -Wall -g -fdebug-prefix-map=/build/python3.7-a56wZI/python3.7-3.7.10=. -fstack-protector-strong -Wformat -Werror=format-security -g -fdebug-prefix-map=/build/python3.7-a56wZI/python3.7-3.7.10=. -fstack-protector-strong -Wformat -Werror=format-security -Wdate-time -D_FORTIFY_SOURCE=2 -fPIC -Isrc -I/usr/local/lib/python3.7/dist-packages/numpy/core/include -I/usr/include/python3.7m -c src/vector.cc -o build/temp.linux-x86_64-3.7/src/vector.o -std=c++0x -Wno-cpp -pthread -Wno-sign-compare\n",
            "x86_64-linux-gnu-gcc -pthread -Wno-unused-result -Wsign-compare -DNDEBUG -g -fwrapv -O2 -Wall -g -fdebug-prefix-map=/build/python3.7-a56wZI/python3.7-3.7.10=. -fstack-protector-strong -Wformat -Werror=format-security -g -fdebug-prefix-map=/build/python3.7-a56wZI/python3.7-3.7.10=. -fstack-protector-strong -Wformat -Werror=format-security -Wdate-time -D_FORTIFY_SOURCE=2 -fPIC -Isrc -I/usr/local/lib/python3.7/dist-packages/numpy/core/include -I/usr/include/python3.7m -c src/real.cc -o build/temp.linux-x86_64-3.7/src/real.o -std=c++0x -Wno-cpp -pthread -Wno-sign-compare\n",
            "x86_64-linux-gnu-gcc -pthread -Wno-unused-result -Wsign-compare -DNDEBUG -g -fwrapv -O2 -Wall -g -fdebug-prefix-map=/build/python3.7-a56wZI/python3.7-3.7.10=. -fstack-protector-strong -Wformat -Werror=format-security -g -fdebug-prefix-map=/build/python3.7-a56wZI/python3.7-3.7.10=. -fstack-protector-strong -Wformat -Werror=format-security -Wdate-time -D_FORTIFY_SOURCE=2 -fPIC -Isrc -I/usr/local/lib/python3.7/dist-packages/numpy/core/include -I/usr/include/python3.7m -c src/productquantizer.cc -o build/temp.linux-x86_64-3.7/src/productquantizer.o -std=c++0x -Wno-cpp -pthread -Wno-sign-compare\n",
            "creating build/lib.linux-x86_64-3.7\n",
            "x86_64-linux-gnu-g++ -pthread -shared -Wl,-O1 -Wl,-Bsymbolic-functions -Wl,-Bsymbolic-functions -Wl,-z,relro -Wl,-Bsymbolic-functions -Wl,-z,relro -g -fdebug-prefix-map=/build/python3.7-a56wZI/python3.7-3.7.10=. -fstack-protector-strong -Wformat -Werror=format-security -Wdate-time -D_FORTIFY_SOURCE=2 build/temp.linux-x86_64-3.7/src/sent2vec.o build/temp.linux-x86_64-3.7/src/fasttext.o build/temp.linux-x86_64-3.7/src/args.o build/temp.linux-x86_64-3.7/src/dictionary.o build/temp.linux-x86_64-3.7/src/matrix.o build/temp.linux-x86_64-3.7/src/shmem_matrix.o build/temp.linux-x86_64-3.7/src/qmatrix.o build/temp.linux-x86_64-3.7/src/model.o build/temp.linux-x86_64-3.7/src/real.o build/temp.linux-x86_64-3.7/src/utils.o build/temp.linux-x86_64-3.7/src/vector.o build/temp.linux-x86_64-3.7/src/real.o build/temp.linux-x86_64-3.7/src/productquantizer.o -lrt -o build/lib.linux-x86_64-3.7/sent2vec.cpython-37m-x86_64-linux-gnu.so\n",
            "Processing /content/sent2vec\n",
            "Building wheels for collected packages: sent2vec\n",
            "  Building wheel for sent2vec (setup.py) ... \u001b[?25l\u001b[?25hdone\n",
            "  Created wheel for sent2vec: filename=sent2vec-0.0.0-cp37-cp37m-linux_x86_64.whl size=1130643 sha256=4978a18923219511a977521e951fd3380336824cfcb560a993357b42ac987949\n",
            "  Stored in directory: /tmp/pip-ephem-wheel-cache-4hn3g6ic/wheels/b1/65/d7/f2c679e0086741bea69f0c4478303b6506bbf4c78dea82f565\n",
            "Successfully built sent2vec\n",
            "Installing collected packages: sent2vec\n",
            "Successfully installed sent2vec-0.0.0\n"
          ],
          "name": "stdout"
        }
      ]
    },
    {
      "cell_type": "code",
      "metadata": {
        "id": "TecVH75V1d2r"
      },
      "source": [
        "import sent2vec\n",
        "from nltk import word_tokenize\n",
        "from nltk.corpus import stopwords\n",
        "from string import punctuation\n",
        "from scipy.spatial import distance"
      ],
      "execution_count": null,
      "outputs": []
    },
    {
      "cell_type": "code",
      "metadata": {
        "colab": {
          "base_uri": "https://localhost:8080/"
        },
        "id": "rc419PC93CiW",
        "outputId": "49e80ba4-8ee0-47f7-e527-cebf86945e50"
      },
      "source": [
        "model_path = '/content/drive/Shareddrives/CAPSTONE/Resources/BioSentVec_PubMed_MIMICIII-bigram_d700.bin'\n",
        "model = sent2vec.Sent2vecModel()\n",
        "try:\n",
        "    model.load_model(model_path)\n",
        "except Exception as e:\n",
        "    print(e)\n",
        "print('model successfully loaded')"
      ],
      "execution_count": null,
      "outputs": [
        {
          "output_type": "stream",
          "text": [
            "model successfully loaded\n"
          ],
          "name": "stdout"
        }
      ]
    },
    {
      "cell_type": "code",
      "metadata": {
        "colab": {
          "base_uri": "https://localhost:8080/"
        },
        "id": "26r-uNyw8Vcb",
        "outputId": "31713541-b45e-4c35-8284-fb42b0d75363"
      },
      "source": [
        "import nltk\n",
        "from nltk.corpus import stopwords\n",
        "from nltk import word_tokenize\n",
        "nltk.download('stopwords')"
      ],
      "execution_count": null,
      "outputs": [
        {
          "output_type": "stream",
          "text": [
            "[nltk_data] Downloading package stopwords to /root/nltk_data...\n",
            "[nltk_data]   Unzipping corpora/stopwords.zip.\n"
          ],
          "name": "stdout"
        },
        {
          "output_type": "execute_result",
          "data": {
            "text/plain": [
              "True"
            ]
          },
          "metadata": {
            "tags": []
          },
          "execution_count": 18
        }
      ]
    },
    {
      "cell_type": "code",
      "metadata": {
        "id": "6XMWIJEd8L46"
      },
      "source": [
        "stop_words = set(stopwords.words('english'))\n",
        "def preprocess_sentence(text):\n",
        "    text = text.replace('/', ' / ')\n",
        "    text = text.replace('.-', ' .- ')\n",
        "    text = text.replace('.', ' . ')\n",
        "    text = text.replace('\\'', ' \\' ')\n",
        "    text = text.lower()\n",
        "\n",
        "    tokens = [token for token in word_tokenize(text) if token not in punctuation and token not in stop_words]\n",
        "\n",
        "    return ' '.join(tokens)"
      ],
      "execution_count": null,
      "outputs": []
    },
    {
      "cell_type": "code",
      "metadata": {
        "colab": {
          "base_uri": "https://localhost:8080/"
        },
        "id": "AiLeaEu78f4S",
        "outputId": "b073a74a-bd6c-41fe-eccc-edcef8bc07af"
      },
      "source": [
        "\n",
        "sentence = preprocess_sentence('Breast cancers with HER2 amplification have a higher risk of CNS metastasis and poorer prognosis.')\n",
        "print(sentence)"
      ],
      "execution_count": null,
      "outputs": [
        {
          "output_type": "stream",
          "text": [
            "breast cancers her2 amplification higher risk cns metastasis poorer prognosis\n"
          ],
          "name": "stdout"
        }
      ]
    },
    {
      "cell_type": "code",
      "metadata": {
        "colab": {
          "base_uri": "https://localhost:8080/"
        },
        "id": "N-e73aEv8u9U",
        "outputId": "b2eb70e0-8f3f-45cc-87b6-dc242500e9df"
      },
      "source": [
        "sentence_vector = model.embed_sentence(cleanText(docs.iloc[0].fulltext))\n",
        "print(sentence_vector)"
      ],
      "execution_count": null,
      "outputs": [
        {
          "output_type": "stream",
          "text": [
            "[[ 8.45276043e-02 -6.87525123e-02 -1.06800728e-01  1.02193626e-02\n",
            "   9.78189334e-02  3.15079391e-02 -1.59355462e-01 -1.11872004e-02\n",
            "  -2.25515272e-02  1.31053194e-01 -3.38694528e-02  9.62441042e-02\n",
            "  -6.52141720e-02  1.03560194e-01 -2.28478715e-01  1.16908528e-01\n",
            "   1.34467185e-01  5.45061739e-05  1.06577247e-01 -5.38287275e-02\n",
            "   2.56129857e-02 -1.08107403e-01  1.73410311e-01 -9.63028744e-02\n",
            "   4.81515341e-02 -8.13638791e-02 -3.32979001e-02 -9.13036019e-02\n",
            "  -3.06553133e-02  9.41503048e-02  3.22709382e-02  1.03148110e-01\n",
            "  -3.46005745e-02  3.56390998e-02  2.55638584e-02 -1.19112611e-01\n",
            "   2.11183980e-01  8.58275127e-03 -1.87927917e-01 -2.09158659e-01\n",
            "  -6.89666569e-02  6.03563823e-02 -1.16714150e-01 -2.67234109e-02\n",
            "   7.03885183e-02 -4.17933278e-02  8.71311203e-02  4.21305001e-02\n",
            "   3.39420587e-02  5.39152212e-02 -8.23790282e-02  8.41117799e-02\n",
            "   1.80534851e-02  4.68766689e-02 -2.03267083e-01 -8.17626417e-02\n",
            "  -1.16171055e-01 -9.79005322e-02  6.47702664e-02  1.26641124e-01\n",
            "  -1.14824072e-01 -5.00844531e-02  5.23135103e-02  1.29823145e-02\n",
            "  -3.84417176e-02 -1.20769933e-01  1.19870640e-01  1.63919881e-01\n",
            "  -1.29844829e-01 -1.89216454e-02 -8.25709030e-02 -7.67870769e-02\n",
            "   3.47583927e-02 -1.29623160e-01 -1.80317846e-03  1.37450948e-01\n",
            "   1.02088355e-01  5.75669147e-02 -5.20648574e-03  6.36707321e-02\n",
            "   8.56094137e-02 -6.53059557e-02  4.70722690e-02 -6.17375448e-02\n",
            "  -1.47209123e-01  5.84404857e-04  5.45790680e-02  6.58928305e-02\n",
            "  -4.66380827e-02 -3.84442285e-02 -1.97427571e-02 -5.25489338e-02\n",
            "   5.00113629e-02 -6.19529076e-02  1.60329007e-02 -9.88723040e-02\n",
            "  -3.19546610e-02  2.60925833e-02  5.11985458e-02 -9.58054140e-02\n",
            "   4.76373620e-02  6.04510233e-02 -7.21194521e-02 -5.14201969e-02\n",
            "   5.87259308e-02  1.14937261e-01 -6.23783804e-02  3.45814452e-02\n",
            "   2.99019483e-03  1.31613106e-01  1.45350128e-01 -1.16869010e-01\n",
            "  -2.42740847e-03 -2.01119762e-02 -2.52831466e-02  7.34371394e-02\n",
            "   2.80622905e-03 -1.52349882e-02 -1.41958326e-01  5.86641096e-02\n",
            "   2.07746662e-02 -3.19457264e-03  6.99118897e-02 -6.61079586e-02\n",
            "  -2.88773631e-03 -6.26683012e-02  3.15424502e-02  5.98514527e-02\n",
            "  -1.15769163e-01 -2.32788175e-02 -7.66355591e-03  5.64706661e-02\n",
            "   1.65113375e-01 -8.63156617e-02 -8.38494673e-03 -1.22050252e-02\n",
            "  -9.24660712e-02 -1.57750636e-01 -2.70913783e-02  6.02721274e-02\n",
            "   6.42377743e-03  1.77804567e-02 -2.02363431e-02  1.09890088e-01\n",
            "  -5.31223640e-02 -1.25055891e-02  1.61470741e-01  3.85233127e-02\n",
            "   5.22799119e-02  3.28627713e-02 -2.44148076e-03  9.51106772e-02\n",
            "   2.07579192e-02  7.44982809e-02  1.85729917e-02 -3.23578231e-02\n",
            "  -7.81039521e-02 -3.47207412e-02  2.77078804e-03 -4.40407991e-02\n",
            "   9.57953185e-02  2.99075153e-02 -3.99612524e-02  7.32575059e-02\n",
            "   5.36643565e-02 -6.98504969e-02  4.16784324e-02 -3.94669808e-02\n",
            "  -4.77614924e-02 -7.54336342e-02 -4.31709327e-02  6.31747469e-02\n",
            "  -9.62971449e-02  2.30374150e-02  8.99512768e-02 -3.08299740e-03\n",
            "  -4.34709303e-02 -2.97470689e-02 -1.52722858e-02  4.19308022e-02\n",
            "  -3.84640694e-02  6.62313029e-02 -3.53403240e-02 -7.20611513e-02\n",
            "  -1.64200634e-01 -1.48072243e-01  3.73764746e-02 -1.14929855e-01\n",
            "   2.86434144e-02 -1.60402179e-01  2.28789467e-02 -3.94205004e-02\n",
            "   7.90944174e-02  7.38910511e-02  3.94773483e-02  4.88325693e-02\n",
            "  -5.34353592e-02 -5.27612492e-02  1.31809560e-04 -7.91712403e-02\n",
            "   9.94037651e-03  1.05949834e-01  7.68111423e-02 -3.44486274e-02\n",
            "  -3.21112908e-02  1.96598858e-01 -3.95764969e-02 -1.78381018e-02\n",
            "   1.48064151e-01 -1.68814156e-02  7.61776865e-02  8.35445896e-02\n",
            "  -5.44703938e-02  5.88798076e-02 -7.47904852e-02  3.33197340e-02\n",
            "   2.17618585e-01 -1.85291678e-01 -1.88634589e-01  1.55879691e-01\n",
            "  -1.62487179e-02 -7.93677196e-03 -3.38811353e-02  6.58839718e-02\n",
            "   9.49015245e-02  5.12626320e-02 -1.22015245e-01  1.64217930e-02\n",
            "   1.77591871e-02 -5.48141301e-02  5.48519753e-02 -1.55333313e-03\n",
            "   2.58492753e-02  3.94134559e-02 -6.85415864e-02 -1.49775043e-01\n",
            "   5.58453687e-02 -9.87877487e-04 -8.51147249e-02  1.19737878e-01\n",
            "  -6.13492541e-02  1.06774807e-01 -2.91617848e-02  7.57948309e-02\n",
            "   7.15396320e-03  1.29186645e-01 -5.32773323e-02  2.49184240e-02\n",
            "   7.66257942e-02 -2.75813072e-04  6.60398379e-02  6.54689744e-02\n",
            "  -6.05547540e-02  7.87493810e-02 -1.31044105e-01  5.88292666e-02\n",
            "   5.56088313e-02  5.14007024e-02  1.84381418e-02  1.54011939e-02\n",
            "   1.52091637e-01  7.56476745e-02  4.91245799e-02 -3.06225568e-02\n",
            "  -3.41497664e-03 -8.67678970e-03 -3.03968508e-02  4.43305001e-02\n",
            "   3.85869071e-02 -1.28943458e-01  4.37339619e-02 -1.31002059e-02\n",
            "   2.90148146e-02 -3.58830020e-03 -5.69839887e-02  1.15888994e-02\n",
            "   6.84822500e-02 -1.43024877e-01 -1.73987448e-03  1.03091240e-01\n",
            "   6.18485324e-02  2.90638767e-03 -1.85275488e-02  8.33334327e-02\n",
            "   1.49441570e-01  7.83412904e-02 -5.24659175e-03  9.22252610e-02\n",
            "  -9.54032503e-03  1.38102144e-01 -1.89008974e-02  9.26588327e-02\n",
            "   2.05148339e-01  3.10864719e-03  4.33729589e-02  4.79713082e-02\n",
            "  -1.31734107e-02  1.06942944e-01  1.54581383e-01  1.75016403e-01\n",
            "   5.13237156e-02  2.35477239e-02 -7.84655288e-02  4.68239114e-02\n",
            "   9.39574279e-03 -6.62414506e-02 -1.47814497e-01 -7.46666119e-02\n",
            "   1.03509255e-01 -7.67704770e-02 -1.64007932e-01  1.16368502e-01\n",
            "   1.25217810e-02  1.70866355e-01 -1.43147307e-03  3.37439254e-02\n",
            "   2.02421322e-02 -9.26220343e-02  6.98308125e-02 -5.28220683e-02\n",
            "   5.61008826e-02 -1.99724603e-02  1.27757983e-02 -5.71905673e-02\n",
            "  -6.67653307e-02  1.07231915e-01  7.79770911e-02 -1.34523377e-01\n",
            "  -6.32654876e-02  7.07730949e-02 -1.65776294e-02 -2.75611077e-02\n",
            "   4.77709174e-02 -1.64515916e-02  5.13086021e-02  1.03515005e-02\n",
            "   1.99876223e-02  4.49284837e-02  3.50516997e-02  5.70085719e-02\n",
            "  -6.76347092e-02 -1.87830385e-02  6.94752559e-02  3.53333429e-02\n",
            "  -1.50072649e-02 -1.63705368e-03 -3.06529514e-02  1.86025258e-02\n",
            "  -5.55266291e-02 -5.85922673e-02 -8.47159103e-02 -2.97282860e-02\n",
            "  -1.47822946e-01 -9.46018472e-02  6.08380772e-02 -2.22856060e-01\n",
            "   1.10875599e-01 -3.41092944e-02  2.68300958e-02  4.53353636e-02\n",
            "  -7.29281828e-02  5.06521277e-02  1.17723988e-02  3.65654230e-02\n",
            "  -1.54618081e-02  9.09027532e-02 -8.59370281e-04 -2.79306043e-02\n",
            "  -1.36860441e-02 -4.12434712e-02 -1.22034159e-02 -1.77251883e-02\n",
            "  -6.70255199e-02 -3.45289372e-02  2.43874732e-02 -1.40571922e-01\n",
            "   3.12511511e-02  9.45306718e-02  2.79808808e-02 -4.18007337e-02\n",
            "  -7.22697675e-02  2.86136568e-02 -3.78205776e-02 -3.93078700e-02\n",
            "   1.23557396e-01  1.11704841e-02 -3.94071192e-02 -5.93525171e-02\n",
            "  -7.92730823e-02 -8.03888217e-02 -4.60458640e-03  1.75524093e-02\n",
            "   1.62272438e-01  6.05711229e-02 -9.70797315e-02 -5.88687658e-02\n",
            "  -1.22452810e-01  9.09460895e-03  3.53155620e-02  3.89496773e-03\n",
            "   5.01511842e-02  7.81667233e-02  3.02454806e-03  4.38621752e-02\n",
            "  -1.16636585e-02  5.13563603e-02 -1.16771132e-01 -1.37845157e-02\n",
            "  -1.87426042e-02  2.00562999e-02 -8.25776607e-02  1.63936347e-01\n",
            "  -4.23503406e-02 -9.15535092e-02  5.87576069e-02  5.00405300e-03\n",
            "  -2.27692407e-02 -9.56164524e-02  9.16721206e-03  5.22560328e-02\n",
            "   1.85682252e-01  1.67932324e-02  7.23072737e-02 -6.02457263e-02\n",
            "   5.62704392e-02  8.60563070e-02  1.64182588e-01 -1.78892668e-02\n",
            "   4.63196412e-02  5.94840273e-02 -4.04157303e-02 -2.68677832e-03\n",
            "  -8.82648081e-02  5.22267818e-03 -8.66381973e-02 -4.06742953e-02\n",
            "   3.49216089e-02 -1.21675298e-01 -1.25524541e-02  6.45007491e-02\n",
            "  -1.19183987e-01  5.67520149e-02 -2.28658784e-02 -4.00166698e-02\n",
            "   5.03651500e-02  1.95910856e-02 -3.38003449e-02 -7.48665705e-02\n",
            "  -8.46984163e-02 -8.85662362e-02 -1.45675451e-01  6.81981444e-02\n",
            "   9.25030652e-03  5.40083349e-02  8.78857449e-02  3.72499079e-02\n",
            "  -3.48888747e-02 -3.57338712e-02  8.10652822e-02  7.06767570e-03\n",
            "  -1.78049300e-02 -1.04775671e-02 -2.84513906e-02  2.53427345e-02\n",
            "   6.19241735e-03 -1.07727787e-02  3.71714756e-02  4.78780828e-04\n",
            "  -1.22047961e-02  3.82718444e-02 -7.09410161e-02 -8.71340558e-02\n",
            "  -3.18857245e-02 -2.75883228e-02 -7.03587756e-02 -1.16585635e-01\n",
            "   4.10938002e-02  9.11464635e-03  1.30813327e-02  4.65913229e-02\n",
            "   1.25509445e-02  2.33541559e-02 -3.07088401e-02 -5.15187159e-02\n",
            "   6.15521781e-02 -1.09000783e-03  5.81383333e-02  7.64706209e-02\n",
            "  -1.05527923e-01  5.33803776e-02 -1.40612721e-01  7.19867125e-02\n",
            "   4.30098437e-02  3.64441089e-02 -3.98207456e-02 -4.54315804e-02\n",
            "  -1.99416559e-02  2.06633639e-02 -9.03590545e-02 -1.75817218e-03\n",
            "   3.04452442e-02  5.91684543e-02  5.90454228e-02  7.29080243e-03\n",
            "  -1.69465803e-02  5.09036258e-02 -1.71110891e-02 -5.02716675e-02\n",
            "  -9.78341177e-02  1.91226155e-01  6.18859902e-02 -1.63041744e-02\n",
            "  -2.37395447e-02  8.01443383e-02 -1.20915927e-01  3.31426896e-02\n",
            "   5.21070510e-03  3.93105671e-02 -5.12955375e-02 -4.03026454e-02\n",
            "  -9.24244616e-03  1.04823243e-02  2.91000167e-03 -2.98379660e-02\n",
            "  -1.49773210e-01 -1.17365094e-02 -6.31207451e-02 -1.58844683e-02\n",
            "  -6.98884055e-02 -4.93140444e-02 -9.47870836e-02  4.15553572e-03\n",
            "   5.14606908e-02  6.22184351e-02  6.36494011e-02 -4.58092317e-02\n",
            "  -5.27459830e-02 -1.26190037e-01 -3.43474522e-02  7.32847229e-02\n",
            "  -7.60830864e-02 -6.48644269e-02  6.08601198e-02  7.95564204e-02\n",
            "  -2.03396324e-02  5.63771604e-03 -2.72762049e-02 -2.65586432e-02\n",
            "   2.54390743e-02 -6.21296354e-02 -1.86789166e-02 -9.80494246e-02\n",
            "  -2.73833498e-02  9.62276384e-02  3.03389155e-03  3.53344567e-02\n",
            "   6.70715719e-02 -3.15215588e-02  6.59694448e-02  5.78073645e-03\n",
            "  -5.86435050e-02  9.27563608e-02  4.07301150e-02 -6.42804280e-02\n",
            "   5.07744076e-03 -2.19680313e-02  6.60845637e-02  1.36336330e-02\n",
            "   7.43499920e-02  1.81392506e-01 -1.08637484e-02  1.21913608e-02\n",
            "   8.08347482e-03  1.23852482e-02 -1.50863424e-01  1.71346441e-02\n",
            "  -1.37419635e-02 -3.06034479e-02  3.83724049e-02 -3.20949107e-02\n",
            "  -1.20439909e-01  2.31019780e-02  7.89456889e-02  1.89413309e-01\n",
            "   1.40818311e-02  5.42583987e-02 -1.61726847e-02  8.04639608e-02\n",
            "  -4.70768064e-02  2.98816971e-02  6.15767650e-02 -4.33770679e-02\n",
            "   2.13735197e-02 -8.92858431e-02  3.24728787e-02 -2.67235320e-02\n",
            "  -3.89357619e-02  6.17757114e-03 -6.98831007e-02  1.03801101e-01\n",
            "   1.19342795e-02  4.21225280e-02 -1.11961635e-02  7.87254721e-02\n",
            "   5.93334390e-03 -6.98516443e-02  5.67074269e-02  1.04912750e-01\n",
            "   5.90254664e-02  4.01326567e-02 -6.64766282e-02  3.83668281e-02\n",
            "   3.32978144e-02 -7.22681209e-02  2.98582688e-02 -4.05150987e-02\n",
            "   3.24208625e-02 -8.87710527e-02  5.48774041e-02  1.65609084e-02\n",
            "  -5.92390113e-02  1.14183150e-01  7.30690733e-02  2.52825078e-02\n",
            "   3.53762805e-02 -1.21446602e-01  4.74115685e-02  2.60100011e-02\n",
            "   1.12249590e-01  1.56282205e-02  1.88092589e-02 -1.24684190e-02\n",
            "  -4.79210205e-02  1.02855330e-02 -3.05484347e-02 -5.54539375e-02\n",
            "  -4.77199070e-02  4.25054831e-03  1.79438312e-02  1.30285963e-01\n",
            "   7.43668452e-02 -6.18983209e-02  3.03087570e-02  2.10421402e-02\n",
            "   6.11579232e-02 -1.36734014e-02  5.75575326e-03 -9.08395499e-02\n",
            "   1.84841514e-01  1.04358524e-01  4.76897620e-02  2.33946983e-02\n",
            "  -1.46973401e-01 -4.06854786e-03 -1.31776119e-02 -6.78004250e-02\n",
            "  -1.08903371e-01  6.40816838e-02 -2.05543474e-05  9.86524224e-02\n",
            "  -5.26063628e-02 -4.20053750e-02  1.88588854e-02 -1.40719891e-01\n",
            "  -1.40594587e-01  4.28694375e-02  6.87515140e-02  1.36194881e-02\n",
            "  -8.00680369e-02 -1.03914872e-01 -6.83761984e-02 -5.26703261e-02\n",
            "   4.30472977e-02  1.63465887e-02 -1.21515609e-01  6.59808517e-02\n",
            "  -1.82664413e-02  4.41930164e-03 -6.46698922e-02  2.45468821e-02\n",
            "   4.22320515e-02  1.28451604e-02  1.72160137e-02  1.45734409e-02\n",
            "   5.13366051e-02 -5.21276221e-02  4.46639918e-02 -2.12440491e-02\n",
            "  -1.20715471e-02  2.26680506e-02 -4.32105400e-02 -1.03414871e-01\n",
            "  -1.51026761e-03  3.66373323e-02  3.62900533e-02  7.39613548e-02\n",
            "  -3.20475176e-02 -2.40566507e-02 -5.02095893e-02  1.48874167e-02]]\n"
          ],
          "name": "stdout"
        }
      ]
    },
    {
      "cell_type": "code",
      "metadata": {
        "id": "Q-gdjMUhIYTn"
      },
      "source": [
        "# Function for pubmeb vectors\n",
        "# consider scaling the vectors?\n",
        "def vec_from_model(model, df):\n",
        "    labels = []\n",
        "    vectors = []\n",
        "    for i in range(len(df)):\n",
        "      labels.append(df.iloc[i].label)\n",
        "      vectors.append(model.embed_sentence(cleanText(docs.iloc[i].fulltext))[0])\n",
        "    return labels, vectors"
      ],
      "execution_count": null,
      "outputs": []
    },
    {
      "cell_type": "markdown",
      "metadata": {
        "id": "FH1z83uaJod4"
      },
      "source": [
        "Repeated k-fold cross validation"
      ]
    },
    {
      "cell_type": "code",
      "metadata": {
        "colab": {
          "base_uri": "https://localhost:8080/"
        },
        "id": "8QrwOd_rn5zv",
        "outputId": "d0aded28-0369-4af4-af3f-9996f4f882e8"
      },
      "source": [
        "accuracy = []\n",
        "f1 = []\n",
        "mean_acc = []\n",
        "mean_f1 = []\n",
        "train_dict = dict()\n",
        "test_dict = dict()\n",
        "train_f1_dict = dict()\n",
        "test_f1_dict = dict()\n",
        "kfold = StratifiedKFold(n_splits=6, shuffle=True)\n",
        "C = [10000, 1000, 100, 10, 1, .1,.01,.001]\n",
        "for term in C:\n",
        "  train_dict[term] = []\n",
        "  test_dict[term] = []\n",
        "  train_f1_dict[term] = []\n",
        "  test_f1_dict[term] = []\n",
        "  for i in range(5):\n",
        "    test_acc = []\n",
        "    train_acc = []\n",
        "    train_f1 = []\n",
        "    test_f1 = []\n",
        "    for train, test in kfold.split(docs['fulltext'], docs['label']):\n",
        "      # set up the model below\n",
        "      train, test = docs.iloc[train], docs.iloc[test]\n",
        "      \n",
        "      y_train, X_train = vec_from_model(model, train)\n",
        "      y_test, X_test = vec_from_model(model, test)\n",
        "\n",
        "      logreg = LogisticRegression(penalty = 'l1', n_jobs=1, C=term, max_iter = 600, solver='saga')\n",
        "      logreg.fit(X_train, y_train)\n",
        "      y_pred = logreg.predict(X_test)\n",
        "      y_train_pred = logreg.predict(X_train)\n",
        "      from sklearn.metrics import accuracy_score, f1_score\n",
        "      # print('Testing accuracy %s' % accuracy_score(y_test, y_pred))\n",
        "      # print('Testing F1 score: {}'.format(f1_score(y_test, y_pred, average='weighted')))\n",
        "      test_acc.append(accuracy_score(y_test, y_pred))\n",
        "      train_acc.append(accuracy_score(y_train, y_train_pred))\n",
        "      test_f1.append(f1_score(y_test, y_pred, average='weighted'))\n",
        "      train_f1.append(f1_score(y_train, y_train_pred, average='weighted'))\n",
        "      # y_preds.append(y_pred)\n",
        "      # y_tests.append(y_test)\n",
        "    train_dict[term].append(train_acc)\n",
        "    test_dict[term].append(test_acc)\n",
        "    train_f1_dict[term].append(train_f1)\n",
        "    test_f1_dict[term].append(test_f1)\n",
        "\n",
        "print(\"Mean accuracy: \", np.mean(accuracy))\n",
        "print(\"Mean F1: \", np.mean(f1))"
      ],
      "execution_count": null,
      "outputs": [
        {
          "output_type": "stream",
          "text": [
            "/usr/local/lib/python3.7/dist-packages/sklearn/linear_model/_sag.py:330: ConvergenceWarning: The max_iter was reached which means the coef_ did not converge\n",
            "  \"the coef_ did not converge\", ConvergenceWarning)\n",
            "/usr/local/lib/python3.7/dist-packages/sklearn/linear_model/_sag.py:330: ConvergenceWarning: The max_iter was reached which means the coef_ did not converge\n",
            "  \"the coef_ did not converge\", ConvergenceWarning)\n",
            "/usr/local/lib/python3.7/dist-packages/sklearn/linear_model/_sag.py:330: ConvergenceWarning: The max_iter was reached which means the coef_ did not converge\n",
            "  \"the coef_ did not converge\", ConvergenceWarning)\n",
            "/usr/local/lib/python3.7/dist-packages/sklearn/linear_model/_sag.py:330: ConvergenceWarning: The max_iter was reached which means the coef_ did not converge\n",
            "  \"the coef_ did not converge\", ConvergenceWarning)\n",
            "/usr/local/lib/python3.7/dist-packages/sklearn/linear_model/_sag.py:330: ConvergenceWarning: The max_iter was reached which means the coef_ did not converge\n",
            "  \"the coef_ did not converge\", ConvergenceWarning)\n",
            "/usr/local/lib/python3.7/dist-packages/sklearn/linear_model/_sag.py:330: ConvergenceWarning: The max_iter was reached which means the coef_ did not converge\n",
            "  \"the coef_ did not converge\", ConvergenceWarning)\n",
            "/usr/local/lib/python3.7/dist-packages/sklearn/linear_model/_sag.py:330: ConvergenceWarning: The max_iter was reached which means the coef_ did not converge\n",
            "  \"the coef_ did not converge\", ConvergenceWarning)\n",
            "/usr/local/lib/python3.7/dist-packages/sklearn/linear_model/_sag.py:330: ConvergenceWarning: The max_iter was reached which means the coef_ did not converge\n",
            "  \"the coef_ did not converge\", ConvergenceWarning)\n",
            "/usr/local/lib/python3.7/dist-packages/sklearn/linear_model/_sag.py:330: ConvergenceWarning: The max_iter was reached which means the coef_ did not converge\n",
            "  \"the coef_ did not converge\", ConvergenceWarning)\n",
            "/usr/local/lib/python3.7/dist-packages/sklearn/linear_model/_sag.py:330: ConvergenceWarning: The max_iter was reached which means the coef_ did not converge\n",
            "  \"the coef_ did not converge\", ConvergenceWarning)\n",
            "/usr/local/lib/python3.7/dist-packages/sklearn/linear_model/_sag.py:330: ConvergenceWarning: The max_iter was reached which means the coef_ did not converge\n",
            "  \"the coef_ did not converge\", ConvergenceWarning)\n",
            "/usr/local/lib/python3.7/dist-packages/sklearn/linear_model/_sag.py:330: ConvergenceWarning: The max_iter was reached which means the coef_ did not converge\n",
            "  \"the coef_ did not converge\", ConvergenceWarning)\n",
            "/usr/local/lib/python3.7/dist-packages/sklearn/linear_model/_sag.py:330: ConvergenceWarning: The max_iter was reached which means the coef_ did not converge\n",
            "  \"the coef_ did not converge\", ConvergenceWarning)\n",
            "/usr/local/lib/python3.7/dist-packages/sklearn/linear_model/_sag.py:330: ConvergenceWarning: The max_iter was reached which means the coef_ did not converge\n",
            "  \"the coef_ did not converge\", ConvergenceWarning)\n",
            "/usr/local/lib/python3.7/dist-packages/sklearn/linear_model/_sag.py:330: ConvergenceWarning: The max_iter was reached which means the coef_ did not converge\n",
            "  \"the coef_ did not converge\", ConvergenceWarning)\n",
            "/usr/local/lib/python3.7/dist-packages/sklearn/linear_model/_sag.py:330: ConvergenceWarning: The max_iter was reached which means the coef_ did not converge\n",
            "  \"the coef_ did not converge\", ConvergenceWarning)\n",
            "/usr/local/lib/python3.7/dist-packages/sklearn/linear_model/_sag.py:330: ConvergenceWarning: The max_iter was reached which means the coef_ did not converge\n",
            "  \"the coef_ did not converge\", ConvergenceWarning)\n",
            "/usr/local/lib/python3.7/dist-packages/sklearn/linear_model/_sag.py:330: ConvergenceWarning: The max_iter was reached which means the coef_ did not converge\n",
            "  \"the coef_ did not converge\", ConvergenceWarning)\n",
            "/usr/local/lib/python3.7/dist-packages/sklearn/linear_model/_sag.py:330: ConvergenceWarning: The max_iter was reached which means the coef_ did not converge\n",
            "  \"the coef_ did not converge\", ConvergenceWarning)\n",
            "/usr/local/lib/python3.7/dist-packages/sklearn/linear_model/_sag.py:330: ConvergenceWarning: The max_iter was reached which means the coef_ did not converge\n",
            "  \"the coef_ did not converge\", ConvergenceWarning)\n",
            "/usr/local/lib/python3.7/dist-packages/sklearn/linear_model/_sag.py:330: ConvergenceWarning: The max_iter was reached which means the coef_ did not converge\n",
            "  \"the coef_ did not converge\", ConvergenceWarning)\n",
            "/usr/local/lib/python3.7/dist-packages/sklearn/linear_model/_sag.py:330: ConvergenceWarning: The max_iter was reached which means the coef_ did not converge\n",
            "  \"the coef_ did not converge\", ConvergenceWarning)\n",
            "/usr/local/lib/python3.7/dist-packages/sklearn/linear_model/_sag.py:330: ConvergenceWarning: The max_iter was reached which means the coef_ did not converge\n",
            "  \"the coef_ did not converge\", ConvergenceWarning)\n",
            "/usr/local/lib/python3.7/dist-packages/sklearn/linear_model/_sag.py:330: ConvergenceWarning: The max_iter was reached which means the coef_ did not converge\n",
            "  \"the coef_ did not converge\", ConvergenceWarning)\n",
            "/usr/local/lib/python3.7/dist-packages/sklearn/linear_model/_sag.py:330: ConvergenceWarning: The max_iter was reached which means the coef_ did not converge\n",
            "  \"the coef_ did not converge\", ConvergenceWarning)\n",
            "/usr/local/lib/python3.7/dist-packages/sklearn/linear_model/_sag.py:330: ConvergenceWarning: The max_iter was reached which means the coef_ did not converge\n",
            "  \"the coef_ did not converge\", ConvergenceWarning)\n",
            "/usr/local/lib/python3.7/dist-packages/sklearn/linear_model/_sag.py:330: ConvergenceWarning: The max_iter was reached which means the coef_ did not converge\n",
            "  \"the coef_ did not converge\", ConvergenceWarning)\n",
            "/usr/local/lib/python3.7/dist-packages/sklearn/linear_model/_sag.py:330: ConvergenceWarning: The max_iter was reached which means the coef_ did not converge\n",
            "  \"the coef_ did not converge\", ConvergenceWarning)\n",
            "/usr/local/lib/python3.7/dist-packages/sklearn/linear_model/_sag.py:330: ConvergenceWarning: The max_iter was reached which means the coef_ did not converge\n",
            "  \"the coef_ did not converge\", ConvergenceWarning)\n",
            "/usr/local/lib/python3.7/dist-packages/sklearn/linear_model/_sag.py:330: ConvergenceWarning: The max_iter was reached which means the coef_ did not converge\n",
            "  \"the coef_ did not converge\", ConvergenceWarning)\n",
            "/usr/local/lib/python3.7/dist-packages/sklearn/linear_model/_sag.py:330: ConvergenceWarning: The max_iter was reached which means the coef_ did not converge\n",
            "  \"the coef_ did not converge\", ConvergenceWarning)\n",
            "/usr/local/lib/python3.7/dist-packages/sklearn/linear_model/_sag.py:330: ConvergenceWarning: The max_iter was reached which means the coef_ did not converge\n",
            "  \"the coef_ did not converge\", ConvergenceWarning)\n",
            "/usr/local/lib/python3.7/dist-packages/sklearn/linear_model/_sag.py:330: ConvergenceWarning: The max_iter was reached which means the coef_ did not converge\n",
            "  \"the coef_ did not converge\", ConvergenceWarning)\n",
            "/usr/local/lib/python3.7/dist-packages/sklearn/linear_model/_sag.py:330: ConvergenceWarning: The max_iter was reached which means the coef_ did not converge\n",
            "  \"the coef_ did not converge\", ConvergenceWarning)\n",
            "/usr/local/lib/python3.7/dist-packages/sklearn/linear_model/_sag.py:330: ConvergenceWarning: The max_iter was reached which means the coef_ did not converge\n",
            "  \"the coef_ did not converge\", ConvergenceWarning)\n",
            "/usr/local/lib/python3.7/dist-packages/sklearn/linear_model/_sag.py:330: ConvergenceWarning: The max_iter was reached which means the coef_ did not converge\n",
            "  \"the coef_ did not converge\", ConvergenceWarning)\n",
            "/usr/local/lib/python3.7/dist-packages/sklearn/linear_model/_sag.py:330: ConvergenceWarning: The max_iter was reached which means the coef_ did not converge\n",
            "  \"the coef_ did not converge\", ConvergenceWarning)\n",
            "/usr/local/lib/python3.7/dist-packages/sklearn/linear_model/_sag.py:330: ConvergenceWarning: The max_iter was reached which means the coef_ did not converge\n",
            "  \"the coef_ did not converge\", ConvergenceWarning)\n",
            "/usr/local/lib/python3.7/dist-packages/sklearn/linear_model/_sag.py:330: ConvergenceWarning: The max_iter was reached which means the coef_ did not converge\n",
            "  \"the coef_ did not converge\", ConvergenceWarning)\n",
            "/usr/local/lib/python3.7/dist-packages/sklearn/linear_model/_sag.py:330: ConvergenceWarning: The max_iter was reached which means the coef_ did not converge\n",
            "  \"the coef_ did not converge\", ConvergenceWarning)\n",
            "/usr/local/lib/python3.7/dist-packages/sklearn/linear_model/_sag.py:330: ConvergenceWarning: The max_iter was reached which means the coef_ did not converge\n",
            "  \"the coef_ did not converge\", ConvergenceWarning)\n",
            "/usr/local/lib/python3.7/dist-packages/sklearn/linear_model/_sag.py:330: ConvergenceWarning: The max_iter was reached which means the coef_ did not converge\n",
            "  \"the coef_ did not converge\", ConvergenceWarning)\n",
            "/usr/local/lib/python3.7/dist-packages/sklearn/linear_model/_sag.py:330: ConvergenceWarning: The max_iter was reached which means the coef_ did not converge\n",
            "  \"the coef_ did not converge\", ConvergenceWarning)\n",
            "/usr/local/lib/python3.7/dist-packages/sklearn/linear_model/_sag.py:330: ConvergenceWarning: The max_iter was reached which means the coef_ did not converge\n",
            "  \"the coef_ did not converge\", ConvergenceWarning)\n",
            "/usr/local/lib/python3.7/dist-packages/sklearn/linear_model/_sag.py:330: ConvergenceWarning: The max_iter was reached which means the coef_ did not converge\n",
            "  \"the coef_ did not converge\", ConvergenceWarning)\n",
            "/usr/local/lib/python3.7/dist-packages/sklearn/linear_model/_sag.py:330: ConvergenceWarning: The max_iter was reached which means the coef_ did not converge\n",
            "  \"the coef_ did not converge\", ConvergenceWarning)\n",
            "/usr/local/lib/python3.7/dist-packages/sklearn/linear_model/_sag.py:330: ConvergenceWarning: The max_iter was reached which means the coef_ did not converge\n",
            "  \"the coef_ did not converge\", ConvergenceWarning)\n",
            "/usr/local/lib/python3.7/dist-packages/sklearn/linear_model/_sag.py:330: ConvergenceWarning: The max_iter was reached which means the coef_ did not converge\n",
            "  \"the coef_ did not converge\", ConvergenceWarning)\n",
            "/usr/local/lib/python3.7/dist-packages/sklearn/linear_model/_sag.py:330: ConvergenceWarning: The max_iter was reached which means the coef_ did not converge\n",
            "  \"the coef_ did not converge\", ConvergenceWarning)\n",
            "/usr/local/lib/python3.7/dist-packages/sklearn/linear_model/_sag.py:330: ConvergenceWarning: The max_iter was reached which means the coef_ did not converge\n",
            "  \"the coef_ did not converge\", ConvergenceWarning)\n",
            "/usr/local/lib/python3.7/dist-packages/sklearn/linear_model/_sag.py:330: ConvergenceWarning: The max_iter was reached which means the coef_ did not converge\n",
            "  \"the coef_ did not converge\", ConvergenceWarning)\n",
            "/usr/local/lib/python3.7/dist-packages/sklearn/linear_model/_sag.py:330: ConvergenceWarning: The max_iter was reached which means the coef_ did not converge\n",
            "  \"the coef_ did not converge\", ConvergenceWarning)\n",
            "/usr/local/lib/python3.7/dist-packages/sklearn/linear_model/_sag.py:330: ConvergenceWarning: The max_iter was reached which means the coef_ did not converge\n",
            "  \"the coef_ did not converge\", ConvergenceWarning)\n",
            "/usr/local/lib/python3.7/dist-packages/sklearn/linear_model/_sag.py:330: ConvergenceWarning: The max_iter was reached which means the coef_ did not converge\n",
            "  \"the coef_ did not converge\", ConvergenceWarning)\n",
            "/usr/local/lib/python3.7/dist-packages/sklearn/linear_model/_sag.py:330: ConvergenceWarning: The max_iter was reached which means the coef_ did not converge\n",
            "  \"the coef_ did not converge\", ConvergenceWarning)\n",
            "/usr/local/lib/python3.7/dist-packages/sklearn/linear_model/_sag.py:330: ConvergenceWarning: The max_iter was reached which means the coef_ did not converge\n",
            "  \"the coef_ did not converge\", ConvergenceWarning)\n",
            "/usr/local/lib/python3.7/dist-packages/sklearn/linear_model/_sag.py:330: ConvergenceWarning: The max_iter was reached which means the coef_ did not converge\n",
            "  \"the coef_ did not converge\", ConvergenceWarning)\n",
            "/usr/local/lib/python3.7/dist-packages/sklearn/linear_model/_sag.py:330: ConvergenceWarning: The max_iter was reached which means the coef_ did not converge\n",
            "  \"the coef_ did not converge\", ConvergenceWarning)\n",
            "/usr/local/lib/python3.7/dist-packages/sklearn/linear_model/_sag.py:330: ConvergenceWarning: The max_iter was reached which means the coef_ did not converge\n",
            "  \"the coef_ did not converge\", ConvergenceWarning)\n",
            "/usr/local/lib/python3.7/dist-packages/sklearn/linear_model/_sag.py:330: ConvergenceWarning: The max_iter was reached which means the coef_ did not converge\n",
            "  \"the coef_ did not converge\", ConvergenceWarning)\n",
            "/usr/local/lib/python3.7/dist-packages/sklearn/linear_model/_sag.py:330: ConvergenceWarning: The max_iter was reached which means the coef_ did not converge\n",
            "  \"the coef_ did not converge\", ConvergenceWarning)\n",
            "/usr/local/lib/python3.7/dist-packages/sklearn/linear_model/_sag.py:330: ConvergenceWarning: The max_iter was reached which means the coef_ did not converge\n",
            "  \"the coef_ did not converge\", ConvergenceWarning)\n",
            "/usr/local/lib/python3.7/dist-packages/sklearn/linear_model/_sag.py:330: ConvergenceWarning: The max_iter was reached which means the coef_ did not converge\n",
            "  \"the coef_ did not converge\", ConvergenceWarning)\n",
            "/usr/local/lib/python3.7/dist-packages/sklearn/linear_model/_sag.py:330: ConvergenceWarning: The max_iter was reached which means the coef_ did not converge\n",
            "  \"the coef_ did not converge\", ConvergenceWarning)\n",
            "/usr/local/lib/python3.7/dist-packages/sklearn/linear_model/_sag.py:330: ConvergenceWarning: The max_iter was reached which means the coef_ did not converge\n",
            "  \"the coef_ did not converge\", ConvergenceWarning)\n",
            "/usr/local/lib/python3.7/dist-packages/sklearn/linear_model/_sag.py:330: ConvergenceWarning: The max_iter was reached which means the coef_ did not converge\n",
            "  \"the coef_ did not converge\", ConvergenceWarning)\n",
            "/usr/local/lib/python3.7/dist-packages/sklearn/linear_model/_sag.py:330: ConvergenceWarning: The max_iter was reached which means the coef_ did not converge\n",
            "  \"the coef_ did not converge\", ConvergenceWarning)\n",
            "/usr/local/lib/python3.7/dist-packages/sklearn/linear_model/_sag.py:330: ConvergenceWarning: The max_iter was reached which means the coef_ did not converge\n",
            "  \"the coef_ did not converge\", ConvergenceWarning)\n",
            "/usr/local/lib/python3.7/dist-packages/sklearn/linear_model/_sag.py:330: ConvergenceWarning: The max_iter was reached which means the coef_ did not converge\n",
            "  \"the coef_ did not converge\", ConvergenceWarning)\n",
            "/usr/local/lib/python3.7/dist-packages/sklearn/linear_model/_sag.py:330: ConvergenceWarning: The max_iter was reached which means the coef_ did not converge\n",
            "  \"the coef_ did not converge\", ConvergenceWarning)\n",
            "/usr/local/lib/python3.7/dist-packages/sklearn/linear_model/_sag.py:330: ConvergenceWarning: The max_iter was reached which means the coef_ did not converge\n",
            "  \"the coef_ did not converge\", ConvergenceWarning)\n",
            "/usr/local/lib/python3.7/dist-packages/sklearn/linear_model/_sag.py:330: ConvergenceWarning: The max_iter was reached which means the coef_ did not converge\n",
            "  \"the coef_ did not converge\", ConvergenceWarning)\n",
            "/usr/local/lib/python3.7/dist-packages/sklearn/linear_model/_sag.py:330: ConvergenceWarning: The max_iter was reached which means the coef_ did not converge\n",
            "  \"the coef_ did not converge\", ConvergenceWarning)\n",
            "/usr/local/lib/python3.7/dist-packages/sklearn/linear_model/_sag.py:330: ConvergenceWarning: The max_iter was reached which means the coef_ did not converge\n",
            "  \"the coef_ did not converge\", ConvergenceWarning)\n",
            "/usr/local/lib/python3.7/dist-packages/sklearn/linear_model/_sag.py:330: ConvergenceWarning: The max_iter was reached which means the coef_ did not converge\n",
            "  \"the coef_ did not converge\", ConvergenceWarning)\n",
            "/usr/local/lib/python3.7/dist-packages/sklearn/linear_model/_sag.py:330: ConvergenceWarning: The max_iter was reached which means the coef_ did not converge\n",
            "  \"the coef_ did not converge\", ConvergenceWarning)\n",
            "/usr/local/lib/python3.7/dist-packages/sklearn/linear_model/_sag.py:330: ConvergenceWarning: The max_iter was reached which means the coef_ did not converge\n",
            "  \"the coef_ did not converge\", ConvergenceWarning)\n",
            "/usr/local/lib/python3.7/dist-packages/sklearn/linear_model/_sag.py:330: ConvergenceWarning: The max_iter was reached which means the coef_ did not converge\n",
            "  \"the coef_ did not converge\", ConvergenceWarning)\n",
            "/usr/local/lib/python3.7/dist-packages/sklearn/linear_model/_sag.py:330: ConvergenceWarning: The max_iter was reached which means the coef_ did not converge\n",
            "  \"the coef_ did not converge\", ConvergenceWarning)\n",
            "/usr/local/lib/python3.7/dist-packages/sklearn/linear_model/_sag.py:330: ConvergenceWarning: The max_iter was reached which means the coef_ did not converge\n",
            "  \"the coef_ did not converge\", ConvergenceWarning)\n",
            "/usr/local/lib/python3.7/dist-packages/sklearn/linear_model/_sag.py:330: ConvergenceWarning: The max_iter was reached which means the coef_ did not converge\n",
            "  \"the coef_ did not converge\", ConvergenceWarning)\n",
            "/usr/local/lib/python3.7/dist-packages/sklearn/linear_model/_sag.py:330: ConvergenceWarning: The max_iter was reached which means the coef_ did not converge\n",
            "  \"the coef_ did not converge\", ConvergenceWarning)\n",
            "/usr/local/lib/python3.7/dist-packages/sklearn/linear_model/_sag.py:330: ConvergenceWarning: The max_iter was reached which means the coef_ did not converge\n",
            "  \"the coef_ did not converge\", ConvergenceWarning)\n",
            "/usr/local/lib/python3.7/dist-packages/sklearn/linear_model/_sag.py:330: ConvergenceWarning: The max_iter was reached which means the coef_ did not converge\n",
            "  \"the coef_ did not converge\", ConvergenceWarning)\n",
            "/usr/local/lib/python3.7/dist-packages/sklearn/linear_model/_sag.py:330: ConvergenceWarning: The max_iter was reached which means the coef_ did not converge\n",
            "  \"the coef_ did not converge\", ConvergenceWarning)\n",
            "/usr/local/lib/python3.7/dist-packages/sklearn/linear_model/_sag.py:330: ConvergenceWarning: The max_iter was reached which means the coef_ did not converge\n",
            "  \"the coef_ did not converge\", ConvergenceWarning)\n",
            "/usr/local/lib/python3.7/dist-packages/sklearn/linear_model/_sag.py:330: ConvergenceWarning: The max_iter was reached which means the coef_ did not converge\n",
            "  \"the coef_ did not converge\", ConvergenceWarning)\n",
            "/usr/local/lib/python3.7/dist-packages/sklearn/linear_model/_sag.py:330: ConvergenceWarning: The max_iter was reached which means the coef_ did not converge\n",
            "  \"the coef_ did not converge\", ConvergenceWarning)\n",
            "/usr/local/lib/python3.7/dist-packages/sklearn/linear_model/_sag.py:330: ConvergenceWarning: The max_iter was reached which means the coef_ did not converge\n",
            "  \"the coef_ did not converge\", ConvergenceWarning)\n",
            "/usr/local/lib/python3.7/dist-packages/sklearn/linear_model/_sag.py:330: ConvergenceWarning: The max_iter was reached which means the coef_ did not converge\n",
            "  \"the coef_ did not converge\", ConvergenceWarning)\n",
            "/usr/local/lib/python3.7/dist-packages/sklearn/linear_model/_sag.py:330: ConvergenceWarning: The max_iter was reached which means the coef_ did not converge\n",
            "  \"the coef_ did not converge\", ConvergenceWarning)\n",
            "/usr/local/lib/python3.7/dist-packages/sklearn/linear_model/_sag.py:330: ConvergenceWarning: The max_iter was reached which means the coef_ did not converge\n",
            "  \"the coef_ did not converge\", ConvergenceWarning)\n",
            "/usr/local/lib/python3.7/dist-packages/sklearn/linear_model/_sag.py:330: ConvergenceWarning: The max_iter was reached which means the coef_ did not converge\n",
            "  \"the coef_ did not converge\", ConvergenceWarning)\n",
            "/usr/local/lib/python3.7/dist-packages/sklearn/linear_model/_sag.py:330: ConvergenceWarning: The max_iter was reached which means the coef_ did not converge\n",
            "  \"the coef_ did not converge\", ConvergenceWarning)\n",
            "/usr/local/lib/python3.7/dist-packages/sklearn/linear_model/_sag.py:330: ConvergenceWarning: The max_iter was reached which means the coef_ did not converge\n",
            "  \"the coef_ did not converge\", ConvergenceWarning)\n",
            "/usr/local/lib/python3.7/dist-packages/sklearn/linear_model/_sag.py:330: ConvergenceWarning: The max_iter was reached which means the coef_ did not converge\n",
            "  \"the coef_ did not converge\", ConvergenceWarning)\n",
            "/usr/local/lib/python3.7/dist-packages/sklearn/linear_model/_sag.py:330: ConvergenceWarning: The max_iter was reached which means the coef_ did not converge\n",
            "  \"the coef_ did not converge\", ConvergenceWarning)\n",
            "/usr/local/lib/python3.7/dist-packages/sklearn/linear_model/_sag.py:330: ConvergenceWarning: The max_iter was reached which means the coef_ did not converge\n",
            "  \"the coef_ did not converge\", ConvergenceWarning)\n",
            "/usr/local/lib/python3.7/dist-packages/sklearn/linear_model/_sag.py:330: ConvergenceWarning: The max_iter was reached which means the coef_ did not converge\n",
            "  \"the coef_ did not converge\", ConvergenceWarning)\n",
            "/usr/local/lib/python3.7/dist-packages/sklearn/linear_model/_sag.py:330: ConvergenceWarning: The max_iter was reached which means the coef_ did not converge\n",
            "  \"the coef_ did not converge\", ConvergenceWarning)\n",
            "/usr/local/lib/python3.7/dist-packages/sklearn/linear_model/_sag.py:330: ConvergenceWarning: The max_iter was reached which means the coef_ did not converge\n",
            "  \"the coef_ did not converge\", ConvergenceWarning)\n",
            "/usr/local/lib/python3.7/dist-packages/sklearn/linear_model/_sag.py:330: ConvergenceWarning: The max_iter was reached which means the coef_ did not converge\n",
            "  \"the coef_ did not converge\", ConvergenceWarning)\n",
            "/usr/local/lib/python3.7/dist-packages/sklearn/linear_model/_sag.py:330: ConvergenceWarning: The max_iter was reached which means the coef_ did not converge\n",
            "  \"the coef_ did not converge\", ConvergenceWarning)\n",
            "/usr/local/lib/python3.7/dist-packages/sklearn/linear_model/_sag.py:330: ConvergenceWarning: The max_iter was reached which means the coef_ did not converge\n",
            "  \"the coef_ did not converge\", ConvergenceWarning)\n",
            "/usr/local/lib/python3.7/dist-packages/sklearn/linear_model/_sag.py:330: ConvergenceWarning: The max_iter was reached which means the coef_ did not converge\n",
            "  \"the coef_ did not converge\", ConvergenceWarning)\n",
            "/usr/local/lib/python3.7/dist-packages/sklearn/linear_model/_sag.py:330: ConvergenceWarning: The max_iter was reached which means the coef_ did not converge\n",
            "  \"the coef_ did not converge\", ConvergenceWarning)\n",
            "/usr/local/lib/python3.7/dist-packages/sklearn/linear_model/_sag.py:330: ConvergenceWarning: The max_iter was reached which means the coef_ did not converge\n",
            "  \"the coef_ did not converge\", ConvergenceWarning)\n",
            "/usr/local/lib/python3.7/dist-packages/sklearn/linear_model/_sag.py:330: ConvergenceWarning: The max_iter was reached which means the coef_ did not converge\n",
            "  \"the coef_ did not converge\", ConvergenceWarning)\n",
            "/usr/local/lib/python3.7/dist-packages/sklearn/linear_model/_sag.py:330: ConvergenceWarning: The max_iter was reached which means the coef_ did not converge\n",
            "  \"the coef_ did not converge\", ConvergenceWarning)\n",
            "/usr/local/lib/python3.7/dist-packages/sklearn/linear_model/_sag.py:330: ConvergenceWarning: The max_iter was reached which means the coef_ did not converge\n",
            "  \"the coef_ did not converge\", ConvergenceWarning)\n",
            "/usr/local/lib/python3.7/dist-packages/sklearn/linear_model/_sag.py:330: ConvergenceWarning: The max_iter was reached which means the coef_ did not converge\n",
            "  \"the coef_ did not converge\", ConvergenceWarning)\n",
            "/usr/local/lib/python3.7/dist-packages/sklearn/linear_model/_sag.py:330: ConvergenceWarning: The max_iter was reached which means the coef_ did not converge\n",
            "  \"the coef_ did not converge\", ConvergenceWarning)\n",
            "/usr/local/lib/python3.7/dist-packages/sklearn/linear_model/_sag.py:330: ConvergenceWarning: The max_iter was reached which means the coef_ did not converge\n",
            "  \"the coef_ did not converge\", ConvergenceWarning)\n",
            "/usr/local/lib/python3.7/dist-packages/sklearn/linear_model/_sag.py:330: ConvergenceWarning: The max_iter was reached which means the coef_ did not converge\n",
            "  \"the coef_ did not converge\", ConvergenceWarning)\n",
            "/usr/local/lib/python3.7/dist-packages/sklearn/linear_model/_sag.py:330: ConvergenceWarning: The max_iter was reached which means the coef_ did not converge\n",
            "  \"the coef_ did not converge\", ConvergenceWarning)\n",
            "/usr/local/lib/python3.7/dist-packages/sklearn/linear_model/_sag.py:330: ConvergenceWarning: The max_iter was reached which means the coef_ did not converge\n",
            "  \"the coef_ did not converge\", ConvergenceWarning)\n",
            "/usr/local/lib/python3.7/dist-packages/sklearn/linear_model/_sag.py:330: ConvergenceWarning: The max_iter was reached which means the coef_ did not converge\n",
            "  \"the coef_ did not converge\", ConvergenceWarning)\n",
            "/usr/local/lib/python3.7/dist-packages/sklearn/linear_model/_sag.py:330: ConvergenceWarning: The max_iter was reached which means the coef_ did not converge\n",
            "  \"the coef_ did not converge\", ConvergenceWarning)\n",
            "/usr/local/lib/python3.7/dist-packages/sklearn/linear_model/_sag.py:330: ConvergenceWarning: The max_iter was reached which means the coef_ did not converge\n",
            "  \"the coef_ did not converge\", ConvergenceWarning)\n",
            "/usr/local/lib/python3.7/dist-packages/sklearn/linear_model/_sag.py:330: ConvergenceWarning: The max_iter was reached which means the coef_ did not converge\n",
            "  \"the coef_ did not converge\", ConvergenceWarning)\n"
          ],
          "name": "stderr"
        },
        {
          "output_type": "stream",
          "text": [
            "Mean accuracy:  nan\n",
            "Mean F1:  nan\n"
          ],
          "name": "stdout"
        },
        {
          "output_type": "stream",
          "text": [
            "/usr/local/lib/python3.7/dist-packages/numpy/core/fromnumeric.py:3373: RuntimeWarning: Mean of empty slice.\n",
            "  out=out, **kwargs)\n",
            "/usr/local/lib/python3.7/dist-packages/numpy/core/_methods.py:170: RuntimeWarning: invalid value encountered in double_scalars\n",
            "  ret = ret.dtype.type(ret / rcount)\n"
          ],
          "name": "stderr"
        }
      ]
    },
    {
      "cell_type": "code",
      "metadata": {
        "colab": {
          "base_uri": "https://localhost:8080/"
        },
        "id": "E_vj4s8xwa5x",
        "outputId": "01920a9e-5ca0-4541-c2c0-b61b04d38334"
      },
      "source": [
        "for key in test_dict:\n",
        "  print(\"Key: \", key, \" Values: \", str(test_f1_dict[key]))"
      ],
      "execution_count": null,
      "outputs": [
        {
          "output_type": "stream",
          "text": [
            "Key:  10000  Values:  [[0.3652173913043478, 0.38215102974828374, 0.45414673046251997, 0.3684210526315789, 0.35240274599542337, 0.4651847008826414], [0.4444444444444445, 0.4295521412226218, 0.2296650717703349, 0.42162471395881, 0.3508771929824562, 0.3859649122807018], [0.4, 0.40421052631578946, 0.48086124401913877, 0.518796992481203, 0.5982456140350877, 0.5146198830409358], [0.3, 0.4821837201699902, 0.3684210526315789, 0.3684210526315789, 0.47368421052631576, 0.41901856089499107], [0.35, 0.3295194508009153, 0.43935926773455375, 0.3844393592677346, 0.5087719298245613, 0.38596491228070173]]\n",
            "Key:  1000  Values:  [[0.4153846153846154, 0.6483253588516746, 0.4295521412226218, 0.42105263157894735, 0.3546910755148741, 0.3684210526315789], [0.35, 0.4788329519450801, 0.3684210526315789, 0.3031578947368421, 0.402745995423341, 0.2673350041771095], [0.49444444444444446, 0.5295848316443281, 0.42105263157894735, 0.3844393592677346, 0.3684210526315789, 0.6716791979949874], [0.3730769230769231, 0.4746649231775091, 0.44138755980861244, 0.3844393592677346, 0.47368421052631576, 0.2631578947368421], [0.4, 0.4661654135338346, 0.3295194508009153, 0.4956140350877193, 0.4619883040935673, 0.3020594965675057]]\n",
            "Key:  100  Values:  [[0.3, 0.42105263157894735, 0.518796992481203, 0.4084668192219679, 0.2631578947368421, 0.3157894736842105], [0.25, 0.2745995423340961, 0.5131578947368421, 0.4295521412226218, 0.47368421052631576, 0.42105263157894735], [0.556280193236715, 0.5073684210526315, 0.4788329519450801, 0.5578947368421053, 0.38095238095238093, 0.3684210526315789], [0.45, 0.4239130434782609, 0.42105263157894735, 0.47368421052631576, 0.412553121935273, 0.46783625730994155], [0.5, 0.34449760765550236, 0.49880382775119614, 0.3684210526315789, 0.5606407322654462, 0.40789473684210525]]\n",
            "Key:  10  Values:  [[0.46451612903225803, 0.45112781954887216, 0.46315789473684216, 0.47912885662431937, 0.4135338345864662, 0.682261208576998], [0.4258064516129032, 0.47912885662431937, 0.4661654135338345, 0.5037593984962406, 0.3992740471869329, 0.3992740471869329], [0.44000000000000006, 0.43557168784029043, 0.43557168784029043, 0.604251012145749, 0.3992740471869329, 0.43920145190562615], [0.44000000000000006, 0.47912885662431937, 0.45112781954887216, 0.4889643463497453, 0.4245614035087719, 0.38596491228070173], [0.4, 0.406015037593985, 0.46315789473684216, 0.45112781954887216, 0.3992740471869329, 0.4245614035087719]]\n",
            "Key:  1  Values:  [[0.4499999999999999, 0.4889643463497453, 0.4889643463497453, 0.4889643463497453, 0.4245614035087719, 0.4245614035087719], [0.4499999999999999, 0.4889643463497453, 0.4889643463497453, 0.4889643463497453, 0.4245614035087719, 0.4245614035087719], [0.4499999999999999, 0.4889643463497453, 0.4889643463497453, 0.4889643463497453, 0.4245614035087719, 0.4245614035087719], [0.4499999999999999, 0.4889643463497453, 0.4889643463497453, 0.4889643463497453, 0.4245614035087719, 0.4245614035087719], [0.4499999999999999, 0.4889643463497453, 0.4889643463497453, 0.4889643463497453, 0.4245614035087719, 0.4245614035087719]]\n",
            "Key:  0.1  Values:  [[0.4499999999999999, 0.4889643463497453, 0.4889643463497453, 0.4889643463497453, 0.4245614035087719, 0.4245614035087719], [0.4499999999999999, 0.4889643463497453, 0.4889643463497453, 0.4889643463497453, 0.4245614035087719, 0.4245614035087719], [0.4499999999999999, 0.4889643463497453, 0.4889643463497453, 0.4889643463497453, 0.4245614035087719, 0.4245614035087719], [0.4499999999999999, 0.4889643463497453, 0.4889643463497453, 0.4889643463497453, 0.4245614035087719, 0.4245614035087719], [0.4499999999999999, 0.4889643463497453, 0.4889643463497453, 0.4889643463497453, 0.4245614035087719, 0.4245614035087719]]\n",
            "Key:  0.01  Values:  [[0.4499999999999999, 0.4889643463497453, 0.4889643463497453, 0.4889643463497453, 0.4245614035087719, 0.4245614035087719], [0.4499999999999999, 0.4889643463497453, 0.4889643463497453, 0.4889643463497453, 0.4245614035087719, 0.4245614035087719], [0.4499999999999999, 0.4889643463497453, 0.4889643463497453, 0.4889643463497453, 0.4245614035087719, 0.4245614035087719], [0.4499999999999999, 0.4889643463497453, 0.4889643463497453, 0.4889643463497453, 0.4245614035087719, 0.4245614035087719], [0.4499999999999999, 0.4889643463497453, 0.4889643463497453, 0.4889643463497453, 0.4245614035087719, 0.4245614035087719]]\n",
            "Key:  0.001  Values:  [[0.4499999999999999, 0.4889643463497453, 0.4889643463497453, 0.4889643463497453, 0.4245614035087719, 0.4245614035087719], [0.4499999999999999, 0.4889643463497453, 0.4889643463497453, 0.4889643463497453, 0.4245614035087719, 0.4245614035087719], [0.4499999999999999, 0.4889643463497453, 0.4889643463497453, 0.4889643463497453, 0.4245614035087719, 0.4245614035087719], [0.4499999999999999, 0.4889643463497453, 0.4889643463497453, 0.4889643463497453, 0.4245614035087719, 0.4245614035087719], [0.4499999999999999, 0.4889643463497453, 0.4889643463497453, 0.4889643463497453, 0.4245614035087719, 0.4245614035087719]]\n"
          ],
          "name": "stdout"
        }
      ]
    },
    {
      "cell_type": "code",
      "metadata": {
        "colab": {
          "base_uri": "https://localhost:8080/"
        },
        "id": "ZkwGfPSYwqpV",
        "outputId": "db88f9f7-3f98-460f-e057-757aaeaae2ab"
      },
      "source": [
        "train_dict[0.001]"
      ],
      "execution_count": null,
      "outputs": [
        {
          "output_type": "execute_result",
          "data": {
            "text/plain": [
              "[[0.6105263157894737,\n",
              "  0.6041666666666666,\n",
              "  0.6041666666666666,\n",
              "  0.6041666666666666,\n",
              "  0.6145833333333334,\n",
              "  0.6145833333333334],\n",
              " [0.6105263157894737,\n",
              "  0.6041666666666666,\n",
              "  0.6041666666666666,\n",
              "  0.6041666666666666,\n",
              "  0.6145833333333334,\n",
              "  0.6145833333333334],\n",
              " [0.6105263157894737,\n",
              "  0.6041666666666666,\n",
              "  0.6041666666666666,\n",
              "  0.6041666666666666,\n",
              "  0.6145833333333334,\n",
              "  0.6145833333333334],\n",
              " [0.6105263157894737,\n",
              "  0.6041666666666666,\n",
              "  0.6041666666666666,\n",
              "  0.6041666666666666,\n",
              "  0.6145833333333334,\n",
              "  0.6145833333333334],\n",
              " [0.6105263157894737,\n",
              "  0.6041666666666666,\n",
              "  0.6041666666666666,\n",
              "  0.6041666666666666,\n",
              "  0.6145833333333334,\n",
              "  0.6145833333333334]]"
            ]
          },
          "metadata": {
            "tags": []
          },
          "execution_count": 34
        }
      ]
    },
    {
      "cell_type": "code",
      "metadata": {
        "id": "JXyrAp66FTtL"
      },
      "source": [
        "mean_test_acc = []\n",
        "mean_train_acc = []\n",
        "mean_test_f1 = []\n",
        "mean_train_f1 = []\n",
        "for key in train_dict:\n",
        "  mean_test_acc.append(np.mean([np.mean(i) for i in test_dict[key]]))\n",
        "  mean_train_acc.append(np.mean([np.mean(i) for i in train_dict[key]]))\n",
        "  mean_test_f1.append(np.mean([np.mean(i) for i in test_f1_dict[key]]))\n",
        "  mean_train_f1.append(np.mean([np.mean(i) for i in train_f1_dict[key]]))"
      ],
      "execution_count": null,
      "outputs": []
    },
    {
      "cell_type": "code",
      "metadata": {
        "colab": {
          "base_uri": "https://localhost:8080/"
        },
        "id": "7OU8Kcn9FsQk",
        "outputId": "a9f8bfc9-444f-4962-d79f-6173b9875a00"
      },
      "source": [
        "mean_test_acc"
      ],
      "execution_count": null,
      "outputs": [
        {
          "output_type": "execute_result",
          "data": {
            "text/plain": [
              "[0.41078947368421054,\n",
              " 0.41912280701754384,\n",
              " 0.42622807017543857,\n",
              " 0.5583333333333333,\n",
              " 0.6087719298245614,\n",
              " 0.6087719298245614,\n",
              " 0.6087719298245614,\n",
              " 0.6087719298245614]"
            ]
          },
          "metadata": {
            "tags": []
          },
          "execution_count": 43
        }
      ]
    },
    {
      "cell_type": "code",
      "metadata": {
        "colab": {
          "base_uri": "https://localhost:8080/"
        },
        "id": "5hFYY6xEFxcw",
        "outputId": "e5e962cf-c432-461a-beeb-a09e2d03e18f"
      },
      "source": [
        "mean_test_f1"
      ],
      "execution_count": null,
      "outputs": [
        {
          "output_type": "execute_result",
          "data": {
            "text/plain": [
              "[0.41253899681130807,\n",
              " 0.4181099620779255,\n",
              " 0.42561190635790175,\n",
              " 0.45316291285178745,\n",
              " 0.4610026410111299,\n",
              " 0.4610026410111299,\n",
              " 0.4610026410111299,\n",
              " 0.4610026410111299]"
            ]
          },
          "metadata": {
            "tags": []
          },
          "execution_count": 67
        }
      ]
    },
    {
      "cell_type": "code",
      "metadata": {
        "colab": {
          "base_uri": "https://localhost:8080/",
          "height": 563
        },
        "id": "PavwmiWnGAom",
        "outputId": "bd83992d-ec3e-4bb2-ccde-29bcabbc8bf7"
      },
      "source": [
        "import matplotlib.pyplot as plt\n",
        "\n",
        "fig, ax = plt.subplots(figsize=(13,9))\n",
        "plt.semilogx(C, mean_train_acc, label='Train')\n",
        "plt.semilogx(C, mean_test_acc, label='Test')\n",
        "plt.ylim([0, 1.2])\n",
        "plt.vlines(10, plt.ylim()[0], 0.5583333333333333, color='k',\n",
        "           linewidth=3, label='Optimum on test')\n",
        "plt.xlabel('Inverse Regularization Strength', fontsize=14)\n",
        "plt.ylabel('Accuracy', fontsize=14)\n",
        "plt.legend(loc='lower left')\n",
        "plt.show()"
      ],
      "execution_count": null,
      "outputs": [
        {
          "output_type": "display_data",
          "data": {
            "image/png": "[encoded data removed]",
            "text/plain": [
              "<Figure size 936x648 with 1 Axes>"
            ]
          },
          "metadata": {
            "tags": [],
            "needs_background": "light"
          }
        }
      ]
    },
    {
      "cell_type": "code",
      "metadata": {
        "colab": {
          "base_uri": "https://localhost:8080/",
          "height": 563
        },
        "id": "5bFT-IMc7CgR",
        "outputId": "8d7845f4-1194-43fe-c56d-a47bb7193151"
      },
      "source": [
        "import matplotlib.pyplot as plt\n",
        "\n",
        "fig, ax = plt.subplots(figsize=(13,9))\n",
        "plt.semilogx(C, mean_train_f1, label='Train')\n",
        "plt.semilogx(C, mean_test_f1, label='Test')\n",
        "plt.ylim([0, 1.2])\n",
        "plt.vlines(10, plt.ylim()[0], 0.45316291285178745, color='k',\n",
        "           linewidth=3, label='Optimum on test')\n",
        "plt.xlabel('Inverse Regularization Strength', fontsize=14)\n",
        "plt.ylabel('Accuracy', fontsize=14)\n",
        "plt.legend(loc='lower left')\n",
        "plt.show()"
      ],
      "execution_count": null,
      "outputs": [
        {
          "output_type": "display_data",
          "data": {
            "image/png": "[encoded data removed]",
            "text/plain": [
              "<Figure size 936x648 with 1 Axes>"
            ]
          },
          "metadata": {
            "tags": [],
            "needs_background": "light"
          }
        }
      ]
    }
  ]
}