{
  "nbformat": 4,
  "nbformat_minor": 0,
  "metadata": {
    "colab": {
      "name": "Untitled3.ipynb",
      "provenance": [],
      "mount_file_id": "https://github.com/kerryqliu/stats170/blob/irene/document-ai.ipynb",
      "authorship_tag": "ABX9TyOMRjXtBCCF7xwwkrC9oIJs",
      "include_colab_link": true
    },
    "kernelspec": {
      "name": "python3",
      "display_name": "Python 3"
    },
    "language_info": {
      "name": "python"
    }
  },
  "cells": [
    {
      "cell_type": "markdown",
      "metadata": {
        "id": "view-in-github",
        "colab_type": "text"
      },
      "source": [
        "<a href=\"https://colab.research.google.com/github/kerryqliu/stats170/blob/irene/document-ai-2.ipynb\" target=\"_parent\"><img src=\"https://colab.research.google.com/assets/colab-badge.svg\" alt=\"Open In Colab\"/></a>"
      ]
    },
    {
      "cell_type": "code",
      "metadata": {
        "id": "IgpK_FscBDgP"
      },
      "source": [
        "import json\n",
        "\n",
        "from google.cloud import storage\n",
        "from google.oauth2 import service_account"
      ],
      "execution_count": 4,
      "outputs": []
    },
    {
      "cell_type": "code",
      "metadata": {
        "id": "zVk5qReHCROS"
      },
      "source": [
        "# project_id = 'sapient-stacker-308223'"
      ],
      "execution_count": 5,
      "outputs": []
    },
    {
      "cell_type": "code",
      "metadata": {
        "colab": {
          "base_uri": "https://localhost:8080/"
        },
        "id": "4shNvoYGCVxB",
        "outputId": "cd4c0cca-2cf3-4054-e7f8-fb86c10c065a"
      },
      "source": [
        "import getpass\n",
        "\n",
        "APIKEY = getpass.getpass()"
      ],
      "execution_count": 6,
      "outputs": [
        {
          "output_type": "stream",
          "text": [
            "··········\n"
          ],
          "name": "stdout"
        }
      ]
    },
    {
      "cell_type": "code",
      "metadata": {
        "colab": {
          "base_uri": "https://localhost:8080/"
        },
        "id": "WL70AkCIHDOk",
        "outputId": "ba7ef410-4bb7-40eb-84d8-9ba063fddeed"
      },
      "source": [
        "!pip install --upgrade pip"
      ],
      "execution_count": 7,
      "outputs": [
        {
          "output_type": "stream",
          "text": [
            "Collecting pip\n",
            "\u001b[?25l  Downloading https://files.pythonhosted.org/packages/fe/ef/60d7ba03b5c442309ef42e7d69959f73aacccd0d86008362a681c4698e83/pip-21.0.1-py3-none-any.whl (1.5MB)\n",
            "\r\u001b[K     |▏                               | 10kB 14.9MB/s eta 0:00:01\r\u001b[K     |▍                               | 20kB 22.4MB/s eta 0:00:01\r\u001b[K     |▋                               | 30kB 27.1MB/s eta 0:00:01\r\u001b[K     |▉                               | 40kB 16.1MB/s eta 0:00:01\r\u001b[K     |█                               | 51kB 17.6MB/s eta 0:00:01\r\u001b[K     |█▎                              | 61kB 19.8MB/s eta 0:00:01\r\u001b[K     |█▌                              | 71kB 14.3MB/s eta 0:00:01\r\u001b[K     |█▊                              | 81kB 12.9MB/s eta 0:00:01\r\u001b[K     |██                              | 92kB 12.0MB/s eta 0:00:01\r\u001b[K     |██▏                             | 102kB 12.3MB/s eta 0:00:01\r\u001b[K     |██▍                             | 112kB 12.3MB/s eta 0:00:01\r\u001b[K     |██▌                             | 122kB 12.3MB/s eta 0:00:01\r\u001b[K     |██▊                             | 133kB 12.3MB/s eta 0:00:01\r\u001b[K     |███                             | 143kB 12.3MB/s eta 0:00:01\r\u001b[K     |███▏                            | 153kB 12.3MB/s eta 0:00:01\r\u001b[K     |███▍                            | 163kB 12.3MB/s eta 0:00:01\r\u001b[K     |███▋                            | 174kB 12.3MB/s eta 0:00:01\r\u001b[K     |███▉                            | 184kB 12.3MB/s eta 0:00:01\r\u001b[K     |████                            | 194kB 12.3MB/s eta 0:00:01\r\u001b[K     |████▎                           | 204kB 12.3MB/s eta 0:00:01\r\u001b[K     |████▌                           | 215kB 12.3MB/s eta 0:00:01\r\u001b[K     |████▊                           | 225kB 12.3MB/s eta 0:00:01\r\u001b[K     |█████                           | 235kB 12.3MB/s eta 0:00:01\r\u001b[K     |█████                           | 245kB 12.3MB/s eta 0:00:01\r\u001b[K     |█████▎                          | 256kB 12.3MB/s eta 0:00:01\r\u001b[K     |█████▌                          | 266kB 12.3MB/s eta 0:00:01\r\u001b[K     |█████▊                          | 276kB 12.3MB/s eta 0:00:01\r\u001b[K     |██████                          | 286kB 12.3MB/s eta 0:00:01\r\u001b[K     |██████▏                         | 296kB 12.3MB/s eta 0:00:01\r\u001b[K     |██████▍                         | 307kB 12.3MB/s eta 0:00:01\r\u001b[K     |██████▋                         | 317kB 12.3MB/s eta 0:00:01\r\u001b[K     |██████▉                         | 327kB 12.3MB/s eta 0:00:01\r\u001b[K     |███████                         | 337kB 12.3MB/s eta 0:00:01\r\u001b[K     |███████▎                        | 348kB 12.3MB/s eta 0:00:01\r\u001b[K     |███████▌                        | 358kB 12.3MB/s eta 0:00:01\r\u001b[K     |███████▋                        | 368kB 12.3MB/s eta 0:00:01\r\u001b[K     |███████▉                        | 378kB 12.3MB/s eta 0:00:01\r\u001b[K     |████████                        | 389kB 12.3MB/s eta 0:00:01\r\u001b[K     |████████▎                       | 399kB 12.3MB/s eta 0:00:01\r\u001b[K     |████████▌                       | 409kB 12.3MB/s eta 0:00:01\r\u001b[K     |████████▊                       | 419kB 12.3MB/s eta 0:00:01\r\u001b[K     |█████████                       | 430kB 12.3MB/s eta 0:00:01\r\u001b[K     |█████████▏                      | 440kB 12.3MB/s eta 0:00:01\r\u001b[K     |█████████▍                      | 450kB 12.3MB/s eta 0:00:01\r\u001b[K     |█████████▋                      | 460kB 12.3MB/s eta 0:00:01\r\u001b[K     |█████████▉                      | 471kB 12.3MB/s eta 0:00:01\r\u001b[K     |██████████                      | 481kB 12.3MB/s eta 0:00:01\r\u001b[K     |██████████▏                     | 491kB 12.3MB/s eta 0:00:01\r\u001b[K     |██████████▍                     | 501kB 12.3MB/s eta 0:00:01\r\u001b[K     |██████████▋                     | 512kB 12.3MB/s eta 0:00:01\r\u001b[K     |██████████▉                     | 522kB 12.3MB/s eta 0:00:01\r\u001b[K     |███████████                     | 532kB 12.3MB/s eta 0:00:01\r\u001b[K     |███████████▎                    | 542kB 12.3MB/s eta 0:00:01\r\u001b[K     |███████████▌                    | 552kB 12.3MB/s eta 0:00:01\r\u001b[K     |███████████▊                    | 563kB 12.3MB/s eta 0:00:01\r\u001b[K     |████████████                    | 573kB 12.3MB/s eta 0:00:01\r\u001b[K     |████████████▏                   | 583kB 12.3MB/s eta 0:00:01\r\u001b[K     |████████████▍                   | 593kB 12.3MB/s eta 0:00:01\r\u001b[K     |████████████▋                   | 604kB 12.3MB/s eta 0:00:01\r\u001b[K     |████████████▊                   | 614kB 12.3MB/s eta 0:00:01\r\u001b[K     |█████████████                   | 624kB 12.3MB/s eta 0:00:01\r\u001b[K     |█████████████▏                  | 634kB 12.3MB/s eta 0:00:01\r\u001b[K     |█████████████▍                  | 645kB 12.3MB/s eta 0:00:01\r\u001b[K     |█████████████▋                  | 655kB 12.3MB/s eta 0:00:01\r\u001b[K     |█████████████▉                  | 665kB 12.3MB/s eta 0:00:01\r\u001b[K     |██████████████                  | 675kB 12.3MB/s eta 0:00:01\r\u001b[K     |██████████████▎                 | 686kB 12.3MB/s eta 0:00:01\r\u001b[K     |██████████████▌                 | 696kB 12.3MB/s eta 0:00:01\r\u001b[K     |██████████████▊                 | 706kB 12.3MB/s eta 0:00:01\r\u001b[K     |███████████████                 | 716kB 12.3MB/s eta 0:00:01\r\u001b[K     |███████████████▏                | 727kB 12.3MB/s eta 0:00:01\r\u001b[K     |███████████████▎                | 737kB 12.3MB/s eta 0:00:01\r\u001b[K     |███████████████▌                | 747kB 12.3MB/s eta 0:00:01\r\u001b[K     |███████████████▊                | 757kB 12.3MB/s eta 0:00:01\r\u001b[K     |████████████████                | 768kB 12.3MB/s eta 0:00:01\r\u001b[K     |████████████████▏               | 778kB 12.3MB/s eta 0:00:01\r\u001b[K     |████████████████▍               | 788kB 12.3MB/s eta 0:00:01\r\u001b[K     |████████████████▋               | 798kB 12.3MB/s eta 0:00:01\r\u001b[K     |████████████████▉               | 808kB 12.3MB/s eta 0:00:01\r\u001b[K     |█████████████████               | 819kB 12.3MB/s eta 0:00:01\r\u001b[K     |█████████████████▎              | 829kB 12.3MB/s eta 0:00:01\r\u001b[K     |█████████████████▌              | 839kB 12.3MB/s eta 0:00:01\r\u001b[K     |█████████████████▊              | 849kB 12.3MB/s eta 0:00:01\r\u001b[K     |█████████████████▉              | 860kB 12.3MB/s eta 0:00:01\r\u001b[K     |██████████████████              | 870kB 12.3MB/s eta 0:00:01\r\u001b[K     |██████████████████▎             | 880kB 12.3MB/s eta 0:00:01\r\u001b[K     |██████████████████▌             | 890kB 12.3MB/s eta 0:00:01\r\u001b[K     |██████████████████▊             | 901kB 12.3MB/s eta 0:00:01\r\u001b[K     |███████████████████             | 911kB 12.3MB/s eta 0:00:01\r\u001b[K     |███████████████████▏            | 921kB 12.3MB/s eta 0:00:01\r\u001b[K     |███████████████████▍            | 931kB 12.3MB/s eta 0:00:01\r\u001b[K     |███████████████████▋            | 942kB 12.3MB/s eta 0:00:01\r\u001b[K     |███████████████████▉            | 952kB 12.3MB/s eta 0:00:01\r\u001b[K     |████████████████████            | 962kB 12.3MB/s eta 0:00:01\r\u001b[K     |████████████████████▎           | 972kB 12.3MB/s eta 0:00:01\r\u001b[K     |████████████████████▍           | 983kB 12.3MB/s eta 0:00:01\r\u001b[K     |████████████████████▋           | 993kB 12.3MB/s eta 0:00:01\r\u001b[K     |████████████████████▉           | 1.0MB 12.3MB/s eta 0:00:01\r\u001b[K     |█████████████████████           | 1.0MB 12.3MB/s eta 0:00:01\r\u001b[K     |█████████████████████▎          | 1.0MB 12.3MB/s eta 0:00:01\r\u001b[K     |█████████████████████▌          | 1.0MB 12.3MB/s eta 0:00:01\r\u001b[K     |█████████████████████▊          | 1.0MB 12.3MB/s eta 0:00:01\r\u001b[K     |██████████████████████          | 1.1MB 12.3MB/s eta 0:00:01\r\u001b[K     |██████████████████████▏         | 1.1MB 12.3MB/s eta 0:00:01\r\u001b[K     |██████████████████████▍         | 1.1MB 12.3MB/s eta 0:00:01\r\u001b[K     |██████████████████████▋         | 1.1MB 12.3MB/s eta 0:00:01\r\u001b[K     |██████████████████████▉         | 1.1MB 12.3MB/s eta 0:00:01\r\u001b[K     |███████████████████████         | 1.1MB 12.3MB/s eta 0:00:01\r\u001b[K     |███████████████████████▏        | 1.1MB 12.3MB/s eta 0:00:01\r\u001b[K     |███████████████████████▍        | 1.1MB 12.3MB/s eta 0:00:01\r\u001b[K     |███████████████████████▋        | 1.1MB 12.3MB/s eta 0:00:01\r\u001b[K     |███████████████████████▉        | 1.1MB 12.3MB/s eta 0:00:01\r\u001b[K     |████████████████████████        | 1.2MB 12.3MB/s eta 0:00:01\r\u001b[K     |████████████████████████▎       | 1.2MB 12.3MB/s eta 0:00:01\r\u001b[K     |████████████████████████▌       | 1.2MB 12.3MB/s eta 0:00:01\r\u001b[K     |████████████████████████▊       | 1.2MB 12.3MB/s eta 0:00:01\r\u001b[K     |█████████████████████████       | 1.2MB 12.3MB/s eta 0:00:01\r\u001b[K     |█████████████████████████▏      | 1.2MB 12.3MB/s eta 0:00:01\r\u001b[K     |█████████████████████████▍      | 1.2MB 12.3MB/s eta 0:00:01\r\u001b[K     |█████████████████████████▌      | 1.2MB 12.3MB/s eta 0:00:01\r\u001b[K     |█████████████████████████▊      | 1.2MB 12.3MB/s eta 0:00:01\r\u001b[K     |██████████████████████████      | 1.2MB 12.3MB/s eta 0:00:01\r\u001b[K     |██████████████████████████▏     | 1.3MB 12.3MB/s eta 0:00:01\r\u001b[K     |██████████████████████████▍     | 1.3MB 12.3MB/s eta 0:00:01\r\u001b[K     |██████████████████████████▋     | 1.3MB 12.3MB/s eta 0:00:01\r\u001b[K     |██████████████████████████▉     | 1.3MB 12.3MB/s eta 0:00:01\r\u001b[K     |███████████████████████████     | 1.3MB 12.3MB/s eta 0:00:01\r\u001b[K     |███████████████████████████▎    | 1.3MB 12.3MB/s eta 0:00:01\r\u001b[K     |███████████████████████████▌    | 1.3MB 12.3MB/s eta 0:00:01\r\u001b[K     |███████████████████████████▊    | 1.3MB 12.3MB/s eta 0:00:01\r\u001b[K     |███████████████████████████▉    | 1.3MB 12.3MB/s eta 0:00:01\r\u001b[K     |████████████████████████████    | 1.4MB 12.3MB/s eta 0:00:01\r\u001b[K     |████████████████████████████▎   | 1.4MB 12.3MB/s eta 0:00:01\r\u001b[K     |████████████████████████████▌   | 1.4MB 12.3MB/s eta 0:00:01\r\u001b[K     |████████████████████████████▊   | 1.4MB 12.3MB/s eta 0:00:01\r\u001b[K     |█████████████████████████████   | 1.4MB 12.3MB/s eta 0:00:01\r\u001b[K     |█████████████████████████████▏  | 1.4MB 12.3MB/s eta 0:00:01\r\u001b[K     |█████████████████████████████▍  | 1.4MB 12.3MB/s eta 0:00:01\r\u001b[K     |█████████████████████████████▋  | 1.4MB 12.3MB/s eta 0:00:01\r\u001b[K     |█████████████████████████████▉  | 1.4MB 12.3MB/s eta 0:00:01\r\u001b[K     |██████████████████████████████  | 1.4MB 12.3MB/s eta 0:00:01\r\u001b[K     |██████████████████████████████▎ | 1.5MB 12.3MB/s eta 0:00:01\r\u001b[K     |██████████████████████████████▍ | 1.5MB 12.3MB/s eta 0:00:01\r\u001b[K     |██████████████████████████████▋ | 1.5MB 12.3MB/s eta 0:00:01\r\u001b[K     |██████████████████████████████▉ | 1.5MB 12.3MB/s eta 0:00:01\r\u001b[K     |███████████████████████████████ | 1.5MB 12.3MB/s eta 0:00:01\r\u001b[K     |███████████████████████████████▎| 1.5MB 12.3MB/s eta 0:00:01\r\u001b[K     |███████████████████████████████▌| 1.5MB 12.3MB/s eta 0:00:01\r\u001b[K     |███████████████████████████████▊| 1.5MB 12.3MB/s eta 0:00:01\r\u001b[K     |████████████████████████████████| 1.5MB 12.3MB/s eta 0:00:01\r\u001b[K     |████████████████████████████████| 1.5MB 12.3MB/s \n",
            "\u001b[?25hInstalling collected packages: pip\n",
            "  Found existing installation: pip 19.3.1\n",
            "    Uninstalling pip-19.3.1:\n",
            "      Successfully uninstalled pip-19.3.1\n",
            "Successfully installed pip-21.0.1\n"
          ],
          "name": "stdout"
        }
      ]
    },
    {
      "cell_type": "code",
      "metadata": {
        "colab": {
          "base_uri": "https://localhost:8080/"
        },
        "id": "NNJGSqMKHOMW",
        "outputId": "dd801ea5-8b19-4af6-e9bf-b4827f8ebf5c"
      },
      "source": [
        "!pip install --upgrade google-api-python-client"
      ],
      "execution_count": 1,
      "outputs": [
        {
          "output_type": "stream",
          "text": [
            "Requirement already satisfied: google-api-python-client in /usr/local/lib/python3.7/dist-packages (2.1.0)\n",
            "Requirement already satisfied: six<2dev,>=1.13.0 in /usr/local/lib/python3.7/dist-packages (from google-api-python-client) (1.15.0)\n",
            "Requirement already satisfied: google-auth-httplib2>=0.1.0 in /usr/local/lib/python3.7/dist-packages (from google-api-python-client) (0.1.0)\n",
            "Requirement already satisfied: google-auth<2dev,>=1.16.0 in /usr/local/lib/python3.7/dist-packages (from google-api-python-client) (1.28.0)\n",
            "Requirement already satisfied: uritemplate<4dev,>=3.0.0 in /usr/local/lib/python3.7/dist-packages (from google-api-python-client) (3.0.1)\n",
            "Requirement already satisfied: google-api-core<2dev,>=1.21.0 in /usr/local/lib/python3.7/dist-packages (from google-api-python-client) (1.26.2)\n",
            "Requirement already satisfied: httplib2<1dev,>=0.15.0 in /usr/local/lib/python3.7/dist-packages (from google-api-python-client) (0.17.4)\n",
            "Requirement already satisfied: googleapis-common-protos<2.0dev,>=1.6.0 in /usr/local/lib/python3.7/dist-packages (from google-api-core<2dev,>=1.21.0->google-api-python-client) (1.53.0)\n",
            "Requirement already satisfied: packaging>=14.3 in /usr/local/lib/python3.7/dist-packages (from google-api-core<2dev,>=1.21.0->google-api-python-client) (20.9)\n",
            "Requirement already satisfied: setuptools>=40.3.0 in /usr/local/lib/python3.7/dist-packages (from google-api-core<2dev,>=1.21.0->google-api-python-client) (54.2.0)\n",
            "Requirement already satisfied: protobuf>=3.12.0 in /usr/local/lib/python3.7/dist-packages (from google-api-core<2dev,>=1.21.0->google-api-python-client) (3.12.4)\n",
            "Requirement already satisfied: pytz in /usr/local/lib/python3.7/dist-packages (from google-api-core<2dev,>=1.21.0->google-api-python-client) (2018.9)\n",
            "Requirement already satisfied: requests<3.0.0dev,>=2.18.0 in /usr/local/lib/python3.7/dist-packages (from google-api-core<2dev,>=1.21.0->google-api-python-client) (2.23.0)\n",
            "Requirement already satisfied: rsa<5,>=3.1.4 in /usr/local/lib/python3.7/dist-packages (from google-auth<2dev,>=1.16.0->google-api-python-client) (4.7.2)\n",
            "Requirement already satisfied: cachetools<5.0,>=2.0.0 in /usr/local/lib/python3.7/dist-packages (from google-auth<2dev,>=1.16.0->google-api-python-client) (4.2.1)\n",
            "Requirement already satisfied: pyasn1-modules>=0.2.1 in /usr/local/lib/python3.7/dist-packages (from google-auth<2dev,>=1.16.0->google-api-python-client) (0.2.8)\n",
            "Requirement already satisfied: pyparsing>=2.0.2 in /usr/local/lib/python3.7/dist-packages (from packaging>=14.3->google-api-core<2dev,>=1.21.0->google-api-python-client) (2.4.7)\n",
            "Requirement already satisfied: pyasn1<0.5.0,>=0.4.6 in /usr/local/lib/python3.7/dist-packages (from pyasn1-modules>=0.2.1->google-auth<2dev,>=1.16.0->google-api-python-client) (0.4.8)\n",
            "Requirement already satisfied: idna<3,>=2.5 in /usr/local/lib/python3.7/dist-packages (from requests<3.0.0dev,>=2.18.0->google-api-core<2dev,>=1.21.0->google-api-python-client) (2.10)\n",
            "Requirement already satisfied: certifi>=2017.4.17 in /usr/local/lib/python3.7/dist-packages (from requests<3.0.0dev,>=2.18.0->google-api-core<2dev,>=1.21.0->google-api-python-client) (2020.12.5)\n",
            "Requirement already satisfied: urllib3!=1.25.0,!=1.25.1,<1.26,>=1.21.1 in /usr/local/lib/python3.7/dist-packages (from requests<3.0.0dev,>=2.18.0->google-api-core<2dev,>=1.21.0->google-api-python-client) (1.24.3)\n",
            "Requirement already satisfied: chardet<4,>=3.0.2 in /usr/local/lib/python3.7/dist-packages (from requests<3.0.0dev,>=2.18.0->google-api-core<2dev,>=1.21.0->google-api-python-client) (3.0.4)\n"
          ],
          "name": "stdout"
        }
      ]
    },
    {
      "cell_type": "code",
      "metadata": {
        "colab": {
          "base_uri": "https://localhost:8080/"
        },
        "id": "Kfn570-BPTcq",
        "outputId": "8db4d6ae-fad5-49cc-83ae-a4f714248c61"
      },
      "source": [
        "!pip install google-cloud-documentai"
      ],
      "execution_count": 2,
      "outputs": [
        {
          "output_type": "stream",
          "text": [
            "Requirement already satisfied: google-cloud-documentai in /usr/local/lib/python3.7/dist-packages (0.4.0)\n",
            "Requirement already satisfied: proto-plus>=1.10.0 in /usr/local/lib/python3.7/dist-packages (from google-cloud-documentai) (1.18.1)\n",
            "Requirement already satisfied: google-api-core[grpc]<2.0.0dev,>=1.22.2 in /usr/local/lib/python3.7/dist-packages (from google-cloud-documentai) (1.26.2)\n",
            "Requirement already satisfied: googleapis-common-protos<2.0dev,>=1.6.0 in /usr/local/lib/python3.7/dist-packages (from google-api-core[grpc]<2.0.0dev,>=1.22.2->google-cloud-documentai) (1.53.0)\n",
            "Requirement already satisfied: packaging>=14.3 in /usr/local/lib/python3.7/dist-packages (from google-api-core[grpc]<2.0.0dev,>=1.22.2->google-cloud-documentai) (20.9)\n",
            "Requirement already satisfied: protobuf>=3.12.0 in /usr/local/lib/python3.7/dist-packages (from google-api-core[grpc]<2.0.0dev,>=1.22.2->google-cloud-documentai) (3.12.4)\n",
            "Requirement already satisfied: requests<3.0.0dev,>=2.18.0 in /usr/local/lib/python3.7/dist-packages (from google-api-core[grpc]<2.0.0dev,>=1.22.2->google-cloud-documentai) (2.23.0)\n",
            "Requirement already satisfied: google-auth<2.0dev,>=1.21.1 in /usr/local/lib/python3.7/dist-packages (from google-api-core[grpc]<2.0.0dev,>=1.22.2->google-cloud-documentai) (1.28.0)\n",
            "Requirement already satisfied: six>=1.13.0 in /usr/local/lib/python3.7/dist-packages (from google-api-core[grpc]<2.0.0dev,>=1.22.2->google-cloud-documentai) (1.15.0)\n",
            "Requirement already satisfied: pytz in /usr/local/lib/python3.7/dist-packages (from google-api-core[grpc]<2.0.0dev,>=1.22.2->google-cloud-documentai) (2018.9)\n",
            "Requirement already satisfied: setuptools>=40.3.0 in /usr/local/lib/python3.7/dist-packages (from google-api-core[grpc]<2.0.0dev,>=1.22.2->google-cloud-documentai) (54.2.0)\n",
            "Requirement already satisfied: grpcio<2.0dev,>=1.29.0 in /usr/local/lib/python3.7/dist-packages (from google-api-core[grpc]<2.0.0dev,>=1.22.2->google-cloud-documentai) (1.32.0)\n",
            "Requirement already satisfied: cachetools<5.0,>=2.0.0 in /usr/local/lib/python3.7/dist-packages (from google-auth<2.0dev,>=1.21.1->google-api-core[grpc]<2.0.0dev,>=1.22.2->google-cloud-documentai) (4.2.1)\n",
            "Requirement already satisfied: rsa<5,>=3.1.4 in /usr/local/lib/python3.7/dist-packages (from google-auth<2.0dev,>=1.21.1->google-api-core[grpc]<2.0.0dev,>=1.22.2->google-cloud-documentai) (4.7.2)\n",
            "Requirement already satisfied: pyasn1-modules>=0.2.1 in /usr/local/lib/python3.7/dist-packages (from google-auth<2.0dev,>=1.21.1->google-api-core[grpc]<2.0.0dev,>=1.22.2->google-cloud-documentai) (0.2.8)\n",
            "Requirement already satisfied: pyparsing>=2.0.2 in /usr/local/lib/python3.7/dist-packages (from packaging>=14.3->google-api-core[grpc]<2.0.0dev,>=1.22.2->google-cloud-documentai) (2.4.7)\n",
            "Requirement already satisfied: pyasn1<0.5.0,>=0.4.6 in /usr/local/lib/python3.7/dist-packages (from pyasn1-modules>=0.2.1->google-auth<2.0dev,>=1.21.1->google-api-core[grpc]<2.0.0dev,>=1.22.2->google-cloud-documentai) (0.4.8)\n",
            "Requirement already satisfied: chardet<4,>=3.0.2 in /usr/local/lib/python3.7/dist-packages (from requests<3.0.0dev,>=2.18.0->google-api-core[grpc]<2.0.0dev,>=1.22.2->google-cloud-documentai) (3.0.4)\n",
            "Requirement already satisfied: urllib3!=1.25.0,!=1.25.1,<1.26,>=1.21.1 in /usr/local/lib/python3.7/dist-packages (from requests<3.0.0dev,>=2.18.0->google-api-core[grpc]<2.0.0dev,>=1.22.2->google-cloud-documentai) (1.24.3)\n",
            "Requirement already satisfied: idna<3,>=2.5 in /usr/local/lib/python3.7/dist-packages (from requests<3.0.0dev,>=2.18.0->google-api-core[grpc]<2.0.0dev,>=1.22.2->google-cloud-documentai) (2.10)\n",
            "Requirement already satisfied: certifi>=2017.4.17 in /usr/local/lib/python3.7/dist-packages (from requests<3.0.0dev,>=2.18.0->google-api-core[grpc]<2.0.0dev,>=1.22.2->google-cloud-documentai) (2020.12.5)\n"
          ],
          "name": "stdout"
        }
      ]
    },
    {
      "cell_type": "code",
      "metadata": {
        "id": "AAMZdMwMj3Oy"
      },
      "source": [
        "import os\n",
        "os.environ['GOOGLE_APPLICATION_CREDENTIALS'] = \"/content/drive/Shareddrives/CAPSTONE/Resources/sapient-stacker-308223-836172bc8681.json\""
      ],
      "execution_count": 16,
      "outputs": []
    },
    {
      "cell_type": "code",
      "metadata": {
        "colab": {
          "base_uri": "https://localhost:8080/"
        },
        "id": "75-30m8hi1cJ",
        "outputId": "55fec292-b911-4d3e-92e8-bb82b557c51d"
      },
      "source": [
        "!gcloud auth application-default print-access-token"
      ],
      "execution_count": 17,
      "outputs": [
        {
          "output_type": "stream",
          "text": [
            "ya29.c.Kp8B-gd1xJxHrTA5RxIrr2tRMTgqrq3oTwNRwz8EMXFrcuVCFpjW1tABAzYYzCR-pdeVoeVry0OXNArwl9No0_ENN7g84aJo2cHaFlvuKBSuTGs-NXQPnE7Sn9nBu14BLbUCtVukGY-W1ovgI9aGA5TJX1MiT8aW3ovWZzbAyac7tpxWIy5iEx53cg9BeTHsR6vGPzDCHTJxQfDeyepkohW8\n"
          ],
          "name": "stdout"
        }
      ]
    },
    {
      "cell_type": "code",
      "metadata": {
        "id": "KGI-ytn0b94Z"
      },
      "source": [
        "from google.cloud import documentai_v1beta2 as documentai"
      ],
      "execution_count": 18,
      "outputs": []
    },
    {
      "cell_type": "code",
      "metadata": {
        "colab": {
          "base_uri": "https://localhost:8080/"
        },
        "id": "KYYSZpanwPor",
        "outputId": "385ae5e0-ec5e-4b4a-e329-f4fc1a6658ae"
      },
      "source": [
        "import nltk\n",
        "nltk.download('punkt')"
      ],
      "execution_count": 26,
      "outputs": [
        {
          "output_type": "stream",
          "text": [
            "[nltk_data] Downloading package punkt to /root/nltk_data...\n",
            "[nltk_data]   Unzipping tokenizers/punkt.zip.\n"
          ],
          "name": "stdout"
        },
        {
          "output_type": "execute_result",
          "data": {
            "text/plain": [
              "True"
            ]
          },
          "metadata": {
            "tags": []
          },
          "execution_count": 26
        }
      ]
    },
    {
      "cell_type": "code",
      "metadata": {
        "id": "H9YydVm5xHGZ"
      },
      "source": [
        "from nltk.tokenize import sent_tokenize"
      ],
      "execution_count": 34,
      "outputs": []
    },
    {
      "cell_type": "code",
      "metadata": {
        "id": "5NMeF2ujfOB1"
      },
      "source": [
        "def document_reader(\n",
        "    project_id=\"sapient-stacker-308223\",\n",
        "    input_uri=\"gs://medical-documents/nerve 3.pdf\",\n",
        "):\n",
        "    \"\"\"Process a single document with the Document AI API, including\n",
        "    text extraction and entity extraction.\"\"\"\n",
        "\n",
        "    client = documentai.DocumentUnderstandingServiceClient()\n",
        "\n",
        "    gcs_source = documentai.types.GcsSource(uri=input_uri)\n",
        "\n",
        "    # mime_type can be application/pdf, image/tiff,\n",
        "    # and image/gif, or application/json\n",
        "    input_config = documentai.types.InputConfig(\n",
        "        gcs_source=gcs_source, mime_type=\"application/pdf\"\n",
        "    )\n",
        "\n",
        "    # Location can be 'us' or 'eu'\n",
        "    parent = \"projects/{}/locations/us\".format(project_id)\n",
        "    request = documentai.types.ProcessDocumentRequest(\n",
        "        parent=parent, input_config=input_config\n",
        "    )\n",
        "\n",
        "    document = client.process_document(request=request)\n",
        "\n",
        "    # All text extracted from the document\n",
        "    result = \"Document Text: {}\".format(document.text)\n",
        "\n",
        "    # def _get_text(el):\n",
        "    #     \"\"\"Convert text offset indexes into text snippets.\"\"\"\n",
        "    #     response = \"\"\n",
        "    #     # If a text segment spans several lines, it will\n",
        "    #     # be stored in different text segments.\n",
        "    #     for segment in el.text_anchor.text_segments:\n",
        "    #         start_index = segment.start_index\n",
        "    #         end_index = segment.end_index\n",
        "    #         response += document.text[start_index:end_index]\n",
        "    #     return response\n",
        "\n",
        "    # for entity in document.entities:\n",
        "    #     print(\"Entity type: {}\".format(entity.type_))\n",
        "    #     print(\"Text: {}\".format(_get_text(entity)))\n",
        "    #     print(\"Mention text: {}\\n\".format(entity.mention_text))\n",
        "\n",
        "\n",
        "    return result"
      ],
      "execution_count": 46,
      "outputs": []
    },
    {
      "cell_type": "code",
      "metadata": {
        "colab": {
          "base_uri": "https://localhost:8080/"
        },
        "id": "LmUcT2d3jY6m",
        "outputId": "cb3a94d6-6c57-4f9a-f1d8-7f6773c73d7c"
      },
      "source": [
        "nerve3 = document_reader()\n",
        "print(nerve3)"
      ],
      "execution_count": 47,
      "outputs": [
        {
          "output_type": "stream",
          "text": [
            "Document Text: Reflexes: Deep tendon reflexes are normal at the knees and ankles\n",
            "bilaterally. Flicker response only at the triceps bilaterally. No respons\n",
            "even with reinforcement at the biceps and brachjoradialis bilaterally.\n",
            "Negative Hoffmann sign. Plantar responses flexor bilaterally,\n",
            "Sensation: Sensation is intact to light touch, pinprick and vibration in\n",
            "both upper and lower extremities. Joint position sense is intact.\n",
            "Coordination: Finger-to-nose and heel-to-shin is normal.\n",
            "\n"
          ],
          "name": "stdout"
        }
      ]
    },
    {
      "cell_type": "code",
      "metadata": {
        "colab": {
          "base_uri": "https://localhost:8080/"
        },
        "id": "F4PPoezGypMK",
        "outputId": "ea8cd51c-e3f1-4887-cd9f-95cfb501ac8d"
      },
      "source": [
        "sent_tokenize(nerve3)"
      ],
      "execution_count": 50,
      "outputs": [
        {
          "output_type": "execute_result",
          "data": {
            "text/plain": [
              "['Document Text: Reflexes: Deep tendon reflexes are normal at the knees and ankles\\nbilaterally.',\n",
              " 'Flicker response only at the triceps bilaterally.',\n",
              " 'No respons\\neven with reinforcement at the biceps and brachjoradialis bilaterally.',\n",
              " 'Negative Hoffmann sign.',\n",
              " 'Plantar responses flexor bilaterally,\\nSensation: Sensation is intact to light touch, pinprick and vibration in\\nboth upper and lower extremities.',\n",
              " 'Joint position sense is intact.',\n",
              " 'Coordination: Finger-to-nose and heel-to-shin is normal.']"
            ]
          },
          "metadata": {
            "tags": []
          },
          "execution_count": 50
        }
      ]
    },
    {
      "cell_type": "code",
      "metadata": {
        "colab": {
          "base_uri": "https://localhost:8080/"
        },
        "id": "KJnJumQdgiEn",
        "outputId": "cd450fe5-07d8-4028-df8e-d5acb2d89dd7"
      },
      "source": [
        "ex1 = document_reader(input_uri=\"gs://medical-documents/clinicalexample1.pdf\")\n",
        "print(ex1)"
      ],
      "execution_count": 48,
      "outputs": [
        {
          "output_type": "stream",
          "text": [
            "Document Text: Example 1\n",
            "Referring Doctor: Unknown Provider\n",
            "History\n",
            "Mr. is a 25 year right-handed man\n",
            "from\n",
            "who in\n",
            "started to note slapping of his left foot. He noted trouble Dorsey and plantar flexing the\n",
            "foot. This presented without pain numbness or paresthesia. He also noted some\n",
            "weakness of his left hip abduction. In he states mentions someone spike does drink\n",
            "ketamine. He has not noted much change in the deficits since He felt the ankle\n",
            "weakness was fairly stable. However in recent weeks he did have some difficulty\n",
            "descending steps. The left knee felt slightly weak. He was unable to run. He did not note\n",
            "any weakness or impaired dexterity in his arms. He felt the right leg was strong\n",
            "There was no viral prodrome, dysarthria, dysphagia, emotional and continence, cognitive\n",
            "difficulties, or bladder symptoms.\n",
            "He had an EMG by Dr.\n",
            "This was unavailable for\n",
            "review on epic. There were occasional fasciculations in the left tibial foot muscles.\n",
            "However the patient reports that he was told he had active denervation changes in left L5-\n",
            "$1 muscles. MRI of the lumbosacral spine was normal except for minimal L5-S1 disc\n",
            "bulge. He was told this may be ALS.\n",
            "No past medical history on file.\n",
            "He has no past surgical history on file.\n",
            "Allergles\n",
            "Allergen\n",
            "Amoxicillin\n",
            "Reactions\n",
            "Hives\n",
            "Social History\n",
            "Tobacco Use\n",
            "• Smoking status:\n",
            "Substance Use Topics\n",
            "• Alcohol use;\n",
            "Current Some Day Smoker\n",
            "Not on file\n",
            "Social History\n",
            "Occupational History\n",
            "Not on file\n",
            "His family history is not on file.\n",
            "No current outpatient medications on file.\n",
            "No current facility-administered medications for this visit.\n",
            "Review of Systems;\n",
            "Neg Positive\n",
            "Constitutional ☐ Fever ☐ Chills Headache Weight Loss ☐ Other:\n",
            "Eyes\n",
            "☐ Blurred vision Double vision ☐ Pain ☐ Other:\n",
            "Allergic/imm O Seasonal Allergies Drug allergies ☐ Other:\n",
            "Neurological ☑ Tremors Dizzy spells Numbness/tingling Other:\n",
            "Endocrine\n",
            "Excessive thirst Too hot Too cold Tired/Sluggish\n",
            "Other:\n",
            "Gastrointest ☐ Abdominal pain Nausea/Vomiting ☐ Indigestion/Heartburn\n",
            "Other:\n",
            "Hematology ☑ Excessive bleeding Easible bruising Other\n",
            "Cardiovasc\n",
            "Chest pain High blood pressure Other:\n",
            "Integumentary ☑ Skin rash Persistent itch Other:\n",
            "Musculoskel☑ Joint pain Neck pain Back pain Other\n",
            "Genitourinary Urine retention Painful urination Urinary frequency\n",
            "Other:\n",
            "Respiratory\n",
            "Wheezing/Asthma Frequent cough ☐ SOB Other:\n",
            "Psych\n",
            "O Depression Anxiety\n",
            "00000000 ~~-\n",
            "All 13 systems reviewed and negative (except as indicated above).\n",
            "BP (!) 142/92 (Cuff Size: Regular) | Pulse 101 | Temp 37.2 °C (99 °F) | Ht 1.778 m (5'\n",
            "10\") | Wt 67.1 kg (148 lb) | BMI 21.24 kg/m²\n",
            "General Exam:\n",
            "Appearance: appears well in no distress\n",
            "Head: NC/AT\n",
            "Eyes: Conjunctivae non-injected\n",
            "Mouth- no lesions of lips or oral mucosa\n",
            "Lymphatics- no cervical or supraclavicular adenopathy\n",
            "Integument: No dermatomal eruptions; no nodules or scleroderma\n",
            "Neck: Supple. No masses. No thyroid nodules.\n",
            "Extremities: No clubbing cyanosis, edema or pas cavus.\n",
            "Neurological Examination:\n",
            "Mental Status: Alert and oriented x3. Speech fluent. Good judgement and insight into\n",
            "illness. Recalled dates well.\n",
            "Cranial Nerves: Visual fields were full. Extraocular movements were intact. No ptosis.\n",
            "Pupils were equally reactive to light. Light touch equal in the face. Normal eye and mouth\n",
            "closure strength. Raised eyebrow symmetrically. Smile symmetric. Rubbed fingers\n",
            "equal. Palate raised symmetrically. Normal tongue movements. No tongue fasciculations\n",
            "or weakness. Normal sternocleidomastoid strength.\n",
            "Motor: Slight atrophy of the left calf. Otherwise normal tone and bulk. No fasciculations\n",
            "were noted. Rapid alternating finger movements were symmetric. No scapular winging.\n",
            "No drift. Strength was graded as follows left hamstring 4+, tibialis anterior 4, EHL 1,\n",
            "gastroc 4, invertor 4, everters 3, gluteus medius 4+; right gastrocnemius 4+ toe flexors 3.\n",
            "Galt: Mild slapping of the left foot. Unable to left heel or toe stand. Unable to right toe\n",
            "stand. He could squat and arise from a chair. NI RAFM. Dec tone L. AK only.\n",
            "Coordination: Finger-to-nose and tandem gait steady.\n",
            "Sensory: Negative Romberg. Pin and vibration were intact except for slight hyperesthesia\n",
            "to pin left lateral calf and dorsal foot.\n",
            "Reflexes: Reflexes were 1+ at both biceps and absent at both ankles; knees 1 to 2+;\n",
            "otherwise 2+. Plantar responses were flexor bilaterally. Negative jaw jerk and Hoffman's.\n",
            "Impression\n",
            "There was electrophysiologic evidence left S1 greater than L5 focal anterior horn cell or\n",
            "radicular dysfunction.\n",
            "There was no electrophysiologic evidence of a diffuse disorder of motor neurons or\n",
            "polyneuropathy.\n",
            "Taken together, the clinical and electrophysiologic features suggest patient has a more\n",
            "benign lower motor neuron syndrome such as flail leg syndrome. Multifocal motor\n",
            "neuropathy is in the differential though the pattern of weakness and active denervation om\n",
            "EMG appeared more myotomal than in a nerve pattern. I suspect weakness will progress\n",
            "slowly and remain confined to the legs likely for a matter of years. It is possible progession\n",
            "will arrest at some point. Occasionally, such patlents with these EMG findings can\n",
            "progress to more typical progressive muscular atrophy.\n",
            "I suggested the following labs-GM 1 titer, asialoGM 1 titer, CK, immunofixation and ANA.\n",
            "PT\n",
            "IVIG 666mg/kg daily 3 days then 1 gm/ kg every 3 weeks x 2 cycles\n",
            "Flu 3 months\n",
            "MD\n",
            "\n"
          ],
          "name": "stdout"
        }
      ]
    },
    {
      "cell_type": "code",
      "metadata": {
        "colab": {
          "base_uri": "https://localhost:8080/"
        },
        "id": "PgbteW4XymXM",
        "outputId": "20b01f54-75e2-40e3-daf6-5980a5c95118"
      },
      "source": [
        "sent_tokenize(ex1)"
      ],
      "execution_count": 52,
      "outputs": [
        {
          "output_type": "execute_result",
          "data": {
            "text/plain": [
              "['Document Text: Example 1\\nReferring Doctor: Unknown Provider\\nHistory\\nMr. is a 25 year right-handed man\\nfrom\\nwho in\\nstarted to note slapping of his left foot.',\n",
              " 'He noted trouble Dorsey and plantar flexing the\\nfoot.',\n",
              " 'This presented without pain numbness or paresthesia.',\n",
              " 'He also noted some\\nweakness of his left hip abduction.',\n",
              " 'In he states mentions someone spike does drink\\nketamine.',\n",
              " 'He has not noted much change in the deficits since He felt the ankle\\nweakness was fairly stable.',\n",
              " 'However in recent weeks he did have some difficulty\\ndescending steps.',\n",
              " 'The left knee felt slightly weak.',\n",
              " 'He was unable to run.',\n",
              " 'He did not note\\nany weakness or impaired dexterity in his arms.',\n",
              " 'He felt the right leg was strong\\nThere was no viral prodrome, dysarthria, dysphagia, emotional and continence, cognitive\\ndifficulties, or bladder symptoms.',\n",
              " 'He had an EMG by Dr.',\n",
              " 'This was unavailable for\\nreview on epic.',\n",
              " 'There were occasional fasciculations in the left tibial foot muscles.',\n",
              " 'However the patient reports that he was told he had active denervation changes in left L5-\\n$1 muscles.',\n",
              " 'MRI of the lumbosacral spine was normal except for minimal L5-S1 disc\\nbulge.',\n",
              " 'He was told this may be ALS.',\n",
              " 'No past medical history on file.',\n",
              " 'He has no past surgical history on file.',\n",
              " 'Allergles\\nAllergen\\nAmoxicillin\\nReactions\\nHives\\nSocial History\\nTobacco Use\\n• Smoking status:\\nSubstance Use Topics\\n• Alcohol use;\\nCurrent Some Day Smoker\\nNot on file\\nSocial History\\nOccupational History\\nNot on file\\nHis family history is not on file.',\n",
              " 'No current outpatient medications on file.',\n",
              " 'No current facility-administered medications for this visit.',\n",
              " 'Review of Systems;\\nNeg Positive\\nConstitutional ☐ Fever ☐ Chills Headache Weight Loss ☐ Other:\\nEyes\\n☐ Blurred vision Double vision ☐ Pain ☐ Other:\\nAllergic/imm O Seasonal Allergies Drug allergies ☐ Other:\\nNeurological ☑ Tremors Dizzy spells Numbness/tingling Other:\\nEndocrine\\nExcessive thirst Too hot Too cold Tired/Sluggish\\nOther:\\nGastrointest ☐ Abdominal pain Nausea/Vomiting ☐ Indigestion/Heartburn\\nOther:\\nHematology ☑ Excessive bleeding Easible bruising Other\\nCardiovasc\\nChest pain High blood pressure Other:\\nIntegumentary ☑ Skin rash Persistent itch Other:\\nMusculoskel☑ Joint pain Neck pain Back pain Other\\nGenitourinary Urine retention Painful urination Urinary frequency\\nOther:\\nRespiratory\\nWheezing/Asthma Frequent cough ☐ SOB Other:\\nPsych\\nO Depression Anxiety\\n00000000 ~~-\\nAll 13 systems reviewed and negative (except as indicated above).',\n",
              " 'BP (!)',\n",
              " '142/92 (Cuff Size: Regular) | Pulse 101 | Temp 37.2 °C (99 °F) | Ht 1.778 m (5\\'\\n10\") | Wt 67.1 kg (148 lb) | BMI 21.24 kg/m²\\nGeneral Exam:\\nAppearance: appears well in no distress\\nHead: NC/AT\\nEyes: Conjunctivae non-injected\\nMouth- no lesions of lips or oral mucosa\\nLymphatics- no cervical or supraclavicular adenopathy\\nIntegument: No dermatomal eruptions; no nodules or scleroderma\\nNeck: Supple.',\n",
              " 'No masses.',\n",
              " 'No thyroid nodules.',\n",
              " 'Extremities: No clubbing cyanosis, edema or pas cavus.',\n",
              " 'Neurological Examination:\\nMental Status: Alert and oriented x3.',\n",
              " 'Speech fluent.',\n",
              " 'Good judgement and insight into\\nillness.',\n",
              " 'Recalled dates well.',\n",
              " 'Cranial Nerves: Visual fields were full.',\n",
              " 'Extraocular movements were intact.',\n",
              " 'No ptosis.',\n",
              " 'Pupils were equally reactive to light.',\n",
              " 'Light touch equal in the face.',\n",
              " 'Normal eye and mouth\\nclosure strength.',\n",
              " 'Raised eyebrow symmetrically.',\n",
              " 'Smile symmetric.',\n",
              " 'Rubbed fingers\\nequal.',\n",
              " 'Palate raised symmetrically.',\n",
              " 'Normal tongue movements.',\n",
              " 'No tongue fasciculations\\nor weakness.',\n",
              " 'Normal sternocleidomastoid strength.',\n",
              " 'Motor: Slight atrophy of the left calf.',\n",
              " 'Otherwise normal tone and bulk.',\n",
              " 'No fasciculations\\nwere noted.',\n",
              " 'Rapid alternating finger movements were symmetric.',\n",
              " 'No scapular winging.',\n",
              " 'No drift.',\n",
              " 'Strength was graded as follows left hamstring 4+, tibialis anterior 4, EHL 1,\\ngastroc 4, invertor 4, everters 3, gluteus medius 4+; right gastrocnemius 4+ toe flexors 3.',\n",
              " 'Galt: Mild slapping of the left foot.',\n",
              " 'Unable to left heel or toe stand.',\n",
              " 'Unable to right toe\\nstand.',\n",
              " 'He could squat and arise from a chair.',\n",
              " 'NI RAFM.',\n",
              " 'Dec tone L. AK only.',\n",
              " 'Coordination: Finger-to-nose and tandem gait steady.',\n",
              " 'Sensory: Negative Romberg.',\n",
              " 'Pin and vibration were intact except for slight hyperesthesia\\nto pin left lateral calf and dorsal foot.',\n",
              " 'Reflexes: Reflexes were 1+ at both biceps and absent at both ankles; knees 1 to 2+;\\notherwise 2+.',\n",
              " 'Plantar responses were flexor bilaterally.',\n",
              " \"Negative jaw jerk and Hoffman's.\",\n",
              " 'Impression\\nThere was electrophysiologic evidence left S1 greater than L5 focal anterior horn cell or\\nradicular dysfunction.',\n",
              " 'There was no electrophysiologic evidence of a diffuse disorder of motor neurons or\\npolyneuropathy.',\n",
              " 'Taken together, the clinical and electrophysiologic features suggest patient has a more\\nbenign lower motor neuron syndrome such as flail leg syndrome.',\n",
              " 'Multifocal motor\\nneuropathy is in the differential though the pattern of weakness and active denervation om\\nEMG appeared more myotomal than in a nerve pattern.',\n",
              " 'I suspect weakness will progress\\nslowly and remain confined to the legs likely for a matter of years.',\n",
              " 'It is possible progession\\nwill arrest at some point.',\n",
              " 'Occasionally, such patlents with these EMG findings can\\nprogress to more typical progressive muscular atrophy.',\n",
              " 'I suggested the following labs-GM 1 titer, asialoGM 1 titer, CK, immunofixation and ANA.',\n",
              " 'PT\\nIVIG 666mg/kg daily 3 days then 1 gm/ kg every 3 weeks x 2 cycles\\nFlu 3 months\\nMD']"
            ]
          },
          "metadata": {
            "tags": []
          },
          "execution_count": 52
        }
      ]
    },
    {
      "cell_type": "markdown",
      "metadata": {
        "id": "EaGJxHYS29wA"
      },
      "source": [
        "### (still working on)\n",
        "\n",
        "Need access to storage.objects.list for the gCloud Storage bucket.\n",
        "\n",
        "Figuring out if I can get all the names of the files in the Cloud Storage bucket to read them all at once."
      ]
    },
    {
      "cell_type": "code",
      "metadata": {
        "id": "HkgNwn2I0CPl"
      },
      "source": [
        "# from google.cloud import storage"
      ],
      "execution_count": 65,
      "outputs": []
    },
    {
      "cell_type": "code",
      "metadata": {
        "id": "VDmDeiRizHxo"
      },
      "source": [
        "# def list_blobs(bucket_name):\n",
        "#     \"\"\"Lists all the blobs in the bucket.\"\"\"\n",
        "\n",
        "#     storage_client = storage.Client()\n",
        "\n",
        "#     # Note: Client.list_blobs requires at least package version 1.17.0.\n",
        "#     blobs = storage_client.list_blobs(bucket_name)\n",
        "\n",
        "#     for blob in blobs:\n",
        "#         print(blob.name)\n"
      ],
      "execution_count": 63,
      "outputs": []
    },
    {
      "cell_type": "code",
      "metadata": {
        "colab": {
          "base_uri": "https://localhost:8080/",
          "height": 323
        },
        "id": "b8RWe6u0z50m",
        "outputId": "d78b5183-afe9-4aab-bc01-174ad3daf4a8"
      },
      "source": [
        "# list_blobs(\"medical-documents\")"
      ],
      "execution_count": 64,
      "outputs": [
        {
          "output_type": "error",
          "ename": "Forbidden",
          "evalue": "ignored",
          "traceback": [
            "\u001b[0;31m---------------------------------------------------------------------------\u001b[0m",
            "\u001b[0;31mForbidden\u001b[0m                                 Traceback (most recent call last)",
            "\u001b[0;32m<ipython-input-64-8ec93385083e>\u001b[0m in \u001b[0;36m<module>\u001b[0;34m()\u001b[0m\n\u001b[0;32m----> 1\u001b[0;31m \u001b[0mlist_blobs\u001b[0m\u001b[0;34m(\u001b[0m\u001b[0;34m\"medical-documents\"\u001b[0m\u001b[0;34m)\u001b[0m\u001b[0;34m\u001b[0m\u001b[0;34m\u001b[0m\u001b[0m\n\u001b[0m",
            "\u001b[0;32m<ipython-input-63-e874f9918e56>\u001b[0m in \u001b[0;36mlist_blobs\u001b[0;34m(bucket_name)\u001b[0m\n\u001b[1;32m      7\u001b[0m     \u001b[0mblobs\u001b[0m \u001b[0;34m=\u001b[0m \u001b[0mstorage_client\u001b[0m\u001b[0;34m.\u001b[0m\u001b[0mlist_blobs\u001b[0m\u001b[0;34m(\u001b[0m\u001b[0mbucket_name\u001b[0m\u001b[0;34m)\u001b[0m\u001b[0;34m\u001b[0m\u001b[0;34m\u001b[0m\u001b[0m\n\u001b[1;32m      8\u001b[0m \u001b[0;34m\u001b[0m\u001b[0m\n\u001b[0;32m----> 9\u001b[0;31m     \u001b[0;32mfor\u001b[0m \u001b[0mblob\u001b[0m \u001b[0;32min\u001b[0m \u001b[0mblobs\u001b[0m\u001b[0;34m:\u001b[0m\u001b[0;34m\u001b[0m\u001b[0;34m\u001b[0m\u001b[0m\n\u001b[0m\u001b[1;32m     10\u001b[0m         \u001b[0mprint\u001b[0m\u001b[0;34m(\u001b[0m\u001b[0mblob\u001b[0m\u001b[0;34m.\u001b[0m\u001b[0mname\u001b[0m\u001b[0;34m)\u001b[0m\u001b[0;34m\u001b[0m\u001b[0;34m\u001b[0m\u001b[0m\n",
            "\u001b[0;32m/usr/local/lib/python3.7/dist-packages/google/api_core/page_iterator.py\u001b[0m in \u001b[0;36m_items_iter\u001b[0;34m(self)\u001b[0m\n\u001b[1;32m    210\u001b[0m     \u001b[0;32mdef\u001b[0m \u001b[0m_items_iter\u001b[0m\u001b[0;34m(\u001b[0m\u001b[0mself\u001b[0m\u001b[0;34m)\u001b[0m\u001b[0;34m:\u001b[0m\u001b[0;34m\u001b[0m\u001b[0;34m\u001b[0m\u001b[0m\n\u001b[1;32m    211\u001b[0m         \u001b[0;34m\"\"\"Iterator for each item returned.\"\"\"\u001b[0m\u001b[0;34m\u001b[0m\u001b[0;34m\u001b[0m\u001b[0m\n\u001b[0;32m--> 212\u001b[0;31m         \u001b[0;32mfor\u001b[0m \u001b[0mpage\u001b[0m \u001b[0;32min\u001b[0m \u001b[0mself\u001b[0m\u001b[0;34m.\u001b[0m\u001b[0m_page_iter\u001b[0m\u001b[0;34m(\u001b[0m\u001b[0mincrement\u001b[0m\u001b[0;34m=\u001b[0m\u001b[0;32mFalse\u001b[0m\u001b[0;34m)\u001b[0m\u001b[0;34m:\u001b[0m\u001b[0;34m\u001b[0m\u001b[0;34m\u001b[0m\u001b[0m\n\u001b[0m\u001b[1;32m    213\u001b[0m             \u001b[0;32mfor\u001b[0m \u001b[0mitem\u001b[0m \u001b[0;32min\u001b[0m \u001b[0mpage\u001b[0m\u001b[0;34m:\u001b[0m\u001b[0;34m\u001b[0m\u001b[0;34m\u001b[0m\u001b[0m\n\u001b[1;32m    214\u001b[0m                 \u001b[0mself\u001b[0m\u001b[0;34m.\u001b[0m\u001b[0mnum_results\u001b[0m \u001b[0;34m+=\u001b[0m \u001b[0;36m1\u001b[0m\u001b[0;34m\u001b[0m\u001b[0;34m\u001b[0m\u001b[0m\n",
            "\u001b[0;32m/usr/local/lib/python3.7/dist-packages/google/api_core/page_iterator.py\u001b[0m in \u001b[0;36m_page_iter\u001b[0;34m(self, increment)\u001b[0m\n\u001b[1;32m    241\u001b[0m             \u001b[0mPage\u001b[0m\u001b[0;34m:\u001b[0m \u001b[0meach\u001b[0m \u001b[0mpage\u001b[0m \u001b[0mof\u001b[0m \u001b[0mitems\u001b[0m \u001b[0;32mfrom\u001b[0m \u001b[0mthe\u001b[0m \u001b[0mAPI\u001b[0m\u001b[0;34m.\u001b[0m\u001b[0;34m\u001b[0m\u001b[0;34m\u001b[0m\u001b[0m\n\u001b[1;32m    242\u001b[0m         \"\"\"\n\u001b[0;32m--> 243\u001b[0;31m         \u001b[0mpage\u001b[0m \u001b[0;34m=\u001b[0m \u001b[0mself\u001b[0m\u001b[0;34m.\u001b[0m\u001b[0m_next_page\u001b[0m\u001b[0;34m(\u001b[0m\u001b[0;34m)\u001b[0m\u001b[0;34m\u001b[0m\u001b[0;34m\u001b[0m\u001b[0m\n\u001b[0m\u001b[1;32m    244\u001b[0m         \u001b[0;32mwhile\u001b[0m \u001b[0mpage\u001b[0m \u001b[0;32mis\u001b[0m \u001b[0;32mnot\u001b[0m \u001b[0;32mNone\u001b[0m\u001b[0;34m:\u001b[0m\u001b[0;34m\u001b[0m\u001b[0;34m\u001b[0m\u001b[0m\n\u001b[1;32m    245\u001b[0m             \u001b[0mself\u001b[0m\u001b[0;34m.\u001b[0m\u001b[0mpage_number\u001b[0m \u001b[0;34m+=\u001b[0m \u001b[0;36m1\u001b[0m\u001b[0;34m\u001b[0m\u001b[0;34m\u001b[0m\u001b[0m\n",
            "\u001b[0;32m/usr/local/lib/python3.7/dist-packages/google/api_core/page_iterator.py\u001b[0m in \u001b[0;36m_next_page\u001b[0;34m(self)\u001b[0m\n\u001b[1;32m    367\u001b[0m         \"\"\"\n\u001b[1;32m    368\u001b[0m         \u001b[0;32mif\u001b[0m \u001b[0mself\u001b[0m\u001b[0;34m.\u001b[0m\u001b[0m_has_next_page\u001b[0m\u001b[0;34m(\u001b[0m\u001b[0;34m)\u001b[0m\u001b[0;34m:\u001b[0m\u001b[0;34m\u001b[0m\u001b[0;34m\u001b[0m\u001b[0m\n\u001b[0;32m--> 369\u001b[0;31m             \u001b[0mresponse\u001b[0m \u001b[0;34m=\u001b[0m \u001b[0mself\u001b[0m\u001b[0;34m.\u001b[0m\u001b[0m_get_next_page_response\u001b[0m\u001b[0;34m(\u001b[0m\u001b[0;34m)\u001b[0m\u001b[0;34m\u001b[0m\u001b[0;34m\u001b[0m\u001b[0m\n\u001b[0m\u001b[1;32m    370\u001b[0m             \u001b[0mitems\u001b[0m \u001b[0;34m=\u001b[0m \u001b[0mresponse\u001b[0m\u001b[0;34m.\u001b[0m\u001b[0mget\u001b[0m\u001b[0;34m(\u001b[0m\u001b[0mself\u001b[0m\u001b[0;34m.\u001b[0m\u001b[0m_items_key\u001b[0m\u001b[0;34m,\u001b[0m \u001b[0;34m(\u001b[0m\u001b[0;34m)\u001b[0m\u001b[0;34m)\u001b[0m\u001b[0;34m\u001b[0m\u001b[0;34m\u001b[0m\u001b[0m\n\u001b[1;32m    371\u001b[0m             \u001b[0mpage\u001b[0m \u001b[0;34m=\u001b[0m \u001b[0mPage\u001b[0m\u001b[0;34m(\u001b[0m\u001b[0mself\u001b[0m\u001b[0;34m,\u001b[0m \u001b[0mitems\u001b[0m\u001b[0;34m,\u001b[0m \u001b[0mself\u001b[0m\u001b[0;34m.\u001b[0m\u001b[0mitem_to_value\u001b[0m\u001b[0;34m,\u001b[0m \u001b[0mraw_page\u001b[0m\u001b[0;34m=\u001b[0m\u001b[0mresponse\u001b[0m\u001b[0;34m)\u001b[0m\u001b[0;34m\u001b[0m\u001b[0;34m\u001b[0m\u001b[0m\n",
            "\u001b[0;32m/usr/local/lib/python3.7/dist-packages/google/api_core/page_iterator.py\u001b[0m in \u001b[0;36m_get_next_page_response\u001b[0;34m(self)\u001b[0m\n\u001b[1;32m    417\u001b[0m         \u001b[0;32mif\u001b[0m \u001b[0mself\u001b[0m\u001b[0;34m.\u001b[0m\u001b[0m_HTTP_METHOD\u001b[0m \u001b[0;34m==\u001b[0m \u001b[0;34m\"GET\"\u001b[0m\u001b[0;34m:\u001b[0m\u001b[0;34m\u001b[0m\u001b[0;34m\u001b[0m\u001b[0m\n\u001b[1;32m    418\u001b[0m             return self.api_request(\n\u001b[0;32m--> 419\u001b[0;31m                 \u001b[0mmethod\u001b[0m\u001b[0;34m=\u001b[0m\u001b[0mself\u001b[0m\u001b[0;34m.\u001b[0m\u001b[0m_HTTP_METHOD\u001b[0m\u001b[0;34m,\u001b[0m \u001b[0mpath\u001b[0m\u001b[0;34m=\u001b[0m\u001b[0mself\u001b[0m\u001b[0;34m.\u001b[0m\u001b[0mpath\u001b[0m\u001b[0;34m,\u001b[0m \u001b[0mquery_params\u001b[0m\u001b[0;34m=\u001b[0m\u001b[0mparams\u001b[0m\u001b[0;34m\u001b[0m\u001b[0;34m\u001b[0m\u001b[0m\n\u001b[0m\u001b[1;32m    420\u001b[0m             )\n\u001b[1;32m    421\u001b[0m         \u001b[0;32melif\u001b[0m \u001b[0mself\u001b[0m\u001b[0;34m.\u001b[0m\u001b[0m_HTTP_METHOD\u001b[0m \u001b[0;34m==\u001b[0m \u001b[0;34m\"POST\"\u001b[0m\u001b[0;34m:\u001b[0m\u001b[0;34m\u001b[0m\u001b[0;34m\u001b[0m\u001b[0m\n",
            "\u001b[0;32m/usr/local/lib/python3.7/dist-packages/google/cloud/_http.py\u001b[0m in \u001b[0;36mapi_request\u001b[0;34m(self, method, path, query_params, data, content_type, headers, api_base_url, api_version, expect_json, _target_object)\u001b[0m\n\u001b[1;32m    391\u001b[0m \u001b[0;34m\u001b[0m\u001b[0m\n\u001b[1;32m    392\u001b[0m         \u001b[0;32mif\u001b[0m \u001b[0;32mnot\u001b[0m \u001b[0;36m200\u001b[0m \u001b[0;34m<=\u001b[0m \u001b[0mresponse\u001b[0m\u001b[0;34m.\u001b[0m\u001b[0mstatus_code\u001b[0m \u001b[0;34m<\u001b[0m \u001b[0;36m300\u001b[0m\u001b[0;34m:\u001b[0m\u001b[0;34m\u001b[0m\u001b[0;34m\u001b[0m\u001b[0m\n\u001b[0;32m--> 393\u001b[0;31m             \u001b[0;32mraise\u001b[0m \u001b[0mexceptions\u001b[0m\u001b[0;34m.\u001b[0m\u001b[0mfrom_http_response\u001b[0m\u001b[0;34m(\u001b[0m\u001b[0mresponse\u001b[0m\u001b[0;34m)\u001b[0m\u001b[0;34m\u001b[0m\u001b[0;34m\u001b[0m\u001b[0m\n\u001b[0m\u001b[1;32m    394\u001b[0m \u001b[0;34m\u001b[0m\u001b[0m\n\u001b[1;32m    395\u001b[0m         \u001b[0;32mif\u001b[0m \u001b[0mexpect_json\u001b[0m \u001b[0;32mand\u001b[0m \u001b[0mresponse\u001b[0m\u001b[0;34m.\u001b[0m\u001b[0mcontent\u001b[0m\u001b[0;34m:\u001b[0m\u001b[0;34m\u001b[0m\u001b[0;34m\u001b[0m\u001b[0m\n",
            "\u001b[0;31mForbidden\u001b[0m: 403 GET https://www.googleapis.com/storage/v1/b/medical-documents/o?projection=noAcl: doc-ai-service@sapient-stacker-308223.iam.gserviceaccount.com does not have storage.objects.list access to the Google Cloud Storage bucket."
          ]
        }
      ]
    },
    {
      "cell_type": "code",
      "metadata": {
        "id": "Bzun_2agz-ts"
      },
      "source": [
        ""
      ],
      "execution_count": null,
      "outputs": []
    }
  ]
}