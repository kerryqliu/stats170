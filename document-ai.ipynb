{
  "nbformat": 4,
  "nbformat_minor": 0,
  "metadata": {
    "colab": {
      "name": "Untitled3.ipynb",
      "provenance": [],
      "mount_file_id": "1IW1H2egcVNjgzH_xgrB2gbWw4cUCneAU",
      "authorship_tag": "ABX9TyN8oI6/AB6+DMTCpK2c8CEK",
      "include_colab_link": true
    },
    "kernelspec": {
      "name": "python3",
      "display_name": "Python 3"
    },
    "language_info": {
      "name": "python"
    }
  },
  "cells": [
    {
      "cell_type": "markdown",
      "metadata": {
        "id": "view-in-github",
        "colab_type": "text"
      },
      "source": [
        "<a href=\"https://colab.research.google.com/github/kerryqliu/stats170/blob/irene/document-ai.ipynb\" target=\"_parent\"><img src=\"https://colab.research.google.com/assets/colab-badge.svg\" alt=\"Open In Colab\"/></a>"
      ]
    },
    {
      "cell_type": "code",
      "metadata": {
        "id": "IgpK_FscBDgP"
      },
      "source": [
        "import json\n",
        "\n",
        "from google.cloud import storage\n",
        "from google.oauth2 import service_account"
      ],
      "execution_count": 6,
      "outputs": []
    },
    {
      "cell_type": "code",
      "metadata": {
        "id": "zVk5qReHCROS"
      },
      "source": [
        "project_id = 'sapient-stacker-308223'"
      ],
      "execution_count": 7,
      "outputs": []
    },
    {
      "cell_type": "code",
      "metadata": {
        "colab": {
          "base_uri": "https://localhost:8080/"
        },
        "id": "4shNvoYGCVxB",
        "outputId": "44e6a961-9b6a-4985-8357-daca6268dc83"
      },
      "source": [
        "import getpass\n",
        "\n",
        "APIKEY = getpass.getpass()"
      ],
      "execution_count": 8,
      "outputs": [
        {
          "output_type": "stream",
          "text": [
            "··········\n"
          ],
          "name": "stdout"
        }
      ]
    },
    {
      "cell_type": "code",
      "metadata": {
        "colab": {
          "base_uri": "https://localhost:8080/"
        },
        "id": "WL70AkCIHDOk",
        "outputId": "518db2a7-f92b-42cd-cdf8-27d8edd37454"
      },
      "source": [
        "!pip install --upgrade pip"
      ],
      "execution_count": 4,
      "outputs": [
        {
          "output_type": "stream",
          "text": [
            "Collecting pip\n",
            "\u001b[?25l  Downloading https://files.pythonhosted.org/packages/fe/ef/60d7ba03b5c442309ef42e7d69959f73aacccd0d86008362a681c4698e83/pip-21.0.1-py3-none-any.whl (1.5MB)\n",
            "\r\u001b[K     |▏                               | 10kB 16.7MB/s eta 0:00:01\r\u001b[K     |▍                               | 20kB 9.3MB/s eta 0:00:01\r\u001b[K     |▋                               | 30kB 7.9MB/s eta 0:00:01\r\u001b[K     |▉                               | 40kB 6.7MB/s eta 0:00:01\r\u001b[K     |█                               | 51kB 4.3MB/s eta 0:00:01\r\u001b[K     |█▎                              | 61kB 5.0MB/s eta 0:00:01\r\u001b[K     |█▌                              | 71kB 4.9MB/s eta 0:00:01\r\u001b[K     |█▊                              | 81kB 5.5MB/s eta 0:00:01\r\u001b[K     |██                              | 92kB 5.6MB/s eta 0:00:01\r\u001b[K     |██▏                             | 102kB 5.4MB/s eta 0:00:01\r\u001b[K     |██▍                             | 112kB 5.4MB/s eta 0:00:01\r\u001b[K     |██▌                             | 122kB 5.4MB/s eta 0:00:01\r\u001b[K     |██▊                             | 133kB 5.4MB/s eta 0:00:01\r\u001b[K     |███                             | 143kB 5.4MB/s eta 0:00:01\r\u001b[K     |███▏                            | 153kB 5.4MB/s eta 0:00:01\r\u001b[K     |███▍                            | 163kB 5.4MB/s eta 0:00:01\r\u001b[K     |███▋                            | 174kB 5.4MB/s eta 0:00:01\r\u001b[K     |███▉                            | 184kB 5.4MB/s eta 0:00:01\r\u001b[K     |████                            | 194kB 5.4MB/s eta 0:00:01\r\u001b[K     |████▎                           | 204kB 5.4MB/s eta 0:00:01\r\u001b[K     |████▌                           | 215kB 5.4MB/s eta 0:00:01\r\u001b[K     |████▊                           | 225kB 5.4MB/s eta 0:00:01\r\u001b[K     |█████                           | 235kB 5.4MB/s eta 0:00:01\r\u001b[K     |█████                           | 245kB 5.4MB/s eta 0:00:01\r\u001b[K     |█████▎                          | 256kB 5.4MB/s eta 0:00:01\r\u001b[K     |█████▌                          | 266kB 5.4MB/s eta 0:00:01\r\u001b[K     |█████▊                          | 276kB 5.4MB/s eta 0:00:01\r\u001b[K     |██████                          | 286kB 5.4MB/s eta 0:00:01\r\u001b[K     |██████▏                         | 296kB 5.4MB/s eta 0:00:01\r\u001b[K     |██████▍                         | 307kB 5.4MB/s eta 0:00:01\r\u001b[K     |██████▋                         | 317kB 5.4MB/s eta 0:00:01\r\u001b[K     |██████▉                         | 327kB 5.4MB/s eta 0:00:01\r\u001b[K     |███████                         | 337kB 5.4MB/s eta 0:00:01\r\u001b[K     |███████▎                        | 348kB 5.4MB/s eta 0:00:01\r\u001b[K     |███████▌                        | 358kB 5.4MB/s eta 0:00:01\r\u001b[K     |███████▋                        | 368kB 5.4MB/s eta 0:00:01\r\u001b[K     |███████▉                        | 378kB 5.4MB/s eta 0:00:01\r\u001b[K     |████████                        | 389kB 5.4MB/s eta 0:00:01\r\u001b[K     |████████▎                       | 399kB 5.4MB/s eta 0:00:01\r\u001b[K     |████████▌                       | 409kB 5.4MB/s eta 0:00:01\r\u001b[K     |████████▊                       | 419kB 5.4MB/s eta 0:00:01\r\u001b[K     |█████████                       | 430kB 5.4MB/s eta 0:00:01\r\u001b[K     |█████████▏                      | 440kB 5.4MB/s eta 0:00:01\r\u001b[K     |█████████▍                      | 450kB 5.4MB/s eta 0:00:01\r\u001b[K     |█████████▋                      | 460kB 5.4MB/s eta 0:00:01\r\u001b[K     |█████████▉                      | 471kB 5.4MB/s eta 0:00:01\r\u001b[K     |██████████                      | 481kB 5.4MB/s eta 0:00:01\r\u001b[K     |██████████▏                     | 491kB 5.4MB/s eta 0:00:01\r\u001b[K     |██████████▍                     | 501kB 5.4MB/s eta 0:00:01\r\u001b[K     |██████████▋                     | 512kB 5.4MB/s eta 0:00:01\r\u001b[K     |██████████▉                     | 522kB 5.4MB/s eta 0:00:01\r\u001b[K     |███████████                     | 532kB 5.4MB/s eta 0:00:01\r\u001b[K     |███████████▎                    | 542kB 5.4MB/s eta 0:00:01\r\u001b[K     |███████████▌                    | 552kB 5.4MB/s eta 0:00:01\r\u001b[K     |███████████▊                    | 563kB 5.4MB/s eta 0:00:01\r\u001b[K     |████████████                    | 573kB 5.4MB/s eta 0:00:01\r\u001b[K     |████████████▏                   | 583kB 5.4MB/s eta 0:00:01\r\u001b[K     |████████████▍                   | 593kB 5.4MB/s eta 0:00:01\r\u001b[K     |████████████▋                   | 604kB 5.4MB/s eta 0:00:01\r\u001b[K     |████████████▊                   | 614kB 5.4MB/s eta 0:00:01\r\u001b[K     |█████████████                   | 624kB 5.4MB/s eta 0:00:01\r\u001b[K     |█████████████▏                  | 634kB 5.4MB/s eta 0:00:01\r\u001b[K     |█████████████▍                  | 645kB 5.4MB/s eta 0:00:01\r\u001b[K     |█████████████▋                  | 655kB 5.4MB/s eta 0:00:01\r\u001b[K     |█████████████▉                  | 665kB 5.4MB/s eta 0:00:01\r\u001b[K     |██████████████                  | 675kB 5.4MB/s eta 0:00:01\r\u001b[K     |██████████████▎                 | 686kB 5.4MB/s eta 0:00:01\r\u001b[K     |██████████████▌                 | 696kB 5.4MB/s eta 0:00:01\r\u001b[K     |██████████████▊                 | 706kB 5.4MB/s eta 0:00:01\r\u001b[K     |███████████████                 | 716kB 5.4MB/s eta 0:00:01\r\u001b[K     |███████████████▏                | 727kB 5.4MB/s eta 0:00:01\r\u001b[K     |███████████████▎                | 737kB 5.4MB/s eta 0:00:01\r\u001b[K     |███████████████▌                | 747kB 5.4MB/s eta 0:00:01\r\u001b[K     |███████████████▊                | 757kB 5.4MB/s eta 0:00:01\r\u001b[K     |████████████████                | 768kB 5.4MB/s eta 0:00:01\r\u001b[K     |████████████████▏               | 778kB 5.4MB/s eta 0:00:01\r\u001b[K     |████████████████▍               | 788kB 5.4MB/s eta 0:00:01\r\u001b[K     |████████████████▋               | 798kB 5.4MB/s eta 0:00:01\r\u001b[K     |████████████████▉               | 808kB 5.4MB/s eta 0:00:01\r\u001b[K     |█████████████████               | 819kB 5.4MB/s eta 0:00:01\r\u001b[K     |█████████████████▎              | 829kB 5.4MB/s eta 0:00:01\r\u001b[K     |█████████████████▌              | 839kB 5.4MB/s eta 0:00:01\r\u001b[K     |█████████████████▊              | 849kB 5.4MB/s eta 0:00:01\r\u001b[K     |█████████████████▉              | 860kB 5.4MB/s eta 0:00:01\r\u001b[K     |██████████████████              | 870kB 5.4MB/s eta 0:00:01\r\u001b[K     |██████████████████▎             | 880kB 5.4MB/s eta 0:00:01\r\u001b[K     |██████████████████▌             | 890kB 5.4MB/s eta 0:00:01\r\u001b[K     |██████████████████▊             | 901kB 5.4MB/s eta 0:00:01\r\u001b[K     |███████████████████             | 911kB 5.4MB/s eta 0:00:01\r\u001b[K     |███████████████████▏            | 921kB 5.4MB/s eta 0:00:01\r\u001b[K     |███████████████████▍            | 931kB 5.4MB/s eta 0:00:01\r\u001b[K     |███████████████████▋            | 942kB 5.4MB/s eta 0:00:01\r\u001b[K     |███████████████████▉            | 952kB 5.4MB/s eta 0:00:01\r\u001b[K     |████████████████████            | 962kB 5.4MB/s eta 0:00:01\r\u001b[K     |████████████████████▎           | 972kB 5.4MB/s eta 0:00:01\r\u001b[K     |████████████████████▍           | 983kB 5.4MB/s eta 0:00:01\r\u001b[K     |████████████████████▋           | 993kB 5.4MB/s eta 0:00:01\r\u001b[K     |████████████████████▉           | 1.0MB 5.4MB/s eta 0:00:01\r\u001b[K     |█████████████████████           | 1.0MB 5.4MB/s eta 0:00:01\r\u001b[K     |█████████████████████▎          | 1.0MB 5.4MB/s eta 0:00:01\r\u001b[K     |█████████████████████▌          | 1.0MB 5.4MB/s eta 0:00:01\r\u001b[K     |█████████████████████▊          | 1.0MB 5.4MB/s eta 0:00:01\r\u001b[K     |██████████████████████          | 1.1MB 5.4MB/s eta 0:00:01\r\u001b[K     |██████████████████████▏         | 1.1MB 5.4MB/s eta 0:00:01\r\u001b[K     |██████████████████████▍         | 1.1MB 5.4MB/s eta 0:00:01\r\u001b[K     |██████████████████████▋         | 1.1MB 5.4MB/s eta 0:00:01\r\u001b[K     |██████████████████████▉         | 1.1MB 5.4MB/s eta 0:00:01\r\u001b[K     |███████████████████████         | 1.1MB 5.4MB/s eta 0:00:01\r\u001b[K     |███████████████████████▏        | 1.1MB 5.4MB/s eta 0:00:01\r\u001b[K     |███████████████████████▍        | 1.1MB 5.4MB/s eta 0:00:01\r\u001b[K     |███████████████████████▋        | 1.1MB 5.4MB/s eta 0:00:01\r\u001b[K     |███████████████████████▉        | 1.1MB 5.4MB/s eta 0:00:01\r\u001b[K     |████████████████████████        | 1.2MB 5.4MB/s eta 0:00:01\r\u001b[K     |████████████████████████▎       | 1.2MB 5.4MB/s eta 0:00:01\r\u001b[K     |████████████████████████▌       | 1.2MB 5.4MB/s eta 0:00:01\r\u001b[K     |████████████████████████▊       | 1.2MB 5.4MB/s eta 0:00:01\r\u001b[K     |█████████████████████████       | 1.2MB 5.4MB/s eta 0:00:01\r\u001b[K     |█████████████████████████▏      | 1.2MB 5.4MB/s eta 0:00:01\r\u001b[K     |█████████████████████████▍      | 1.2MB 5.4MB/s eta 0:00:01\r\u001b[K     |█████████████████████████▌      | 1.2MB 5.4MB/s eta 0:00:01\r\u001b[K     |█████████████████████████▊      | 1.2MB 5.4MB/s eta 0:00:01\r\u001b[K     |██████████████████████████      | 1.2MB 5.4MB/s eta 0:00:01\r\u001b[K     |██████████████████████████▏     | 1.3MB 5.4MB/s eta 0:00:01\r\u001b[K     |██████████████████████████▍     | 1.3MB 5.4MB/s eta 0:00:01\r\u001b[K     |██████████████████████████▋     | 1.3MB 5.4MB/s eta 0:00:01\r\u001b[K     |██████████████████████████▉     | 1.3MB 5.4MB/s eta 0:00:01\r\u001b[K     |███████████████████████████     | 1.3MB 5.4MB/s eta 0:00:01\r\u001b[K     |███████████████████████████▎    | 1.3MB 5.4MB/s eta 0:00:01\r\u001b[K     |███████████████████████████▌    | 1.3MB 5.4MB/s eta 0:00:01\r\u001b[K     |███████████████████████████▊    | 1.3MB 5.4MB/s eta 0:00:01\r\u001b[K     |███████████████████████████▉    | 1.3MB 5.4MB/s eta 0:00:01\r\u001b[K     |████████████████████████████    | 1.4MB 5.4MB/s eta 0:00:01\r\u001b[K     |████████████████████████████▎   | 1.4MB 5.4MB/s eta 0:00:01\r\u001b[K     |████████████████████████████▌   | 1.4MB 5.4MB/s eta 0:00:01\r\u001b[K     |████████████████████████████▊   | 1.4MB 5.4MB/s eta 0:00:01\r\u001b[K     |█████████████████████████████   | 1.4MB 5.4MB/s eta 0:00:01\r\u001b[K     |█████████████████████████████▏  | 1.4MB 5.4MB/s eta 0:00:01\r\u001b[K     |█████████████████████████████▍  | 1.4MB 5.4MB/s eta 0:00:01\r\u001b[K     |█████████████████████████████▋  | 1.4MB 5.4MB/s eta 0:00:01\r\u001b[K     |█████████████████████████████▉  | 1.4MB 5.4MB/s eta 0:00:01\r\u001b[K     |██████████████████████████████  | 1.4MB 5.4MB/s eta 0:00:01\r\u001b[K     |██████████████████████████████▎ | 1.5MB 5.4MB/s eta 0:00:01\r\u001b[K     |██████████████████████████████▍ | 1.5MB 5.4MB/s eta 0:00:01\r\u001b[K     |██████████████████████████████▋ | 1.5MB 5.4MB/s eta 0:00:01\r\u001b[K     |██████████████████████████████▉ | 1.5MB 5.4MB/s eta 0:00:01\r\u001b[K     |███████████████████████████████ | 1.5MB 5.4MB/s eta 0:00:01\r\u001b[K     |███████████████████████████████▎| 1.5MB 5.4MB/s eta 0:00:01\r\u001b[K     |███████████████████████████████▌| 1.5MB 5.4MB/s eta 0:00:01\r\u001b[K     |███████████████████████████████▊| 1.5MB 5.4MB/s eta 0:00:01\r\u001b[K     |████████████████████████████████| 1.5MB 5.4MB/s eta 0:00:01\r\u001b[K     |████████████████████████████████| 1.5MB 5.4MB/s \n",
            "\u001b[?25hInstalling collected packages: pip\n",
            "  Found existing installation: pip 19.3.1\n",
            "    Uninstalling pip-19.3.1:\n",
            "      Successfully uninstalled pip-19.3.1\n",
            "Successfully installed pip-21.0.1\n"
          ],
          "name": "stdout"
        }
      ]
    },
    {
      "cell_type": "code",
      "metadata": {
        "colab": {
          "base_uri": "https://localhost:8080/"
        },
        "id": "NNJGSqMKHOMW",
        "outputId": "92c4a91c-ac79-45ef-8b86-45772ff940fe"
      },
      "source": [
        "!pip install --upgrade google-api-python-client"
      ],
      "execution_count": 5,
      "outputs": [
        {
          "output_type": "stream",
          "text": [
            "Requirement already satisfied: google-api-python-client in /usr/local/lib/python3.7/dist-packages (1.12.8)\n",
            "Collecting google-api-python-client\n",
            "  Downloading google_api_python_client-2.1.0-py2.py3-none-any.whl (6.6 MB)\n",
            "\u001b[K     |████████████████████████████████| 6.6 MB 5.2 MB/s \n",
            "\u001b[?25hRequirement already satisfied: google-auth<2dev,>=1.16.0 in /usr/local/lib/python3.7/dist-packages (from google-api-python-client) (1.28.0)\n",
            "Collecting google-auth-httplib2>=0.1.0\n",
            "  Downloading google_auth_httplib2-0.1.0-py2.py3-none-any.whl (9.3 kB)\n",
            "Requirement already satisfied: google-api-core<2dev,>=1.21.0 in /usr/local/lib/python3.7/dist-packages (from google-api-python-client) (1.26.2)\n",
            "Requirement already satisfied: httplib2<1dev,>=0.15.0 in /usr/local/lib/python3.7/dist-packages (from google-api-python-client) (0.17.4)\n",
            "Requirement already satisfied: six<2dev,>=1.13.0 in /usr/local/lib/python3.7/dist-packages (from google-api-python-client) (1.15.0)\n",
            "Requirement already satisfied: uritemplate<4dev,>=3.0.0 in /usr/local/lib/python3.7/dist-packages (from google-api-python-client) (3.0.1)\n",
            "Requirement already satisfied: pytz in /usr/local/lib/python3.7/dist-packages (from google-api-core<2dev,>=1.21.0->google-api-python-client) (2018.9)\n",
            "Requirement already satisfied: protobuf>=3.12.0 in /usr/local/lib/python3.7/dist-packages (from google-api-core<2dev,>=1.21.0->google-api-python-client) (3.12.4)\n",
            "Requirement already satisfied: requests<3.0.0dev,>=2.18.0 in /usr/local/lib/python3.7/dist-packages (from google-api-core<2dev,>=1.21.0->google-api-python-client) (2.23.0)\n",
            "Requirement already satisfied: packaging>=14.3 in /usr/local/lib/python3.7/dist-packages (from google-api-core<2dev,>=1.21.0->google-api-python-client) (20.9)\n",
            "Requirement already satisfied: googleapis-common-protos<2.0dev,>=1.6.0 in /usr/local/lib/python3.7/dist-packages (from google-api-core<2dev,>=1.21.0->google-api-python-client) (1.53.0)\n",
            "Requirement already satisfied: setuptools>=40.3.0 in /usr/local/lib/python3.7/dist-packages (from google-api-core<2dev,>=1.21.0->google-api-python-client) (54.2.0)\n",
            "Requirement already satisfied: cachetools<5.0,>=2.0.0 in /usr/local/lib/python3.7/dist-packages (from google-auth<2dev,>=1.16.0->google-api-python-client) (4.2.1)\n",
            "Requirement already satisfied: pyasn1-modules>=0.2.1 in /usr/local/lib/python3.7/dist-packages (from google-auth<2dev,>=1.16.0->google-api-python-client) (0.2.8)\n",
            "Requirement already satisfied: rsa<5,>=3.1.4 in /usr/local/lib/python3.7/dist-packages (from google-auth<2dev,>=1.16.0->google-api-python-client) (4.7.2)\n",
            "Requirement already satisfied: pyparsing>=2.0.2 in /usr/local/lib/python3.7/dist-packages (from packaging>=14.3->google-api-core<2dev,>=1.21.0->google-api-python-client) (2.4.7)\n",
            "Requirement already satisfied: pyasn1<0.5.0,>=0.4.6 in /usr/local/lib/python3.7/dist-packages (from pyasn1-modules>=0.2.1->google-auth<2dev,>=1.16.0->google-api-python-client) (0.4.8)\n",
            "Requirement already satisfied: idna<3,>=2.5 in /usr/local/lib/python3.7/dist-packages (from requests<3.0.0dev,>=2.18.0->google-api-core<2dev,>=1.21.0->google-api-python-client) (2.10)\n",
            "Requirement already satisfied: chardet<4,>=3.0.2 in /usr/local/lib/python3.7/dist-packages (from requests<3.0.0dev,>=2.18.0->google-api-core<2dev,>=1.21.0->google-api-python-client) (3.0.4)\n",
            "Requirement already satisfied: urllib3!=1.25.0,!=1.25.1,<1.26,>=1.21.1 in /usr/local/lib/python3.7/dist-packages (from requests<3.0.0dev,>=2.18.0->google-api-core<2dev,>=1.21.0->google-api-python-client) (1.24.3)\n",
            "Requirement already satisfied: certifi>=2017.4.17 in /usr/local/lib/python3.7/dist-packages (from requests<3.0.0dev,>=2.18.0->google-api-core<2dev,>=1.21.0->google-api-python-client) (2020.12.5)\n",
            "Installing collected packages: google-auth-httplib2, google-api-python-client\n",
            "  Attempting uninstall: google-auth-httplib2\n",
            "    Found existing installation: google-auth-httplib2 0.0.4\n",
            "    Uninstalling google-auth-httplib2-0.0.4:\n",
            "      Successfully uninstalled google-auth-httplib2-0.0.4\n",
            "  Attempting uninstall: google-api-python-client\n",
            "    Found existing installation: google-api-python-client 1.12.8\n",
            "    Uninstalling google-api-python-client-1.12.8:\n",
            "      Successfully uninstalled google-api-python-client-1.12.8\n",
            "\u001b[31mERROR: pip's dependency resolver does not currently take into account all the packages that are installed. This behaviour is the source of the following dependency conflicts.\n",
            "earthengine-api 0.1.258 requires google-api-python-client<2,>=1.12.1, but you have google-api-python-client 2.1.0 which is incompatible.\u001b[0m\n",
            "Successfully installed google-api-python-client-2.1.0 google-auth-httplib2-0.1.0\n"
          ],
          "name": "stdout"
        }
      ]
    },
    {
      "cell_type": "code",
      "metadata": {
        "colab": {
          "base_uri": "https://localhost:8080/"
        },
        "id": "Kfn570-BPTcq",
        "outputId": "1b2feaa8-e55b-4f31-f284-fe05a7f029f8"
      },
      "source": [
        "!pip install google-cloud-documentai"
      ],
      "execution_count": 1,
      "outputs": [
        {
          "output_type": "stream",
          "text": [
            "Requirement already satisfied: google-cloud-documentai in /usr/local/lib/python3.7/dist-packages (0.4.0)\n",
            "Requirement already satisfied: google-api-core[grpc]<2.0.0dev,>=1.22.2 in /usr/local/lib/python3.7/dist-packages (from google-cloud-documentai) (1.26.2)\n",
            "Requirement already satisfied: proto-plus>=1.10.0 in /usr/local/lib/python3.7/dist-packages (from google-cloud-documentai) (1.18.1)\n",
            "Requirement already satisfied: requests<3.0.0dev,>=2.18.0 in /usr/local/lib/python3.7/dist-packages (from google-api-core[grpc]<2.0.0dev,>=1.22.2->google-cloud-documentai) (2.23.0)\n",
            "Requirement already satisfied: setuptools>=40.3.0 in /usr/local/lib/python3.7/dist-packages (from google-api-core[grpc]<2.0.0dev,>=1.22.2->google-cloud-documentai) (54.2.0)\n",
            "Requirement already satisfied: google-auth<2.0dev,>=1.21.1 in /usr/local/lib/python3.7/dist-packages (from google-api-core[grpc]<2.0.0dev,>=1.22.2->google-cloud-documentai) (1.28.0)\n",
            "Requirement already satisfied: protobuf>=3.12.0 in /usr/local/lib/python3.7/dist-packages (from google-api-core[grpc]<2.0.0dev,>=1.22.2->google-cloud-documentai) (3.12.4)\n",
            "Requirement already satisfied: six>=1.13.0 in /usr/local/lib/python3.7/dist-packages (from google-api-core[grpc]<2.0.0dev,>=1.22.2->google-cloud-documentai) (1.15.0)\n",
            "Requirement already satisfied: packaging>=14.3 in /usr/local/lib/python3.7/dist-packages (from google-api-core[grpc]<2.0.0dev,>=1.22.2->google-cloud-documentai) (20.9)\n",
            "Requirement already satisfied: googleapis-common-protos<2.0dev,>=1.6.0 in /usr/local/lib/python3.7/dist-packages (from google-api-core[grpc]<2.0.0dev,>=1.22.2->google-cloud-documentai) (1.53.0)\n",
            "Requirement already satisfied: pytz in /usr/local/lib/python3.7/dist-packages (from google-api-core[grpc]<2.0.0dev,>=1.22.2->google-cloud-documentai) (2018.9)\n",
            "Requirement already satisfied: grpcio<2.0dev,>=1.29.0 in /usr/local/lib/python3.7/dist-packages (from google-api-core[grpc]<2.0.0dev,>=1.22.2->google-cloud-documentai) (1.32.0)\n",
            "Requirement already satisfied: rsa<5,>=3.1.4 in /usr/local/lib/python3.7/dist-packages (from google-auth<2.0dev,>=1.21.1->google-api-core[grpc]<2.0.0dev,>=1.22.2->google-cloud-documentai) (4.7.2)\n",
            "Requirement already satisfied: cachetools<5.0,>=2.0.0 in /usr/local/lib/python3.7/dist-packages (from google-auth<2.0dev,>=1.21.1->google-api-core[grpc]<2.0.0dev,>=1.22.2->google-cloud-documentai) (4.2.1)\n",
            "Requirement already satisfied: pyasn1-modules>=0.2.1 in /usr/local/lib/python3.7/dist-packages (from google-auth<2.0dev,>=1.21.1->google-api-core[grpc]<2.0.0dev,>=1.22.2->google-cloud-documentai) (0.2.8)\n",
            "Requirement already satisfied: pyparsing>=2.0.2 in /usr/local/lib/python3.7/dist-packages (from packaging>=14.3->google-api-core[grpc]<2.0.0dev,>=1.22.2->google-cloud-documentai) (2.4.7)\n",
            "Requirement already satisfied: pyasn1<0.5.0,>=0.4.6 in /usr/local/lib/python3.7/dist-packages (from pyasn1-modules>=0.2.1->google-auth<2.0dev,>=1.21.1->google-api-core[grpc]<2.0.0dev,>=1.22.2->google-cloud-documentai) (0.4.8)\n",
            "Requirement already satisfied: certifi>=2017.4.17 in /usr/local/lib/python3.7/dist-packages (from requests<3.0.0dev,>=2.18.0->google-api-core[grpc]<2.0.0dev,>=1.22.2->google-cloud-documentai) (2020.12.5)\n",
            "Requirement already satisfied: chardet<4,>=3.0.2 in /usr/local/lib/python3.7/dist-packages (from requests<3.0.0dev,>=2.18.0->google-api-core[grpc]<2.0.0dev,>=1.22.2->google-cloud-documentai) (3.0.4)\n",
            "Requirement already satisfied: urllib3!=1.25.0,!=1.25.1,<1.26,>=1.21.1 in /usr/local/lib/python3.7/dist-packages (from requests<3.0.0dev,>=2.18.0->google-api-core[grpc]<2.0.0dev,>=1.22.2->google-cloud-documentai) (1.24.3)\n",
            "Requirement already satisfied: idna<3,>=2.5 in /usr/local/lib/python3.7/dist-packages (from requests<3.0.0dev,>=2.18.0->google-api-core[grpc]<2.0.0dev,>=1.22.2->google-cloud-documentai) (2.10)\n"
          ],
          "name": "stdout"
        }
      ]
    },
    {
      "cell_type": "code",
      "metadata": {
        "id": "AAMZdMwMj3Oy"
      },
      "source": [
        "import os\n",
        "os.environ['GOOGLE_APPLICATION_CREDENTIALS'] = \"/content/drive/Shareddrives/CAPSTONE/Resources/sapient-stacker-308223-836172bc8681.json\""
      ],
      "execution_count": 24,
      "outputs": []
    },
    {
      "cell_type": "code",
      "metadata": {
        "colab": {
          "base_uri": "https://localhost:8080/"
        },
        "id": "75-30m8hi1cJ",
        "outputId": "a1885edd-d189-476e-9c8d-4ed4df6406ef"
      },
      "source": [
        "!gcloud auth application-default print-access-token"
      ],
      "execution_count": 25,
      "outputs": [
        {
          "output_type": "stream",
          "text": [
            "ya29.c.Kp8B-ge1yv9jK9jNvSJw-XcWPpH9N4uz4__5QF2GPVKbjANWfXBjUG2gLXQurb4gx8IUwUjuBTA1lxNOUa_uYtuEAgYRjlfMCbUkvhaHVR81cYkgmZUKQz9pKUdghYiDuW0ppco_FqWRgxEErgrsqi1TiOw2vzBdNPAyVBjikV8_UOYaK9hUil8Mqv7FqKhI99j-plT77Sv_SARYnFLeAaXW\n"
          ],
          "name": "stdout"
        }
      ]
    },
    {
      "cell_type": "code",
      "metadata": {
        "id": "KGI-ytn0b94Z"
      },
      "source": [
        "from google.cloud import documentai_v1beta2 as documentai"
      ],
      "execution_count": 26,
      "outputs": []
    },
    {
      "cell_type": "code",
      "metadata": {
        "id": "5NMeF2ujfOB1"
      },
      "source": [
        "def main(\n",
        "    project_id=\"sapient-stacker-308223\",\n",
        "    input_uri=\"gs://medical-documents/nerve 3.pdf\",\n",
        "):\n",
        "    \"\"\"Process a single document with the Document AI API, including\n",
        "    text extraction and entity extraction.\"\"\"\n",
        "\n",
        "    client = documentai.DocumentUnderstandingServiceClient()\n",
        "\n",
        "    gcs_source = documentai.types.GcsSource(uri=input_uri)\n",
        "\n",
        "    # mime_type can be application/pdf, image/tiff,\n",
        "    # and image/gif, or application/json\n",
        "    input_config = documentai.types.InputConfig(\n",
        "        gcs_source=gcs_source, mime_type=\"application/pdf\"\n",
        "    )\n",
        "\n",
        "    # Location can be 'us' or 'eu'\n",
        "    parent = \"projects/{}/locations/us\".format(project_id)\n",
        "    request = documentai.types.ProcessDocumentRequest(\n",
        "        parent=parent, input_config=input_config\n",
        "    )\n",
        "\n",
        "    document = client.process_document(request=request)\n",
        "\n",
        "    # All text extracted from the document\n",
        "    print(\"Document Text: {}\".format(document.text))\n",
        "\n",
        "    def _get_text(el):\n",
        "        \"\"\"Convert text offset indexes into text snippets.\"\"\"\n",
        "        response = \"\"\n",
        "        # If a text segment spans several lines, it will\n",
        "        # be stored in different text segments.\n",
        "        for segment in el.text_anchor.text_segments:\n",
        "            start_index = segment.start_index\n",
        "            end_index = segment.end_index\n",
        "            response += document.text[start_index:end_index]\n",
        "        return response\n",
        "\n",
        "    for entity in document.entities:\n",
        "        print(\"Entity type: {}\".format(entity.type_))\n",
        "        print(\"Text: {}\".format(_get_text(entity)))\n",
        "        print(\"Mention text: {}\\n\".format(entity.mention_text))"
      ],
      "execution_count": 27,
      "outputs": []
    },
    {
      "cell_type": "code",
      "metadata": {
        "colab": {
          "base_uri": "https://localhost:8080/"
        },
        "id": "KJnJumQdgiEn",
        "outputId": "ff760f31-cc59-4d6d-93b3-4a77da44a6f3"
      },
      "source": [
        "main(input_uri=\"gs://medical-documents/nerve 2.pdf\")"
      ],
      "execution_count": 29,
      "outputs": [
        {
          "output_type": "stream",
          "text": [
            "Document Text: Examination of the neck showed full range of movement with no bruits, masses,\n",
            "thyromegaly or adenopathy. Auscultation of the heart and lungs was normal.\n",
            "There was no organomegaly or adenopathy.\n",
            "Examination of the extremities showed normal tone throughout. Tendon reflexes\n",
            "were all absent apart from trace ankle jerks, which could only be obtained with\n",
            "reinforcement. All other tendons reflexes were absent. All muscles\n",
            "demonstrated normal strength apart from reduced 4+/5 right ankle dorsiflexion\n",
            "strength and reduced 3/5 strength of the right toe extensors and the right\n",
            "extensor hallucis longus. The right extensor digitorum brevis muscles were felt\n",
            "\n",
            "Entity type: \n",
            "Text: demonstrated normal strength apart from reduced 4+/5 right ankle dorsiflexion\n",
            "Mention text: reduced 4+/5 right ankle dorsiflexion\n",
            "\n"
          ],
          "name": "stdout"
        }
      ]
    },
    {
      "cell_type": "code",
      "metadata": {
        "id": "-nZOdb8dgoVM"
      },
      "source": [
        ""
      ],
      "execution_count": null,
      "outputs": []
    }
  ]
}