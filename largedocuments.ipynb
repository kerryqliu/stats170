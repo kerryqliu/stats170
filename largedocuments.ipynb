{
  "nbformat": 4,
  "nbformat_minor": 0,
  "metadata": {
    "colab": {
      "name": "documents.ipynb",
      "provenance": [],
      "include_colab_link": true
    },
    "kernelspec": {
      "name": "python3",
      "display_name": "Python 3"
    },
    "language_info": {
      "name": "python"
    }
  },
  "cells": [
    {
      "cell_type": "markdown",
      "metadata": {
        "id": "view-in-github",
        "colab_type": "text"
      },
      "source": [
        "<a href=\"https://colab.research.google.com/github/kerryqliu/stats170/blob/irene/largedocuments.ipynb\" target=\"_parent\"><img src=\"https://colab.research.google.com/assets/colab-badge.svg\" alt=\"Open In Colab\"/></a>"
      ]
    },
    {
      "cell_type": "code",
      "metadata": {
        "id": "IgpK_FscBDgP"
      },
      "source": [
        "import json\n",
        "\n",
        "from google.cloud import storage\n",
        "from google.oauth2 import service_account"
      ],
      "execution_count": 1,
      "outputs": []
    },
    {
      "cell_type": "code",
      "metadata": {
        "id": "SX6c_bVfPr6E",
        "outputId": "1e64cc7c-3755-452a-c244-da6474dcddd9",
        "colab": {
          "base_uri": "https://localhost:8080/"
        }
      },
      "source": [
        "from google.colab import drive\n",
        "drive.mount('/content/drive')"
      ],
      "execution_count": 2,
      "outputs": [
        {
          "output_type": "stream",
          "text": [
            "Mounted at /content/drive\n"
          ],
          "name": "stdout"
        }
      ]
    },
    {
      "cell_type": "code",
      "metadata": {
        "colab": {
          "base_uri": "https://localhost:8080/"
        },
        "id": "4shNvoYGCVxB",
        "outputId": "e97eae89-65a3-4996-e655-afe539fbbc19"
      },
      "source": [
        "import getpass\n",
        "\n",
        "APIKEY = getpass.getpass()"
      ],
      "execution_count": 3,
      "outputs": [
        {
          "output_type": "stream",
          "text": [
            "··········\n"
          ],
          "name": "stdout"
        }
      ]
    },
    {
      "cell_type": "code",
      "metadata": {
        "colab": {
          "base_uri": "https://localhost:8080/"
        },
        "id": "WL70AkCIHDOk",
        "outputId": "2cd93807-cd6c-4d03-fb15-d10b73737821"
      },
      "source": [
        "!pip install --upgrade pip"
      ],
      "execution_count": 5,
      "outputs": [
        {
          "output_type": "stream",
          "text": [
            "Collecting pip\n",
            "\u001b[?25l  Downloading https://files.pythonhosted.org/packages/cd/6f/43037c7bcc8bd8ba7c9074256b1a11596daa15555808ec748048c1507f08/pip-21.1.1-py3-none-any.whl (1.5MB)\n",
            "\r\u001b[K     |▏                               | 10kB 14.6MB/s eta 0:00:01\r\u001b[K     |▍                               | 20kB 19.7MB/s eta 0:00:01\r\u001b[K     |▋                               | 30kB 23.7MB/s eta 0:00:01\r\u001b[K     |▉                               | 40kB 25.9MB/s eta 0:00:01\r\u001b[K     |█                               | 51kB 27.5MB/s eta 0:00:01\r\u001b[K     |█▎                              | 61kB 30.0MB/s eta 0:00:01\r\u001b[K     |█▌                              | 71kB 31.1MB/s eta 0:00:01\r\u001b[K     |█▊                              | 81kB 30.7MB/s eta 0:00:01\r\u001b[K     |██                              | 92kB 30.9MB/s eta 0:00:01\r\u001b[K     |██▏                             | 102kB 31.6MB/s eta 0:00:01\r\u001b[K     |██▎                             | 112kB 31.6MB/s eta 0:00:01\r\u001b[K     |██▌                             | 122kB 31.6MB/s eta 0:00:01\r\u001b[K     |██▊                             | 133kB 31.6MB/s eta 0:00:01\r\u001b[K     |███                             | 143kB 31.6MB/s eta 0:00:01\r\u001b[K     |███▏                            | 153kB 31.6MB/s eta 0:00:01\r\u001b[K     |███▍                            | 163kB 31.6MB/s eta 0:00:01\r\u001b[K     |███▋                            | 174kB 31.6MB/s eta 0:00:01\r\u001b[K     |███▉                            | 184kB 31.6MB/s eta 0:00:01\r\u001b[K     |████                            | 194kB 31.6MB/s eta 0:00:01\r\u001b[K     |████▎                           | 204kB 31.6MB/s eta 0:00:01\r\u001b[K     |████▌                           | 215kB 31.6MB/s eta 0:00:01\r\u001b[K     |████▋                           | 225kB 31.6MB/s eta 0:00:01\r\u001b[K     |████▉                           | 235kB 31.6MB/s eta 0:00:01\r\u001b[K     |█████                           | 245kB 31.6MB/s eta 0:00:01\r\u001b[K     |█████▎                          | 256kB 31.6MB/s eta 0:00:01\r\u001b[K     |█████▌                          | 266kB 31.6MB/s eta 0:00:01\r\u001b[K     |█████▊                          | 276kB 31.6MB/s eta 0:00:01\r\u001b[K     |██████                          | 286kB 31.6MB/s eta 0:00:01\r\u001b[K     |██████▏                         | 296kB 31.6MB/s eta 0:00:01\r\u001b[K     |██████▍                         | 307kB 31.6MB/s eta 0:00:01\r\u001b[K     |██████▋                         | 317kB 31.6MB/s eta 0:00:01\r\u001b[K     |██████▊                         | 327kB 31.6MB/s eta 0:00:01\r\u001b[K     |███████                         | 337kB 31.6MB/s eta 0:00:01\r\u001b[K     |███████▏                        | 348kB 31.6MB/s eta 0:00:01\r\u001b[K     |███████▍                        | 358kB 31.6MB/s eta 0:00:01\r\u001b[K     |███████▋                        | 368kB 31.6MB/s eta 0:00:01\r\u001b[K     |███████▉                        | 378kB 31.6MB/s eta 0:00:01\r\u001b[K     |████████                        | 389kB 31.6MB/s eta 0:00:01\r\u001b[K     |████████▎                       | 399kB 31.6MB/s eta 0:00:01\r\u001b[K     |████████▌                       | 409kB 31.6MB/s eta 0:00:01\r\u001b[K     |████████▊                       | 419kB 31.6MB/s eta 0:00:01\r\u001b[K     |█████████                       | 430kB 31.6MB/s eta 0:00:01\r\u001b[K     |█████████                       | 440kB 31.6MB/s eta 0:00:01\r\u001b[K     |█████████▎                      | 450kB 31.6MB/s eta 0:00:01\r\u001b[K     |█████████▌                      | 460kB 31.6MB/s eta 0:00:01\r\u001b[K     |█████████▊                      | 471kB 31.6MB/s eta 0:00:01\r\u001b[K     |██████████                      | 481kB 31.6MB/s eta 0:00:01\r\u001b[K     |██████████▏                     | 491kB 31.6MB/s eta 0:00:01\r\u001b[K     |██████████▍                     | 501kB 31.6MB/s eta 0:00:01\r\u001b[K     |██████████▋                     | 512kB 31.6MB/s eta 0:00:01\r\u001b[K     |██████████▉                     | 522kB 31.6MB/s eta 0:00:01\r\u001b[K     |███████████                     | 532kB 31.6MB/s eta 0:00:01\r\u001b[K     |███████████▏                    | 542kB 31.6MB/s eta 0:00:01\r\u001b[K     |███████████▍                    | 552kB 31.6MB/s eta 0:00:01\r\u001b[K     |███████████▋                    | 563kB 31.6MB/s eta 0:00:01\r\u001b[K     |███████████▉                    | 573kB 31.6MB/s eta 0:00:01\r\u001b[K     |████████████                    | 583kB 31.6MB/s eta 0:00:01\r\u001b[K     |████████████▎                   | 593kB 31.6MB/s eta 0:00:01\r\u001b[K     |████████████▌                   | 604kB 31.6MB/s eta 0:00:01\r\u001b[K     |████████████▊                   | 614kB 31.6MB/s eta 0:00:01\r\u001b[K     |█████████████                   | 624kB 31.6MB/s eta 0:00:01\r\u001b[K     |█████████████▏                  | 634kB 31.6MB/s eta 0:00:01\r\u001b[K     |█████████████▍                  | 645kB 31.6MB/s eta 0:00:01\r\u001b[K     |█████████████▌                  | 655kB 31.6MB/s eta 0:00:01\r\u001b[K     |█████████████▊                  | 665kB 31.6MB/s eta 0:00:01\r\u001b[K     |██████████████                  | 675kB 31.6MB/s eta 0:00:01\r\u001b[K     |██████████████▏                 | 686kB 31.6MB/s eta 0:00:01\r\u001b[K     |██████████████▍                 | 696kB 31.6MB/s eta 0:00:01\r\u001b[K     |██████████████▋                 | 706kB 31.6MB/s eta 0:00:01\r\u001b[K     |██████████████▉                 | 716kB 31.6MB/s eta 0:00:01\r\u001b[K     |███████████████                 | 727kB 31.6MB/s eta 0:00:01\r\u001b[K     |███████████████▎                | 737kB 31.6MB/s eta 0:00:01\r\u001b[K     |███████████████▌                | 747kB 31.6MB/s eta 0:00:01\r\u001b[K     |███████████████▊                | 757kB 31.6MB/s eta 0:00:01\r\u001b[K     |███████████████▉                | 768kB 31.6MB/s eta 0:00:01\r\u001b[K     |████████████████                | 778kB 31.6MB/s eta 0:00:01\r\u001b[K     |████████████████▎               | 788kB 31.6MB/s eta 0:00:01\r\u001b[K     |████████████████▌               | 798kB 31.6MB/s eta 0:00:01\r\u001b[K     |████████████████▊               | 808kB 31.6MB/s eta 0:00:01\r\u001b[K     |█████████████████               | 819kB 31.6MB/s eta 0:00:01\r\u001b[K     |█████████████████▏              | 829kB 31.6MB/s eta 0:00:01\r\u001b[K     |█████████████████▍              | 839kB 31.6MB/s eta 0:00:01\r\u001b[K     |█████████████████▋              | 849kB 31.6MB/s eta 0:00:01\r\u001b[K     |█████████████████▉              | 860kB 31.6MB/s eta 0:00:01\r\u001b[K     |██████████████████              | 870kB 31.6MB/s eta 0:00:01\r\u001b[K     |██████████████████▏             | 880kB 31.6MB/s eta 0:00:01\r\u001b[K     |██████████████████▍             | 890kB 31.6MB/s eta 0:00:01\r\u001b[K     |██████████████████▋             | 901kB 31.6MB/s eta 0:00:01\r\u001b[K     |██████████████████▉             | 911kB 31.6MB/s eta 0:00:01\r\u001b[K     |███████████████████             | 921kB 31.6MB/s eta 0:00:01\r\u001b[K     |███████████████████▎            | 931kB 31.6MB/s eta 0:00:01\r\u001b[K     |███████████████████▌            | 942kB 31.6MB/s eta 0:00:01\r\u001b[K     |███████████████████▊            | 952kB 31.6MB/s eta 0:00:01\r\u001b[K     |████████████████████            | 962kB 31.6MB/s eta 0:00:01\r\u001b[K     |████████████████████▏           | 972kB 31.6MB/s eta 0:00:01\r\u001b[K     |████████████████████▎           | 983kB 31.6MB/s eta 0:00:01\r\u001b[K     |████████████████████▌           | 993kB 31.6MB/s eta 0:00:01\r\u001b[K     |████████████████████▊           | 1.0MB 31.6MB/s eta 0:00:01\r\u001b[K     |█████████████████████           | 1.0MB 31.6MB/s eta 0:00:01\r\u001b[K     |█████████████████████▏          | 1.0MB 31.6MB/s eta 0:00:01\r\u001b[K     |█████████████████████▍          | 1.0MB 31.6MB/s eta 0:00:01\r\u001b[K     |█████████████████████▋          | 1.0MB 31.6MB/s eta 0:00:01\r\u001b[K     |█████████████████████▉          | 1.1MB 31.6MB/s eta 0:00:01\r\u001b[K     |██████████████████████          | 1.1MB 31.6MB/s eta 0:00:01\r\u001b[K     |██████████████████████▎         | 1.1MB 31.6MB/s eta 0:00:01\r\u001b[K     |██████████████████████▍         | 1.1MB 31.6MB/s eta 0:00:01\r\u001b[K     |██████████████████████▋         | 1.1MB 31.6MB/s eta 0:00:01\r\u001b[K     |██████████████████████▉         | 1.1MB 31.6MB/s eta 0:00:01\r\u001b[K     |███████████████████████         | 1.1MB 31.6MB/s eta 0:00:01\r\u001b[K     |███████████████████████▎        | 1.1MB 31.6MB/s eta 0:00:01\r\u001b[K     |███████████████████████▌        | 1.1MB 31.6MB/s eta 0:00:01\r\u001b[K     |███████████████████████▊        | 1.1MB 31.6MB/s eta 0:00:01\r\u001b[K     |████████████████████████        | 1.2MB 31.6MB/s eta 0:00:01\r\u001b[K     |████████████████████████▏       | 1.2MB 31.6MB/s eta 0:00:01\r\u001b[K     |████████████████████████▍       | 1.2MB 31.6MB/s eta 0:00:01\r\u001b[K     |████████████████████████▋       | 1.2MB 31.6MB/s eta 0:00:01\r\u001b[K     |████████████████████████▊       | 1.2MB 31.6MB/s eta 0:00:01\r\u001b[K     |█████████████████████████       | 1.2MB 31.6MB/s eta 0:00:01\r\u001b[K     |█████████████████████████▏      | 1.2MB 31.6MB/s eta 0:00:01\r\u001b[K     |█████████████████████████▍      | 1.2MB 31.6MB/s eta 0:00:01\r\u001b[K     |█████████████████████████▋      | 1.2MB 31.6MB/s eta 0:00:01\r\u001b[K     |█████████████████████████▉      | 1.2MB 31.6MB/s eta 0:00:01\r\u001b[K     |██████████████████████████      | 1.3MB 31.6MB/s eta 0:00:01\r\u001b[K     |██████████████████████████▎     | 1.3MB 31.6MB/s eta 0:00:01\r\u001b[K     |██████████████████████████▌     | 1.3MB 31.6MB/s eta 0:00:01\r\u001b[K     |██████████████████████████▊     | 1.3MB 31.6MB/s eta 0:00:01\r\u001b[K     |███████████████████████████     | 1.3MB 31.6MB/s eta 0:00:01\r\u001b[K     |███████████████████████████     | 1.3MB 31.6MB/s eta 0:00:01\r\u001b[K     |███████████████████████████▎    | 1.3MB 31.6MB/s eta 0:00:01\r\u001b[K     |███████████████████████████▌    | 1.3MB 31.6MB/s eta 0:00:01\r\u001b[K     |███████████████████████████▊    | 1.3MB 31.6MB/s eta 0:00:01\r\u001b[K     |████████████████████████████    | 1.4MB 31.6MB/s eta 0:00:01\r\u001b[K     |████████████████████████████▏   | 1.4MB 31.6MB/s eta 0:00:01\r\u001b[K     |████████████████████████████▍   | 1.4MB 31.6MB/s eta 0:00:01\r\u001b[K     |████████████████████████████▋   | 1.4MB 31.6MB/s eta 0:00:01\r\u001b[K     |████████████████████████████▉   | 1.4MB 31.6MB/s eta 0:00:01\r\u001b[K     |█████████████████████████████   | 1.4MB 31.6MB/s eta 0:00:01\r\u001b[K     |█████████████████████████████▏  | 1.4MB 31.6MB/s eta 0:00:01\r\u001b[K     |█████████████████████████████▍  | 1.4MB 31.6MB/s eta 0:00:01\r\u001b[K     |█████████████████████████████▋  | 1.4MB 31.6MB/s eta 0:00:01\r\u001b[K     |█████████████████████████████▉  | 1.4MB 31.6MB/s eta 0:00:01\r\u001b[K     |██████████████████████████████  | 1.5MB 31.6MB/s eta 0:00:01\r\u001b[K     |██████████████████████████████▎ | 1.5MB 31.6MB/s eta 0:00:01\r\u001b[K     |██████████████████████████████▌ | 1.5MB 31.6MB/s eta 0:00:01\r\u001b[K     |██████████████████████████████▊ | 1.5MB 31.6MB/s eta 0:00:01\r\u001b[K     |███████████████████████████████ | 1.5MB 31.6MB/s eta 0:00:01\r\u001b[K     |███████████████████████████████▏| 1.5MB 31.6MB/s eta 0:00:01\r\u001b[K     |███████████████████████████████▍| 1.5MB 31.6MB/s eta 0:00:01\r\u001b[K     |███████████████████████████████▌| 1.5MB 31.6MB/s eta 0:00:01\r\u001b[K     |███████████████████████████████▊| 1.5MB 31.6MB/s eta 0:00:01\r\u001b[K     |████████████████████████████████| 1.5MB 31.6MB/s eta 0:00:01\r\u001b[K     |████████████████████████████████| 1.6MB 31.6MB/s \n",
            "\u001b[?25hInstalling collected packages: pip\n",
            "  Found existing installation: pip 19.3.1\n",
            "    Uninstalling pip-19.3.1:\n",
            "      Successfully uninstalled pip-19.3.1\n",
            "Successfully installed pip-21.1.1\n"
          ],
          "name": "stdout"
        }
      ]
    },
    {
      "cell_type": "code",
      "metadata": {
        "colab": {
          "base_uri": "https://localhost:8080/"
        },
        "id": "NNJGSqMKHOMW",
        "outputId": "f5f2e645-48be-466e-ef20-ccb587172b2f"
      },
      "source": [
        "!pip install --upgrade google-api-python-client"
      ],
      "execution_count": 7,
      "outputs": [
        {
          "output_type": "stream",
          "text": [
            "Collecting google-api-python-client\n",
            "\u001b[?25l  Downloading https://files.pythonhosted.org/packages/dd/ba/9d815360b953d376c5f5739ab63e1f52f2bda4bbadd277644f195279896f/google_api_python_client-2.4.0-py2.py3-none-any.whl (7.1MB)\n",
            "\u001b[K     |████████████████████████████████| 7.1MB 4.3MB/s \n",
            "\u001b[?25hRequirement already satisfied, skipping upgrade: google-auth<2dev,>=1.16.0 in /usr/local/lib/python3.7/dist-packages (from google-api-python-client) (1.30.0)\n",
            "Requirement already satisfied, skipping upgrade: google-api-core<2dev,>=1.21.0 in /usr/local/lib/python3.7/dist-packages (from google-api-python-client) (1.26.3)\n",
            "Requirement already satisfied, skipping upgrade: uritemplate<4dev,>=3.0.0 in /usr/local/lib/python3.7/dist-packages (from google-api-python-client) (3.0.1)\n",
            "Requirement already satisfied, skipping upgrade: six<2dev,>=1.13.0 in /usr/local/lib/python3.7/dist-packages (from google-api-python-client) (1.15.0)\n",
            "Collecting google-auth-httplib2>=0.1.0\n",
            "  Downloading https://files.pythonhosted.org/packages/ba/db/721e2f3f32339080153995d16e46edc3a7657251f167ddcb9327e632783b/google_auth_httplib2-0.1.0-py2.py3-none-any.whl\n",
            "Requirement already satisfied, skipping upgrade: httplib2<1dev,>=0.15.0 in /usr/local/lib/python3.7/dist-packages (from google-api-python-client) (0.17.4)\n",
            "Requirement already satisfied, skipping upgrade: setuptools>=40.3.0 in /usr/local/lib/python3.7/dist-packages (from google-auth<2dev,>=1.16.0->google-api-python-client) (56.1.0)\n",
            "Requirement already satisfied, skipping upgrade: cachetools<5.0,>=2.0.0 in /usr/local/lib/python3.7/dist-packages (from google-auth<2dev,>=1.16.0->google-api-python-client) (4.2.2)\n",
            "Requirement already satisfied, skipping upgrade: pyasn1-modules>=0.2.1 in /usr/local/lib/python3.7/dist-packages (from google-auth<2dev,>=1.16.0->google-api-python-client) (0.2.8)\n",
            "Requirement already satisfied, skipping upgrade: rsa<5,>=3.1.4; python_version >= \"3.6\" in /usr/local/lib/python3.7/dist-packages (from google-auth<2dev,>=1.16.0->google-api-python-client) (4.7.2)\n",
            "Requirement already satisfied, skipping upgrade: requests<3.0.0dev,>=2.18.0 in /usr/local/lib/python3.7/dist-packages (from google-api-core<2dev,>=1.21.0->google-api-python-client) (2.23.0)\n",
            "Requirement already satisfied, skipping upgrade: googleapis-common-protos<2.0dev,>=1.6.0 in /usr/local/lib/python3.7/dist-packages (from google-api-core<2dev,>=1.21.0->google-api-python-client) (1.53.0)\n",
            "Requirement already satisfied, skipping upgrade: pytz in /usr/local/lib/python3.7/dist-packages (from google-api-core<2dev,>=1.21.0->google-api-python-client) (2018.9)\n",
            "Requirement already satisfied, skipping upgrade: protobuf>=3.12.0 in /usr/local/lib/python3.7/dist-packages (from google-api-core<2dev,>=1.21.0->google-api-python-client) (3.12.4)\n",
            "Requirement already satisfied, skipping upgrade: packaging>=14.3 in /usr/local/lib/python3.7/dist-packages (from google-api-core<2dev,>=1.21.0->google-api-python-client) (20.9)\n",
            "Requirement already satisfied, skipping upgrade: pyasn1<0.5.0,>=0.4.6 in /usr/local/lib/python3.7/dist-packages (from pyasn1-modules>=0.2.1->google-auth<2dev,>=1.16.0->google-api-python-client) (0.4.8)\n",
            "Requirement already satisfied, skipping upgrade: certifi>=2017.4.17 in /usr/local/lib/python3.7/dist-packages (from requests<3.0.0dev,>=2.18.0->google-api-core<2dev,>=1.21.0->google-api-python-client) (2020.12.5)\n",
            "Requirement already satisfied, skipping upgrade: urllib3!=1.25.0,!=1.25.1,<1.26,>=1.21.1 in /usr/local/lib/python3.7/dist-packages (from requests<3.0.0dev,>=2.18.0->google-api-core<2dev,>=1.21.0->google-api-python-client) (1.24.3)\n",
            "Requirement already satisfied, skipping upgrade: chardet<4,>=3.0.2 in /usr/local/lib/python3.7/dist-packages (from requests<3.0.0dev,>=2.18.0->google-api-core<2dev,>=1.21.0->google-api-python-client) (3.0.4)\n",
            "Requirement already satisfied, skipping upgrade: idna<3,>=2.5 in /usr/local/lib/python3.7/dist-packages (from requests<3.0.0dev,>=2.18.0->google-api-core<2dev,>=1.21.0->google-api-python-client) (2.10)\n",
            "Requirement already satisfied, skipping upgrade: pyparsing>=2.0.2 in /usr/local/lib/python3.7/dist-packages (from packaging>=14.3->google-api-core<2dev,>=1.21.0->google-api-python-client) (2.4.7)\n",
            "\u001b[31mERROR: earthengine-api 0.1.264 has requirement google-api-python-client<2,>=1.12.1, but you'll have google-api-python-client 2.4.0 which is incompatible.\u001b[0m\n",
            "Installing collected packages: google-auth-httplib2, google-api-python-client\n",
            "  Found existing installation: google-auth-httplib2 0.0.4\n",
            "    Uninstalling google-auth-httplib2-0.0.4:\n",
            "      Successfully uninstalled google-auth-httplib2-0.0.4\n",
            "  Found existing installation: google-api-python-client 1.12.8\n",
            "    Uninstalling google-api-python-client-1.12.8:\n",
            "      Successfully uninstalled google-api-python-client-1.12.8\n",
            "Successfully installed google-api-python-client-2.4.0 google-auth-httplib2-0.1.0\n"
          ],
          "name": "stdout"
        }
      ]
    },
    {
      "cell_type": "code",
      "metadata": {
        "colab": {
          "base_uri": "https://localhost:8080/",
          "height": 617
        },
        "id": "Kfn570-BPTcq",
        "outputId": "b8ac4c4a-2ace-4c20-c719-8670c2d28c8c"
      },
      "source": [
        "!pip install google-cloud-documentai"
      ],
      "execution_count": 8,
      "outputs": [
        {
          "output_type": "stream",
          "text": [
            "Collecting google-cloud-documentai\n",
            "\u001b[?25l  Downloading https://files.pythonhosted.org/packages/c1/cd/08609a34e81975ef78ff72e407f5b43114ade5c0b1209f8bd835119b9ff8/google_cloud_documentai-0.4.0-py2.py3-none-any.whl (176kB)\n",
            "\u001b[K     |████████████████████████████████| 184kB 4.3MB/s \n",
            "\u001b[?25hRequirement already satisfied: google-api-core[grpc]<2.0.0dev,>=1.22.2 in /usr/local/lib/python3.7/dist-packages (from google-cloud-documentai) (1.26.3)\n",
            "Collecting proto-plus>=1.10.0\n",
            "\u001b[?25l  Downloading https://files.pythonhosted.org/packages/b4/8a/61c5a9b9b6288f9b060b6e3d88374fc083953a29aeac7206616c2d3c9c8e/proto_plus-1.18.1-py3-none-any.whl (42kB)\n",
            "\u001b[K     |████████████████████████████████| 51kB 5.9MB/s \n",
            "\u001b[?25hRequirement already satisfied: six>=1.13.0 in /usr/local/lib/python3.7/dist-packages (from google-api-core[grpc]<2.0.0dev,>=1.22.2->google-cloud-documentai) (1.15.0)\n",
            "Requirement already satisfied: googleapis-common-protos<2.0dev,>=1.6.0 in /usr/local/lib/python3.7/dist-packages (from google-api-core[grpc]<2.0.0dev,>=1.22.2->google-cloud-documentai) (1.53.0)\n",
            "Requirement already satisfied: google-auth<2.0dev,>=1.21.1 in /usr/local/lib/python3.7/dist-packages (from google-api-core[grpc]<2.0.0dev,>=1.22.2->google-cloud-documentai) (1.30.0)\n",
            "Requirement already satisfied: setuptools>=40.3.0 in /usr/local/lib/python3.7/dist-packages (from google-api-core[grpc]<2.0.0dev,>=1.22.2->google-cloud-documentai) (56.1.0)\n",
            "Requirement already satisfied: requests<3.0.0dev,>=2.18.0 in /usr/local/lib/python3.7/dist-packages (from google-api-core[grpc]<2.0.0dev,>=1.22.2->google-cloud-documentai) (2.23.0)\n",
            "Requirement already satisfied: packaging>=14.3 in /usr/local/lib/python3.7/dist-packages (from google-api-core[grpc]<2.0.0dev,>=1.22.2->google-cloud-documentai) (20.9)\n",
            "Requirement already satisfied: pytz in /usr/local/lib/python3.7/dist-packages (from google-api-core[grpc]<2.0.0dev,>=1.22.2->google-cloud-documentai) (2018.9)\n",
            "Requirement already satisfied: protobuf>=3.12.0 in /usr/local/lib/python3.7/dist-packages (from google-api-core[grpc]<2.0.0dev,>=1.22.2->google-cloud-documentai) (3.12.4)\n",
            "Requirement already satisfied: grpcio<2.0dev,>=1.29.0; extra == \"grpc\" in /usr/local/lib/python3.7/dist-packages (from google-api-core[grpc]<2.0.0dev,>=1.22.2->google-cloud-documentai) (1.32.0)\n",
            "Requirement already satisfied: pyasn1-modules>=0.2.1 in /usr/local/lib/python3.7/dist-packages (from google-auth<2.0dev,>=1.21.1->google-api-core[grpc]<2.0.0dev,>=1.22.2->google-cloud-documentai) (0.2.8)\n",
            "Requirement already satisfied: rsa<5,>=3.1.4; python_version >= \"3.6\" in /usr/local/lib/python3.7/dist-packages (from google-auth<2.0dev,>=1.21.1->google-api-core[grpc]<2.0.0dev,>=1.22.2->google-cloud-documentai) (4.7.2)\n",
            "Requirement already satisfied: cachetools<5.0,>=2.0.0 in /usr/local/lib/python3.7/dist-packages (from google-auth<2.0dev,>=1.21.1->google-api-core[grpc]<2.0.0dev,>=1.22.2->google-cloud-documentai) (4.2.2)\n",
            "Requirement already satisfied: certifi>=2017.4.17 in /usr/local/lib/python3.7/dist-packages (from requests<3.0.0dev,>=2.18.0->google-api-core[grpc]<2.0.0dev,>=1.22.2->google-cloud-documentai) (2020.12.5)\n",
            "Requirement already satisfied: urllib3!=1.25.0,!=1.25.1,<1.26,>=1.21.1 in /usr/local/lib/python3.7/dist-packages (from requests<3.0.0dev,>=2.18.0->google-api-core[grpc]<2.0.0dev,>=1.22.2->google-cloud-documentai) (1.24.3)\n",
            "Requirement already satisfied: chardet<4,>=3.0.2 in /usr/local/lib/python3.7/dist-packages (from requests<3.0.0dev,>=2.18.0->google-api-core[grpc]<2.0.0dev,>=1.22.2->google-cloud-documentai) (3.0.4)\n",
            "Requirement already satisfied: idna<3,>=2.5 in /usr/local/lib/python3.7/dist-packages (from requests<3.0.0dev,>=2.18.0->google-api-core[grpc]<2.0.0dev,>=1.22.2->google-cloud-documentai) (2.10)\n",
            "Requirement already satisfied: pyparsing>=2.0.2 in /usr/local/lib/python3.7/dist-packages (from packaging>=14.3->google-api-core[grpc]<2.0.0dev,>=1.22.2->google-cloud-documentai) (2.4.7)\n",
            "Requirement already satisfied: pyasn1<0.5.0,>=0.4.6 in /usr/local/lib/python3.7/dist-packages (from pyasn1-modules>=0.2.1->google-auth<2.0dev,>=1.21.1->google-api-core[grpc]<2.0.0dev,>=1.22.2->google-cloud-documentai) (0.4.8)\n",
            "Installing collected packages: proto-plus, google-cloud-documentai\n",
            "Successfully installed google-cloud-documentai-0.4.0 proto-plus-1.18.1\n"
          ],
          "name": "stdout"
        },
        {
          "output_type": "display_data",
          "data": {
            "application/vnd.colab-display-data+json": {
              "pip_warning": {
                "packages": [
                  "google"
                ]
              }
            }
          },
          "metadata": {
            "tags": []
          }
        }
      ]
    },
    {
      "cell_type": "code",
      "metadata": {
        "id": "AAMZdMwMj3Oy"
      },
      "source": [
        "import os\n",
        "os.environ['GOOGLE_APPLICATION_CREDENTIALS'] = \"/content/drive/Shareddrives/CAPSTONE/Resources/analog-marking-308122-3287f19a2200.json\""
      ],
      "execution_count": 1,
      "outputs": []
    },
    {
      "cell_type": "code",
      "metadata": {
        "colab": {
          "base_uri": "https://localhost:8080/"
        },
        "id": "75-30m8hi1cJ",
        "outputId": "6a57df94-a1aa-483a-d72c-311ce11e66b0"
      },
      "source": [
        "!gcloud auth application-default print-access-token"
      ],
      "execution_count": 2,
      "outputs": [
        {
          "output_type": "stream",
          "text": [
            "ya29.c.Kp8B_weBA-LtJmYU8zR3tU8TLXlhWpg1MOfbzohS_UoNbLmm_z0sFarfI1jD0wRi0Bg0uJWgaSbtaf96fLrg190XmGVb3-8bOFDx1NAhmR-zlM8mo-mnRYGDwJqJN5uXNHTLO3jJHN094sXdoXA0DIz6elDQl3PgTrQ0mDd7txBfgwavh2I2_LpVhxZWrbni9P5Z71HTRcxiXhgZd8fbf90m\n"
          ],
          "name": "stdout"
        }
      ]
    },
    {
      "cell_type": "code",
      "metadata": {
        "id": "KGI-ytn0b94Z"
      },
      "source": [
        "from google.cloud import documentai_v1beta2 as documentai"
      ],
      "execution_count": 3,
      "outputs": []
    },
    {
      "cell_type": "code",
      "metadata": {
        "id": "CoDBninpcUjH",
        "colab": {
          "base_uri": "https://localhost:8080/"
        },
        "outputId": "ddecf0c2-cb1c-48cf-f23d-0ea163d0c7e5"
      },
      "source": [
        "import re\n",
        "import pandas as pd\n",
        "import nltk\n",
        "nltk.download('punkt')\n",
        "from nltk import sent_tokenize"
      ],
      "execution_count": 4,
      "outputs": [
        {
          "output_type": "stream",
          "text": [
            "[nltk_data] Downloading package punkt to /root/nltk_data...\n",
            "[nltk_data]   Unzipping tokenizers/punkt.zip.\n"
          ],
          "name": "stdout"
        }
      ]
    },
    {
      "cell_type": "code",
      "metadata": {
        "id": "XE5Uf793GFFG"
      },
      "source": [
        "import re\n",
        "\n",
        "from google.cloud import documentai_v1 as documentai\n",
        "from google.cloud import storage\n",
        "\n",
        "def batch_process_documents(\n",
        "    project_id,\n",
        "    location,\n",
        "    processor_id,\n",
        "    gcs_input_uri,\n",
        "    gcs_output_uri,\n",
        "    gcs_output_uri_prefix,\n",
        "    timeout: int = 300,\n",
        "):\n",
        "\n",
        "    # You must set the api_endpoint if you use a location other than 'us', e.g.:\n",
        "    opts = {}\n",
        "    if location == \"eu\":\n",
        "        opts = {\"api_endpoint\": \"eu-documentai.googleapis.com\"}\n",
        "\n",
        "    client = documentai.DocumentProcessorServiceClient(client_options=opts)\n",
        "\n",
        "    destination_uri = f\"{gcs_output_uri}/{gcs_output_uri_prefix}/\"\n",
        "\n",
        "    gcs_documents = documentai.GcsDocuments(\n",
        "        documents=[{\"gcs_uri\": gcs_input_uri, \"mime_type\": \"application/pdf\"}]\n",
        "    )\n",
        "\n",
        "    # 'mime_type' can be 'application/pdf', 'image/tiff',\n",
        "    # and 'image/gif', or 'application/json'\n",
        "    input_config = documentai.BatchDocumentsInputConfig(gcs_documents=gcs_documents)\n",
        "\n",
        "    # Where to write results\n",
        "    output_config = documentai.DocumentOutputConfig(\n",
        "        gcs_output_config={\"gcs_uri\": destination_uri}\n",
        "    )\n",
        "\n",
        "    # Location can be 'us' or 'eu'\n",
        "    name = f\"projects/{project_id}/locations/{location}/processors/{processor_id}\"\n",
        "    request = documentai.types.document_processor_service.BatchProcessRequest(\n",
        "        name=name,\n",
        "        input_documents=input_config,\n",
        "        document_output_config=output_config,\n",
        "    )\n",
        "\n",
        "    operation = client.batch_process_documents(request)\n",
        "\n",
        "    # Wait for the operation to finish\n",
        "    operation.result(timeout=timeout)\n",
        "\n",
        "    # Results are written to GCS. Use a regex to find\n",
        "    # output files\n",
        "    match = re.match(r\"gs://([^/]+)/(.+)\", destination_uri)\n",
        "    output_bucket = match.group(1)\n",
        "    prefix = match.group(2)\n",
        "\n",
        "    storage_client = storage.Client()\n",
        "    bucket = storage_client.get_bucket(output_bucket)\n",
        "    blob_list = list(bucket.list_blobs(prefix=prefix))\n",
        "    # print(\"Output files:\")\n",
        "\n",
        "    # for i, blob in enumerate(blob_list):\n",
        "    #     # If JSON file, download the contents of this blob as a bytes object.\n",
        "    #     if \".json\" in blob.name:\n",
        "    #         blob_as_bytes = blob.download_as_bytes()\n",
        "\n",
        "    #         document = documentai.types.Document.from_json(blob_as_bytes)\n",
        "    #         print(f\"Fetched file {i + 1}\")\n",
        "\n",
        "    #         # For a full list of Document object attributes, please reference this page:\n",
        "    #         # https://cloud.google.com/document-ai/docs/reference/rpc/google.cloud.documentai.v1beta3#document\n",
        "\n",
        "    #         # Read the text recognition output from the processor\n",
        "    #         for page in document.pages:\n",
        "    #             for form_field in page.form_fields:\n",
        "    #                 field_name = get_text(form_field.field_name, document)\n",
        "    #                 field_value = get_text(form_field.field_value, document)\n",
        "    #                 print(\"Extracted key value pair:\")\n",
        "    #                 print(f\"\\t{field_name}, {field_value}\")\n",
        "    #             for paragraph in document.pages:\n",
        "    #                 paragraph_text = get_text(paragraph.layout, document)\n",
        "    #                 print(f\"Paragraph text:\\n{paragraph_text}\")\n",
        "    #     else:\n",
        "    #         print(f\"Skipping non-supported file type {blob.name}\")\n",
        "\n",
        "\n",
        "# Extract shards from the text field\n",
        "def get_text(doc_element: dict, document: dict):\n",
        "    \"\"\"\n",
        "    Document AI identifies form fields by their offsets\n",
        "    in document text. This function converts offsets\n",
        "    to text snippets.\n",
        "    \"\"\"\n",
        "    response = \"\"\n",
        "    # If a text segment spans several lines, it will\n",
        "    # be stored in different text segments.\n",
        "    for segment in doc_element.text_anchor.text_segments:\n",
        "        start_index = (\n",
        "            int(segment.start_index)\n",
        "            if segment in doc_element.text_anchor.text_segments\n",
        "            else 0\n",
        "        )\n",
        "        end_index = int(segment.end_index)\n",
        "        response += document.text[start_index:end_index]\n",
        "    return response\n"
      ],
      "execution_count": 5,
      "outputs": []
    },
    {
      "cell_type": "code",
      "metadata": {
        "id": "IR1aTk2tH-mv",
        "colab": {
          "base_uri": "https://localhost:8080/"
        },
        "outputId": "aafac078-b1fb-4df2-eff9-6c059ff54b6c"
      },
      "source": [
        "project_id= 'analog-marking-308122'\n",
        "location = 'us' # Format is 'us' or 'eu'\n",
        "processor_id = '71ad62c7e00b7da3' # Create processor in Cloud Console\n",
        "gcs_output_uri = \"gs://output-documents\"\n",
        "\n",
        "for i in range(139, 148):  #2,147):\n",
        "  if i != 116:\n",
        "    try:   \n",
        "      gcs_input_uri = \"gs://clinical-documents/clinicalexample\" + str(i) + \".pdf\"\n",
        "      gcs_output_uri_prefix = \"clinicalexample\" + str(i)\n",
        "\n",
        "      batch_process_documents(project_id,\n",
        "        location,\n",
        "        processor_id,\n",
        "        gcs_input_uri,\n",
        "        gcs_output_uri,\n",
        "        gcs_output_uri_prefix)\n",
        "      \n",
        "      print(f\"doc {i} is complete.\")\n",
        "    except:\n",
        "      print(f\"doc {i} failed.\")"
      ],
      "execution_count": 7,
      "outputs": [
        {
          "output_type": "stream",
          "text": [
            "doc 139 failed.\n",
            "doc 140 is complete.\n",
            "doc 141 failed.\n",
            "doc 142 is complete.\n",
            "doc 143 is complete.\n",
            "doc 144 is complete.\n",
            "doc 145 is complete.\n",
            "doc 146 is complete.\n",
            "doc 147 is complete.\n"
          ],
          "name": "stdout"
        }
      ]
    },
    {
      "cell_type": "markdown",
      "metadata": {
        "id": "e483ukw1dVVf"
      },
      "source": [
        "### database engine info"
      ]
    },
    {
      "cell_type": "code",
      "metadata": {
        "id": "xlgSQ9-ocTkk",
        "colab": {
          "base_uri": "https://localhost:8080/"
        },
        "outputId": "4709e134-2fa6-4eb1-dc74-b9ca16ec576b"
      },
      "source": [
        "from sqlalchemy import create_engine\n",
        "# ENGINE"
      ],
      "execution_count": null,
      "outputs": [
        {
          "output_type": "stream",
          "text": [
            "/usr/local/lib/python3.7/dist-packages/psycopg2/__init__.py:144: UserWarning: The psycopg2 wheel package will be renamed from release 2.8; in order to keep installing from binary please use \"pip install psycopg2-binary\" instead. For details see: <http://initd.org/psycopg/docs/install.html#binary-install-from-pypi>.\n",
            "  \"\"\")\n"
          ],
          "name": "stderr"
        }
      ]
    },
    {
      "cell_type": "markdown",
      "metadata": {
        "id": "CiO1RdYGdcpE"
      },
      "source": [
        "### inserting documents into database"
      ]
    },
    {
      "cell_type": "code",
      "metadata": {
        "id": "IOcI1ZTsTWsR"
      },
      "source": [
        "import json"
      ],
      "execution_count": null,
      "outputs": []
    },
    {
      "cell_type": "code",
      "metadata": {
        "id": "w_4_rbV0e_Mv",
        "colab": {
          "base_uri": "https://localhost:8080/"
        },
        "outputId": "a1100ec3-e56b-4702-b1da-13446165e053"
      },
      "source": [
        "for i in range(1,148):\n",
        "  # figure out how many json pages are there\n",
        "  pages = 0 # some number of pages\n",
        "  current_text = \"\"\n",
        "  for p in pages:\n",
        "\n",
        "    filepath = '/content/drive/Shareddrives/CAPSTONE/documents/clinicalexample' + str(i) + '.pdf_7423456279627152130_0_clinicalexample' + str(i) + '-' + str(p) + '.json'\n",
        "    with open(filepath) as f:\n",
        "      data = json.load(f)\n",
        "      current_text += ' ' + data[\"text\"]\n",
        "\n",
        "  engine.execute(\"INSERT INTO completeDocs VALUES (%s, %s)\", i, current_text)"
      ],
      "execution_count": null,
      "outputs": [
        {
          "output_type": "stream",
          "text": [
            "gs://medical-documents/clinicalexample116.pdf\n",
            "gs://medical-documents/clinicalexample117.pdf\n",
            "gs://medical-documents/clinicalexample118.pdf\n",
            "gs://medical-documents/clinicalexample119.pdf\n",
            "gs://medical-documents/clinicalexample120.pdf\n",
            "gs://medical-documents/clinicalexample121.pdf\n",
            "gs://medical-documents/clinicalexample122.pdf\n",
            "gs://medical-documents/clinicalexample123.pdf\n",
            "gs://medical-documents/clinicalexample124.pdf\n",
            "gs://medical-documents/clinicalexample125.pdf\n",
            "gs://medical-documents/clinicalexample126.pdf\n",
            "gs://medical-documents/clinicalexample127.pdf\n",
            "gs://medical-documents/clinicalexample128.pdf\n",
            "gs://medical-documents/clinicalexample129.pdf\n",
            "gs://medical-documents/clinicalexample130.pdf\n",
            "gs://medical-documents/clinicalexample131.pdf\n",
            "gs://medical-documents/clinicalexample132.pdf\n",
            "gs://medical-documents/clinicalexample133.pdf\n",
            "gs://medical-documents/clinicalexample134.pdf\n",
            "gs://medical-documents/clinicalexample135.pdf\n",
            "gs://medical-documents/clinicalexample136.pdf\n",
            "gs://medical-documents/clinicalexample137.pdf\n",
            "error occurred at doc 137\n",
            "gs://medical-documents/clinicalexample138.pdf\n",
            "gs://medical-documents/clinicalexample139.pdf\n",
            "error occurred at doc 139\n",
            "gs://medical-documents/clinicalexample140.pdf\n",
            "gs://medical-documents/clinicalexample141.pdf\n",
            "error occurred at doc 141\n",
            "gs://medical-documents/clinicalexample142.pdf\n",
            "gs://medical-documents/clinicalexample143.pdf\n",
            "gs://medical-documents/clinicalexample144.pdf\n",
            "gs://medical-documents/clinicalexample145.pdf\n",
            "gs://medical-documents/clinicalexample146.pdf\n",
            "gs://medical-documents/clinicalexample147.pdf\n"
          ],
          "name": "stdout"
        }
      ]
    },
    {
      "cell_type": "code",
      "metadata": {
        "id": "OKZn8e7ycZ3v",
        "colab": {
          "base_uri": "https://localhost:8080/",
          "height": 918
        },
        "outputId": "d97a592e-887f-4a40-86c0-69979cab835e"
      },
      "source": [
        "getDocs = \"SELECT * from completeDocs;\"\n",
        "full_doc = pd.read_sql_query(getDocs, con=engine)\n",
        "full_doc"
      ],
      "execution_count": null,
      "outputs": [
        {
          "output_type": "execute_result",
          "data": {
            "text/html": [
              "<div>\n",
              "<style scoped>\n",
              "    .dataframe tbody tr th:only-of-type {\n",
              "        vertical-align: middle;\n",
              "    }\n",
              "\n",
              "    .dataframe tbody tr th {\n",
              "        vertical-align: top;\n",
              "    }\n",
              "\n",
              "    .dataframe thead th {\n",
              "        text-align: right;\n",
              "    }\n",
              "</style>\n",
              "<table border=\"1\" class=\"dataframe\">\n",
              "  <thead>\n",
              "    <tr style=\"text-align: right;\">\n",
              "      <th></th>\n",
              "      <th>docid</th>\n",
              "      <th>fulltext</th>\n",
              "    </tr>\n",
              "  </thead>\n",
              "  <tbody>\n",
              "    <tr>\n",
              "      <th>0</th>\n",
              "      <td>116.0</td>\n",
              "      <td>Document Text: From:\\nVCU Health\\nNeuroscience...</td>\n",
              "    </tr>\n",
              "    <tr>\n",
              "      <th>1</th>\n",
              "      <td>117.0</td>\n",
              "      <td>Document Text: FACSIMILE TRANSMITTAL SHEET\\nFR...</td>\n",
              "    </tr>\n",
              "    <tr>\n",
              "      <th>2</th>\n",
              "      <td>118.0</td>\n",
              "      <td>Document Text: Date:\\nHartford\\nHealth Care\\nA...</td>\n",
              "    </tr>\n",
              "    <tr>\n",
              "      <th>3</th>\n",
              "      <td>119.0</td>\n",
              "      <td>Document Text: MAYO\\nCLINIC\\nFax\\nTo:\\nDate:\\n...</td>\n",
              "    </tr>\n",
              "    <tr>\n",
              "      <th>4</th>\n",
              "      <td>120.0</td>\n",
              "      <td>Document Text: Page 1 of 2\\nClinical Summaries...</td>\n",
              "    </tr>\n",
              "    <tr>\n",
              "      <th>5</th>\n",
              "      <td>121.0</td>\n",
              "      <td>Document Text: Hospital for Special Care\\nan a...</td>\n",
              "    </tr>\n",
              "    <tr>\n",
              "      <th>6</th>\n",
              "      <td>122.0</td>\n",
              "      <td>Document Text: briovaRx\\nInfusion Services\\nFR...</td>\n",
              "    </tr>\n",
              "    <tr>\n",
              "      <th>7</th>\n",
              "      <td>123.0</td>\n",
              "      <td>Document Text: Medical Records - CONFIDENTIAL\\...</td>\n",
              "    </tr>\n",
              "    <tr>\n",
              "      <th>8</th>\n",
              "      <td>124.0</td>\n",
              "      <td>Document Text: FAX\\nTO\\nNumber of Pages (inclu...</td>\n",
              "    </tr>\n",
              "    <tr>\n",
              "      <th>9</th>\n",
              "      <td>125.0</td>\n",
              "      <td>Document Text: # 1/ 18\\nTƠNTRAKT ANTARA Number...</td>\n",
              "    </tr>\n",
              "    <tr>\n",
              "      <th>10</th>\n",
              "      <td>126.0</td>\n",
              "      <td>Document Text: MAYO\\nCLINIC\\nFAX\\nNuFactor\\nTO...</td>\n",
              "    </tr>\n",
              "    <tr>\n",
              "      <th>11</th>\n",
              "      <td>127.0</td>\n",
              "      <td>Document Text: # 1/ 20\\nFAX INFORMATION\\nTo:\\n...</td>\n",
              "    </tr>\n",
              "    <tr>\n",
              "      <th>12</th>\n",
              "      <td>128.0</td>\n",
              "      <td>Document Text: PM PDT\\nTO:\\nFROM:\\nPage:\\n1\\nF...</td>\n",
              "    </tr>\n",
              "    <tr>\n",
              "      <th>13</th>\n",
              "      <td>129.0</td>\n",
              "      <td>Document Text: PM\\nFROM: Fax\\nPAGE: 001 OF 021...</td>\n",
              "    </tr>\n",
              "    <tr>\n",
              "      <th>14</th>\n",
              "      <td>130.0</td>\n",
              "      <td>Document Text: PAGE: 001 OF 009\\nFAX SHEET\\nNu...</td>\n",
              "    </tr>\n",
              "    <tr>\n",
              "      <th>15</th>\n",
              "      <td>131.0</td>\n",
              "      <td>Document Text: NUFACTOR\\nImmune Globulin Order...</td>\n",
              "    </tr>\n",
              "    <tr>\n",
              "      <th>16</th>\n",
              "      <td>132.0</td>\n",
              "      <td>Document Text: PAGE: 001 OF 011\\nPatient Summa...</td>\n",
              "    </tr>\n",
              "    <tr>\n",
              "      <th>17</th>\n",
              "      <td>133.0</td>\n",
              "      <td>Document Text: # 1/ 16\\nFax\\nTo:\\nNUFACTOR\\nFr...</td>\n",
              "    </tr>\n",
              "    <tr>\n",
              "      <th>18</th>\n",
              "      <td>134.0</td>\n",
              "      <td>Document Text: Page 1/14\\nPatient Profile\\nRes...</td>\n",
              "    </tr>\n",
              "    <tr>\n",
              "      <th>19</th>\n",
              "      <td>135.0</td>\n",
              "      <td>Document Text: Page 1/14\\nPatient Profile\\nRes...</td>\n",
              "    </tr>\n",
              "    <tr>\n",
              "      <th>20</th>\n",
              "      <td>136.0</td>\n",
              "      <td>Document Text: fax\\nTo:\\nNuFactor\\nFrom:\\nFax:...</td>\n",
              "    </tr>\n",
              "    <tr>\n",
              "      <th>21</th>\n",
              "      <td>138.0</td>\n",
              "      <td>Document Text: MD\\nPAGE\\n01/08\\nDr\\nFax!\\nAttn...</td>\n",
              "    </tr>\n",
              "    <tr>\n",
              "      <th>22</th>\n",
              "      <td>140.0</td>\n",
              "      <td>Document Text: Fax Cover Shoot\\nTo:\\nFax numbe...</td>\n",
              "    </tr>\n",
              "    <tr>\n",
              "      <th>23</th>\n",
              "      <td>142.0</td>\n",
              "      <td>Document Text: FAX SHEET\\nPatient Document\\nDa...</td>\n",
              "    </tr>\n",
              "    <tr>\n",
              "      <th>24</th>\n",
              "      <td>143.0</td>\n",
              "      <td>Document Text: Fax Server\\nFAX CONFIDENTIAL\\nT...</td>\n",
              "    </tr>\n",
              "    <tr>\n",
              "      <th>25</th>\n",
              "      <td>144.0</td>\n",
              "      <td>Document Text: FAX COVER SHEET\\nTO:\\nDEPT:\\nFA...</td>\n",
              "    </tr>\n",
              "    <tr>\n",
              "      <th>26</th>\n",
              "      <td>145.0</td>\n",
              "      <td>Document Text: FAX COVER SHEET\\nDATE:\\nTO:\\nPH...</td>\n",
              "    </tr>\n",
              "    <tr>\n",
              "      <th>27</th>\n",
              "      <td>146.0</td>\n",
              "      <td>Document Text: Page 1/20\\nPatient Profile\\nRes...</td>\n",
              "    </tr>\n",
              "    <tr>\n",
              "      <th>28</th>\n",
              "      <td>147.0</td>\n",
              "      <td>Document Text: A SPECIALTY INFUSION COMPANY\\n....</td>\n",
              "    </tr>\n",
              "  </tbody>\n",
              "</table>\n",
              "</div>"
            ],
            "text/plain": [
              "    docid                                           fulltext\n",
              "0   116.0  Document Text: From:\\nVCU Health\\nNeuroscience...\n",
              "1   117.0  Document Text: FACSIMILE TRANSMITTAL SHEET\\nFR...\n",
              "2   118.0  Document Text: Date:\\nHartford\\nHealth Care\\nA...\n",
              "3   119.0  Document Text: MAYO\\nCLINIC\\nFax\\nTo:\\nDate:\\n...\n",
              "4   120.0  Document Text: Page 1 of 2\\nClinical Summaries...\n",
              "5   121.0  Document Text: Hospital for Special Care\\nan a...\n",
              "6   122.0  Document Text: briovaRx\\nInfusion Services\\nFR...\n",
              "7   123.0  Document Text: Medical Records - CONFIDENTIAL\\...\n",
              "8   124.0  Document Text: FAX\\nTO\\nNumber of Pages (inclu...\n",
              "9   125.0  Document Text: # 1/ 18\\nTƠNTRAKT ANTARA Number...\n",
              "10  126.0  Document Text: MAYO\\nCLINIC\\nFAX\\nNuFactor\\nTO...\n",
              "11  127.0  Document Text: # 1/ 20\\nFAX INFORMATION\\nTo:\\n...\n",
              "12  128.0  Document Text: PM PDT\\nTO:\\nFROM:\\nPage:\\n1\\nF...\n",
              "13  129.0  Document Text: PM\\nFROM: Fax\\nPAGE: 001 OF 021...\n",
              "14  130.0  Document Text: PAGE: 001 OF 009\\nFAX SHEET\\nNu...\n",
              "15  131.0  Document Text: NUFACTOR\\nImmune Globulin Order...\n",
              "16  132.0  Document Text: PAGE: 001 OF 011\\nPatient Summa...\n",
              "17  133.0  Document Text: # 1/ 16\\nFax\\nTo:\\nNUFACTOR\\nFr...\n",
              "18  134.0  Document Text: Page 1/14\\nPatient Profile\\nRes...\n",
              "19  135.0  Document Text: Page 1/14\\nPatient Profile\\nRes...\n",
              "20  136.0  Document Text: fax\\nTo:\\nNuFactor\\nFrom:\\nFax:...\n",
              "21  138.0  Document Text: MD\\nPAGE\\n01/08\\nDr\\nFax!\\nAttn...\n",
              "22  140.0  Document Text: Fax Cover Shoot\\nTo:\\nFax numbe...\n",
              "23  142.0  Document Text: FAX SHEET\\nPatient Document\\nDa...\n",
              "24  143.0  Document Text: Fax Server\\nFAX CONFIDENTIAL\\nT...\n",
              "25  144.0  Document Text: FAX COVER SHEET\\nTO:\\nDEPT:\\nFA...\n",
              "26  145.0  Document Text: FAX COVER SHEET\\nDATE:\\nTO:\\nPH...\n",
              "27  146.0  Document Text: Page 1/20\\nPatient Profile\\nRes...\n",
              "28  147.0  Document Text: A SPECIALTY INFUSION COMPANY\\n...."
            ]
          },
          "metadata": {
            "tags": []
          },
          "execution_count": 18
        }
      ]
    },
    {
      "cell_type": "code",
      "metadata": {
        "id": "7SXMyiLccgP-",
        "colab": {
          "base_uri": "https://localhost:8080/"
        },
        "outputId": "f437c67e-4a42-4f22-db4d-1a9e98c1cbec"
      },
      "source": [
        "for index, row in full_doc.iterrows():\n",
        "  print('-- document: ', row['docid'])\n",
        "  tk = sent_tokenize(row['fulltext'])\n",
        "  tk[0] = re.sub(r'Document Text: Example \\d+\\n', '', tk[0])\n",
        "  for i in range(len(tk)):\n",
        "    engine.execute(\"INSERT INTO docSentences VALUES (%s, %s, %s)\", row['docid'], i+1, tk[i])"
      ],
      "execution_count": null,
      "outputs": [
        {
          "output_type": "stream",
          "text": [
            "-- document:  116.0\n",
            "-- document:  117.0\n",
            "-- document:  118.0\n",
            "-- document:  119.0\n",
            "-- document:  120.0\n",
            "-- document:  121.0\n",
            "-- document:  122.0\n",
            "-- document:  123.0\n",
            "-- document:  124.0\n",
            "-- document:  125.0\n",
            "-- document:  126.0\n",
            "-- document:  127.0\n",
            "-- document:  128.0\n",
            "-- document:  129.0\n",
            "-- document:  130.0\n",
            "-- document:  131.0\n",
            "-- document:  132.0\n",
            "-- document:  133.0\n",
            "-- document:  134.0\n",
            "-- document:  135.0\n",
            "-- document:  136.0\n",
            "-- document:  138.0\n",
            "-- document:  140.0\n",
            "-- document:  142.0\n",
            "-- document:  143.0\n",
            "-- document:  144.0\n",
            "-- document:  145.0\n",
            "-- document:  146.0\n",
            "-- document:  147.0\n"
          ],
          "name": "stdout"
        }
      ]
    },
    {
      "cell_type": "code",
      "metadata": {
        "id": "ztBf72Pwck9-",
        "colab": {
          "base_uri": "https://localhost:8080/",
          "height": 407
        },
        "outputId": "1b8a0d1b-2e92-469e-96e0-a32427facafd"
      },
      "source": [
        "sent = \"SELECT * from docSentences\"\n",
        "sent_df = pd.read_sql_query(sent, con=engine)\n",
        "sent_df.tail(100)"
      ],
      "execution_count": null,
      "outputs": [
        {
          "output_type": "execute_result",
          "data": {
            "text/html": [
              "<div>\n",
              "<style scoped>\n",
              "    .dataframe tbody tr th:only-of-type {\n",
              "        vertical-align: middle;\n",
              "    }\n",
              "\n",
              "    .dataframe tbody tr th {\n",
              "        vertical-align: top;\n",
              "    }\n",
              "\n",
              "    .dataframe thead th {\n",
              "        text-align: right;\n",
              "    }\n",
              "</style>\n",
              "<table border=\"1\" class=\"dataframe\">\n",
              "  <thead>\n",
              "    <tr style=\"text-align: right;\">\n",
              "      <th></th>\n",
              "      <th>docid</th>\n",
              "      <th>sentencenum</th>\n",
              "      <th>sentence</th>\n",
              "    </tr>\n",
              "  </thead>\n",
              "  <tbody>\n",
              "    <tr>\n",
              "      <th>9384</th>\n",
              "      <td>144.0</td>\n",
              "      <td>37.0</td>\n",
              "      <td>No history of stroke.</td>\n",
              "    </tr>\n",
              "    <tr>\n",
              "      <th>9385</th>\n",
              "      <td>144.0</td>\n",
              "      <td>38.0</td>\n",
              "      <td>MOTOR EXAM: muscle bulk was normal in all musc...</td>\n",
              "    </tr>\n",
              "    <tr>\n",
              "      <th>9386</th>\n",
              "      <td>145.0</td>\n",
              "      <td>1.0</td>\n",
              "      <td>Document Text: FAX COVER SHEET\\nDATE:\\nTO:\\nPH...</td>\n",
              "    </tr>\n",
              "    <tr>\n",
              "      <th>9387</th>\n",
              "      <td>145.0</td>\n",
              "      <td>2.0</td>\n",
              "      <td>IF THE READER OF THIS FACSIMILE IS NOT THE INT...</td>\n",
              "    </tr>\n",
              "    <tr>\n",
              "      <th>9388</th>\n",
              "      <td>145.0</td>\n",
              "      <td>3.0</td>\n",
              "      <td>IF YOU HAVE RECEIVED THIS FACSIMILE IN ERROR, ...</td>\n",
              "    </tr>\n",
              "    <tr>\n",
              "      <th>...</th>\n",
              "      <td>...</td>\n",
              "      <td>...</td>\n",
              "      <td>...</td>\n",
              "    </tr>\n",
              "    <tr>\n",
              "      <th>9479</th>\n",
              "      <td>147.0</td>\n",
              "      <td>41.0</td>\n",
              "      <td>Homocysteine\\n&lt;11.4 umol/L\\nVitamin B6\\n2.1 21...</td>\n",
              "    </tr>\n",
              "    <tr>\n",
              "      <th>9480</th>\n",
              "      <td>147.0</td>\n",
              "      <td>42.0</td>\n",
              "      <td>4091\\nP. 4\\nA New To\\nIn Network Benefits Only...</td>\n",
              "    </tr>\n",
              "    <tr>\n",
              "      <th>9481</th>\n",
              "      <td>147.0</td>\n",
              "      <td>43.0</td>\n",
              "      <td>4091\\nP. 5\\nMember Service\\nPrecertification\\n...</td>\n",
              "    </tr>\n",
              "    <tr>\n",
              "      <th>9482</th>\n",
              "      <td>147.0</td>\n",
              "      <td>44.0</td>\n",
              "      <td>Urgent Care Confinements\\nmust call within 48 ...</td>\n",
              "    </tr>\n",
              "    <tr>\n",
              "      <th>9483</th>\n",
              "      <td>147.0</td>\n",
              "      <td>46.0</td>\n",
              "      <td>Provider Locator\\nProvider Eligibility/Benefit...</td>\n",
              "    </tr>\n",
              "  </tbody>\n",
              "</table>\n",
              "<p>100 rows × 3 columns</p>\n",
              "</div>"
            ],
            "text/plain": [
              "      docid  sentencenum                                           sentence\n",
              "9384  144.0         37.0                              No history of stroke.\n",
              "9385  144.0         38.0  MOTOR EXAM: muscle bulk was normal in all musc...\n",
              "9386  145.0          1.0  Document Text: FAX COVER SHEET\\nDATE:\\nTO:\\nPH...\n",
              "9387  145.0          2.0  IF THE READER OF THIS FACSIMILE IS NOT THE INT...\n",
              "9388  145.0          3.0  IF YOU HAVE RECEIVED THIS FACSIMILE IN ERROR, ...\n",
              "...     ...          ...                                                ...\n",
              "9479  147.0         41.0  Homocysteine\\n<11.4 umol/L\\nVitamin B6\\n2.1 21...\n",
              "9480  147.0         42.0  4091\\nP. 4\\nA New To\\nIn Network Benefits Only...\n",
              "9481  147.0         43.0  4091\\nP. 5\\nMember Service\\nPrecertification\\n...\n",
              "9482  147.0         44.0  Urgent Care Confinements\\nmust call within 48 ...\n",
              "9483  147.0         46.0  Provider Locator\\nProvider Eligibility/Benefit...\n",
              "\n",
              "[100 rows x 3 columns]"
            ]
          },
          "metadata": {
            "tags": []
          },
          "execution_count": 22
        }
      ]
    }
  ]
}