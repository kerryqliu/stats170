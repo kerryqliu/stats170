{
  "nbformat": 4,
  "nbformat_minor": 0,
  "metadata": {
    "colab": {
      "name": "tf-idf with logistic regression.ipynb",
      "provenance": [],
      "authorship_tag": "ABX9TyM61SowaOUVHogjzUrEnhl4",
      "include_colab_link": true
    },
    "kernelspec": {
      "name": "python3",
      "display_name": "Python 3"
    },
    "language_info": {
      "name": "python"
    }
  },
  "cells": [
    {
      "cell_type": "markdown",
      "metadata": {
        "id": "view-in-github",
        "colab_type": "text"
      },
      "source": [
        "<a href=\"https://colab.research.google.com/github/kerryqliu/stats170/blob/irene/tf_idf_with_logistic_regression.ipynb\" target=\"_parent\"><img src=\"https://colab.research.google.com/assets/colab-badge.svg\" alt=\"Open In Colab\"/></a>"
      ]
    },
    {
      "cell_type": "code",
      "metadata": {
        "id": "g5DoLU493zER"
      },
      "source": [
        "import pandas as pd\n",
        "import nltk\n",
        "import re\n",
        "from sqlalchemy import create_engine"
      ],
      "execution_count": 2,
      "outputs": []
    },
    {
      "cell_type": "code",
      "metadata": {
        "id": "brOKnDsC3pjB"
      },
      "source": [
        "# ENGINE"
      ],
      "execution_count": 73,
      "outputs": []
    },
    {
      "cell_type": "code",
      "metadata": {
        "colab": {
          "base_uri": "https://localhost:8080/",
          "height": 407
        },
        "id": "-2bQzae63uy_",
        "outputId": "02e2b039-8010-4bf4-a3d5-4efd61c380aa"
      },
      "source": [
        "query = \"SELECT * from fullDocuments f join documentLabels d on f.docid = d.docid;\"\n",
        "fulldocs = pd.read_sql_query(query, con=engine)\n",
        "fulldocs"
      ],
      "execution_count": 4,
      "outputs": [
        {
          "output_type": "execute_result",
          "data": {
            "text/html": [
              "<div>\n",
              "<style scoped>\n",
              "    .dataframe tbody tr th:only-of-type {\n",
              "        vertical-align: middle;\n",
              "    }\n",
              "\n",
              "    .dataframe tbody tr th {\n",
              "        vertical-align: top;\n",
              "    }\n",
              "\n",
              "    .dataframe thead th {\n",
              "        text-align: right;\n",
              "    }\n",
              "</style>\n",
              "<table border=\"1\" class=\"dataframe\">\n",
              "  <thead>\n",
              "    <tr style=\"text-align: right;\">\n",
              "      <th></th>\n",
              "      <th>docid</th>\n",
              "      <th>fulltext</th>\n",
              "      <th>docid</th>\n",
              "      <th>caseid</th>\n",
              "      <th>label</th>\n",
              "    </tr>\n",
              "  </thead>\n",
              "  <tbody>\n",
              "    <tr>\n",
              "      <th>0</th>\n",
              "      <td>1.0</td>\n",
              "      <td>Document Text: Example 1\\nReferring Doctor: Un...</td>\n",
              "      <td>1</td>\n",
              "      <td>-1</td>\n",
              "      <td>1.0</td>\n",
              "    </tr>\n",
              "    <tr>\n",
              "      <th>1</th>\n",
              "      <td>2.0</td>\n",
              "      <td>Document Text: Example 2\\nProgress Notes\\nDate...</td>\n",
              "      <td>2</td>\n",
              "      <td>-1</td>\n",
              "      <td>1.0</td>\n",
              "    </tr>\n",
              "    <tr>\n",
              "      <th>2</th>\n",
              "      <td>3.0</td>\n",
              "      <td>Document Text: Example 3\\nChief Complaint:\\n1....</td>\n",
              "      <td>3</td>\n",
              "      <td>-1</td>\n",
              "      <td>4.0</td>\n",
              "    </tr>\n",
              "    <tr>\n",
              "      <th>3</th>\n",
              "      <td>4.0</td>\n",
              "      <td>Document Text: 14\\nse\\nLAIDA\\n*\\nPatient Infor...</td>\n",
              "      <td>4</td>\n",
              "      <td>11594</td>\n",
              "      <td>1.0</td>\n",
              "    </tr>\n",
              "    <tr>\n",
              "      <th>4</th>\n",
              "      <td>5.0</td>\n",
              "      <td>Document Text: The first set of documents behi...</td>\n",
              "      <td>5</td>\n",
              "      <td>11594</td>\n",
              "      <td>1.0</td>\n",
              "    </tr>\n",
              "    <tr>\n",
              "      <th>...</th>\n",
              "      <td>...</td>\n",
              "      <td>...</td>\n",
              "      <td>...</td>\n",
              "      <td>...</td>\n",
              "      <td>...</td>\n",
              "    </tr>\n",
              "    <tr>\n",
              "      <th>110</th>\n",
              "      <td>111.0</td>\n",
              "      <td>Document Text: 9:10\\nFAX\\n2002/041\\n'\\nPatient...</td>\n",
              "      <td>111</td>\n",
              "      <td>87832</td>\n",
              "      <td>1.0</td>\n",
              "    </tr>\n",
              "    <tr>\n",
              "      <th>111</th>\n",
              "      <td>112.0</td>\n",
              "      <td>Document Text: # 23/24\\nfined VI\\nvyy\\nScan on...</td>\n",
              "      <td>112</td>\n",
              "      <td>88178</td>\n",
              "      <td>1.0</td>\n",
              "    </tr>\n",
              "    <tr>\n",
              "      <th>112</th>\n",
              "      <td>113.0</td>\n",
              "      <td>Document Text: 15:03 From\\nPage: 1/24\\nNUFACTO...</td>\n",
              "      <td>113</td>\n",
              "      <td>95139</td>\n",
              "      <td>1.0</td>\n",
              "    </tr>\n",
              "    <tr>\n",
              "      <th>113</th>\n",
              "      <td>114.0</td>\n",
              "      <td>Document Text: 03:58:42 p.m.\\n1/2\\nNU FACTOR\\n...</td>\n",
              "      <td>114</td>\n",
              "      <td>95739</td>\n",
              "      <td>2.0</td>\n",
              "    </tr>\n",
              "    <tr>\n",
              "      <th>114</th>\n",
              "      <td>115.0</td>\n",
              "      <td>Document Text: No. 0902 P. 1\\nIV/IG Protocol\\n...</td>\n",
              "      <td>115</td>\n",
              "      <td>97245</td>\n",
              "      <td>1.0</td>\n",
              "    </tr>\n",
              "  </tbody>\n",
              "</table>\n",
              "<p>115 rows × 5 columns</p>\n",
              "</div>"
            ],
            "text/plain": [
              "     docid                                           fulltext  ...  caseid  label\n",
              "0      1.0  Document Text: Example 1\\nReferring Doctor: Un...  ...      -1    1.0\n",
              "1      2.0  Document Text: Example 2\\nProgress Notes\\nDate...  ...      -1    1.0\n",
              "2      3.0  Document Text: Example 3\\nChief Complaint:\\n1....  ...      -1    4.0\n",
              "3      4.0  Document Text: 14\\nse\\nLAIDA\\n*\\nPatient Infor...  ...   11594    1.0\n",
              "4      5.0  Document Text: The first set of documents behi...  ...   11594    1.0\n",
              "..     ...                                                ...  ...     ...    ...\n",
              "110  111.0  Document Text: 9:10\\nFAX\\n2002/041\\n'\\nPatient...  ...   87832    1.0\n",
              "111  112.0  Document Text: # 23/24\\nfined VI\\nvyy\\nScan on...  ...   88178    1.0\n",
              "112  113.0  Document Text: 15:03 From\\nPage: 1/24\\nNUFACTO...  ...   95139    1.0\n",
              "113  114.0  Document Text: 03:58:42 p.m.\\n1/2\\nNU FACTOR\\n...  ...   95739    2.0\n",
              "114  115.0  Document Text: No. 0902 P. 1\\nIV/IG Protocol\\n...  ...   97245    1.0\n",
              "\n",
              "[115 rows x 5 columns]"
            ]
          },
          "metadata": {
            "tags": []
          },
          "execution_count": 4
        }
      ]
    },
    {
      "cell_type": "code",
      "metadata": {
        "id": "1VjuqD-j3_Vt"
      },
      "source": [
        "corpus_dict = {}\n",
        "corpus = []\n",
        "tags = []\n",
        "for i, row in fulldocs.iterrows():\n",
        "  corpus.append(row['fulltext'])\n",
        "  tags.append(row['label'])\n",
        "  corpus_dict[i] = (row['fulltext'], row['label'])"
      ],
      "execution_count": 34,
      "outputs": []
    },
    {
      "cell_type": "code",
      "metadata": {
        "id": "3CTgk1TK35jP"
      },
      "source": [
        "from sklearn.model_selection import train_test_split\n",
        "features_train, features_test, labels_train, labels_test = train_test_split(corpus, tags, test_size=0.2, random_state=10)\n",
        "from sklearn.feature_extraction.text import TfidfVectorizer\n",
        "vectorizer = TfidfVectorizer(stop_words='english')\n",
        "features_train = vectorizer.fit_transform(features_train)\n",
        "features_test = vectorizer.transform(features_test)"
      ],
      "execution_count": 65,
      "outputs": []
    },
    {
      "cell_type": "code",
      "metadata": {
        "id": "ECCg3zFo4gs-"
      },
      "source": [
        "from sklearn.feature_selection import SelectPercentile, f_classif\n",
        "selector = SelectPercentile(f_classif, percentile=10)\n",
        "selector.fit(features_train, labels_train)\n",
        "features_train = selector.transform(features_train).toarray()\n",
        "features_test = selector.transform(features_test).toarray()"
      ],
      "execution_count": 60,
      "outputs": []
    },
    {
      "cell_type": "code",
      "metadata": {
        "id": "Dds2xfrG4dOd"
      },
      "source": [
        "from sklearn.linear_model import LogisticRegression\n",
        "# from sklearn.model_selection import cross_val_score, StratifiedKFold"
      ],
      "execution_count": 61,
      "outputs": []
    },
    {
      "cell_type": "code",
      "metadata": {
        "colab": {
          "base_uri": "https://localhost:8080/"
        },
        "id": "cDglXXJS4_0n",
        "outputId": "e1c4d422-991d-49c4-c9f9-87ac5dfad66f"
      },
      "source": [
        "model = LogisticRegression(C=100).fit(features_train, labels_train)\n",
        "score = model.score(features_test, labels_test)\n",
        "print(score)"
      ],
      "execution_count": 63,
      "outputs": [
        {
          "output_type": "stream",
          "text": [
            "0.4782608695652174\n"
          ],
          "name": "stdout"
        }
      ]
    },
    {
      "cell_type": "markdown",
      "metadata": {
        "id": "wO1uSHT78LEQ"
      },
      "source": [
        "Adjusting C, which determines the amount of regularization.\n",
        "Lower values increase regularization"
      ]
    },
    {
      "cell_type": "code",
      "metadata": {
        "id": "sUNFx0TU71m7"
      },
      "source": [
        "from sklearn.model_selection import GridSearchCV"
      ],
      "execution_count": 24,
      "outputs": []
    },
    {
      "cell_type": "code",
      "metadata": {
        "id": "ORT3D1uN6HIA"
      },
      "source": [
        "param_grid_ = {'C': [1e-5, 1e-3, 1e-1, 1e0, 1e1, 1e2]}\n",
        "tfidf_search = GridSearchCV(LogisticRegression(), cv=5, param_grid=param_grid_)"
      ],
      "execution_count": 25,
      "outputs": []
    },
    {
      "cell_type": "code",
      "metadata": {
        "colab": {
          "base_uri": "https://localhost:8080/"
        },
        "id": "qMUbrJne78Oi",
        "outputId": "f25b5632-92a7-4214-e52b-e866993eb420"
      },
      "source": [
        "Cs = [1e-7, 1e-5, 1e-3, 1e-1, 1e0, 1e1, 1e2]\n",
        "\n",
        "for c in Cs:\n",
        "  curr_model = LogisticRegression(C=c).fit(features_train, labels_train)\n",
        "  curr_score = curr_model.score(features_test, labels_test)\n",
        "  print(f'{c}: {curr_score}')"
      ],
      "execution_count": 55,
      "outputs": [
        {
          "output_type": "stream",
          "text": [
            "1e-07: 0.43478260869565216\n",
            "1e-05: 0.43478260869565216\n",
            "0.001: 0.43478260869565216\n",
            "0.1: 0.43478260869565216\n",
            "1.0: 0.43478260869565216\n",
            "10.0: 0.4782608695652174\n",
            "100.0: 0.4782608695652174\n"
          ],
          "name": "stdout"
        }
      ]
    },
    {
      "cell_type": "markdown",
      "metadata": {
        "id": "BQNowRK09969"
      },
      "source": [
        "highest accuracy:\n",
        "max_df = 0.5 or without this, C = 100, 0.4782608695652174"
      ]
    },
    {
      "cell_type": "markdown",
      "metadata": {
        "id": "3og0Ldk49USP"
      },
      "source": [
        "considering different parameters:\n",
        "- penalty\n",
        "- C\n",
        "- class_weight\n",
        "- solver: 'newton-cg', 'sag', 'saga', 'lbfgs'\n",
        "- max_iter"
      ]
    },
    {
      "cell_type": "markdown",
      "metadata": {
        "id": "IuNuZBRm94YY"
      },
      "source": [
        "with bigrams"
      ]
    },
    {
      "cell_type": "code",
      "metadata": {
        "id": "iWQ2DpDn-936"
      },
      "source": [
        "from sklearn.model_selection import train_test_split\n",
        "features_train, features_test, labels_train, labels_test = train_test_split(corpus, tags, test_size=0.2, random_state=10)"
      ],
      "execution_count": 70,
      "outputs": []
    },
    {
      "cell_type": "code",
      "metadata": {
        "id": "9rMBPhaG8B3c"
      },
      "source": [
        "from sklearn.feature_extraction.text import TfidfVectorizer\n",
        "vectorizer = TfidfVectorizer(stop_words='english', ngram_range = (1,2))\n",
        "features_train = vectorizer.fit_transform(features_train)\n",
        "features_test = vectorizer.transform(features_test)"
      ],
      "execution_count": 71,
      "outputs": []
    },
    {
      "cell_type": "code",
      "metadata": {
        "colab": {
          "base_uri": "https://localhost:8080/"
        },
        "id": "5-IYXHLh-20e",
        "outputId": "5bf1c795-5776-4de5-afe2-21270619cb11"
      },
      "source": [
        "for c in Cs:\n",
        "  curr_model = LogisticRegression(C=c).fit(features_train, labels_train)\n",
        "  curr_score = curr_model.score(features_test, labels_test)\n",
        "  print(f'{c}: {curr_score}')"
      ],
      "execution_count": 72,
      "outputs": [
        {
          "output_type": "stream",
          "text": [
            "1e-07: 0.43478260869565216\n",
            "1e-05: 0.43478260869565216\n",
            "0.001: 0.43478260869565216\n",
            "0.1: 0.43478260869565216\n",
            "1.0: 0.43478260869565216\n",
            "10.0: 0.43478260869565216\n",
            "100.0: 0.4782608695652174\n"
          ],
          "name": "stdout"
        }
      ]
    },
    {
      "cell_type": "code",
      "metadata": {
        "id": "NOC3wp2c_KE0"
      },
      "source": [
        ""
      ],
      "execution_count": null,
      "outputs": []
    }
  ]
}