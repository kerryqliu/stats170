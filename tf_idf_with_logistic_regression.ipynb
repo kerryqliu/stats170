{
  "nbformat": 4,
  "nbformat_minor": 0,
  "metadata": {
    "colab": {
      "name": "Copy of tf-idf with logistic regression.ipynb",
      "provenance": [],
      "collapsed_sections": [
        "6PAwgEt_vGzW",
        "wO1uSHT78LEQ",
        "IuNuZBRm94YY",
        "13oM5lE4MU79"
      ],
      "authorship_tag": "ABX9TyMcqXxnbiwT6Egj+fc0FFpo",
      "include_colab_link": true
    },
    "kernelspec": {
      "name": "python3",
      "display_name": "Python 3"
    },
    "language_info": {
      "name": "python"
    }
  },
  "cells": [
    {
      "cell_type": "markdown",
      "metadata": {
        "id": "view-in-github",
        "colab_type": "text"
      },
      "source": [
        "<a href=\"https://colab.research.google.com/github/kerryqliu/stats170/blob/irene/tf_idf_with_logistic_regression.ipynb\" target=\"_parent\"><img src=\"https://colab.research.google.com/assets/colab-badge.svg\" alt=\"Open In Colab\"/></a>"
      ]
    },
    {
      "cell_type": "code",
      "metadata": {
        "id": "g5DoLU493zER"
      },
      "source": [
        "import pandas as pd\n",
        "import numpy as np\n",
        "import nltk\n",
        "import re\n",
        "from sqlalchemy import create_engine"
      ],
      "execution_count": null,
      "outputs": []
    },
    {
      "cell_type": "code",
      "metadata": {
        "id": "brOKnDsC3pjB",
        "colab": {
          "base_uri": "https://localhost:8080/"
        },
        "outputId": "f8af67a4-65d7-4ae4-c8d2-6bf559999771"
      },
      "source": [
        "# engine"
      ],
      "execution_count": null,
      "outputs": [
        {
          "output_type": "stream",
          "text": [
            "/usr/local/lib/python3.7/dist-packages/psycopg2/__init__.py:144: UserWarning: The psycopg2 wheel package will be renamed from release 2.8; in order to keep installing from binary please use \"pip install psycopg2-binary\" instead. For details see: <http://initd.org/psycopg/docs/install.html#binary-install-from-pypi>.\n",
            "  \"\"\")\n"
          ],
          "name": "stderr"
        }
      ]
    },
    {
      "cell_type": "code",
      "metadata": {
        "colab": {
          "base_uri": "https://localhost:8080/",
          "height": 407
        },
        "id": "-2bQzae63uy_",
        "outputId": "6bf131f2-2cdb-4d82-e395-63d8b5a2f790"
      },
      "source": [
        "query = \"SELECT * from fullDocuments f join documentLabels d on f.docid = d.docid;\"\n",
        "fulldocs = pd.read_sql_query(query, con=engine)\n",
        "fulldocs"
      ],
      "execution_count": null,
      "outputs": [
        {
          "output_type": "execute_result",
          "data": {
            "text/html": [
              "<div>\n",
              "<style scoped>\n",
              "    .dataframe tbody tr th:only-of-type {\n",
              "        vertical-align: middle;\n",
              "    }\n",
              "\n",
              "    .dataframe tbody tr th {\n",
              "        vertical-align: top;\n",
              "    }\n",
              "\n",
              "    .dataframe thead th {\n",
              "        text-align: right;\n",
              "    }\n",
              "</style>\n",
              "<table border=\"1\" class=\"dataframe\">\n",
              "  <thead>\n",
              "    <tr style=\"text-align: right;\">\n",
              "      <th></th>\n",
              "      <th>docid</th>\n",
              "      <th>fulltext</th>\n",
              "      <th>docid</th>\n",
              "      <th>caseid</th>\n",
              "      <th>label</th>\n",
              "    </tr>\n",
              "  </thead>\n",
              "  <tbody>\n",
              "    <tr>\n",
              "      <th>0</th>\n",
              "      <td>1.0</td>\n",
              "      <td>Document Text: Example 1\\nReferring Doctor: Un...</td>\n",
              "      <td>1</td>\n",
              "      <td>-1</td>\n",
              "      <td>1.0</td>\n",
              "    </tr>\n",
              "    <tr>\n",
              "      <th>1</th>\n",
              "      <td>2.0</td>\n",
              "      <td>Document Text: Example 2\\nProgress Notes\\nDate...</td>\n",
              "      <td>2</td>\n",
              "      <td>-1</td>\n",
              "      <td>1.0</td>\n",
              "    </tr>\n",
              "    <tr>\n",
              "      <th>2</th>\n",
              "      <td>3.0</td>\n",
              "      <td>Document Text: Example 3\\nChief Complaint:\\n1....</td>\n",
              "      <td>3</td>\n",
              "      <td>-1</td>\n",
              "      <td>4.0</td>\n",
              "    </tr>\n",
              "    <tr>\n",
              "      <th>3</th>\n",
              "      <td>4.0</td>\n",
              "      <td>Document Text: 14\\nse\\nLAIDA\\n*\\nPatient Infor...</td>\n",
              "      <td>4</td>\n",
              "      <td>11594</td>\n",
              "      <td>1.0</td>\n",
              "    </tr>\n",
              "    <tr>\n",
              "      <th>4</th>\n",
              "      <td>5.0</td>\n",
              "      <td>Document Text: The first set of documents behi...</td>\n",
              "      <td>5</td>\n",
              "      <td>11594</td>\n",
              "      <td>1.0</td>\n",
              "    </tr>\n",
              "    <tr>\n",
              "      <th>...</th>\n",
              "      <td>...</td>\n",
              "      <td>...</td>\n",
              "      <td>...</td>\n",
              "      <td>...</td>\n",
              "      <td>...</td>\n",
              "    </tr>\n",
              "    <tr>\n",
              "      <th>110</th>\n",
              "      <td>111.0</td>\n",
              "      <td>Document Text: 9:10\\nFAX\\n2002/041\\n'\\nPatient...</td>\n",
              "      <td>111</td>\n",
              "      <td>87832</td>\n",
              "      <td>1.0</td>\n",
              "    </tr>\n",
              "    <tr>\n",
              "      <th>111</th>\n",
              "      <td>112.0</td>\n",
              "      <td>Document Text: # 23/24\\nfined VI\\nvyy\\nScan on...</td>\n",
              "      <td>112</td>\n",
              "      <td>88178</td>\n",
              "      <td>1.0</td>\n",
              "    </tr>\n",
              "    <tr>\n",
              "      <th>112</th>\n",
              "      <td>113.0</td>\n",
              "      <td>Document Text: 15:03 From\\nPage: 1/24\\nNUFACTO...</td>\n",
              "      <td>113</td>\n",
              "      <td>95139</td>\n",
              "      <td>1.0</td>\n",
              "    </tr>\n",
              "    <tr>\n",
              "      <th>113</th>\n",
              "      <td>114.0</td>\n",
              "      <td>Document Text: 03:58:42 p.m.\\n1/2\\nNU FACTOR\\n...</td>\n",
              "      <td>114</td>\n",
              "      <td>95739</td>\n",
              "      <td>2.0</td>\n",
              "    </tr>\n",
              "    <tr>\n",
              "      <th>114</th>\n",
              "      <td>115.0</td>\n",
              "      <td>Document Text: No. 0902 P. 1\\nIV/IG Protocol\\n...</td>\n",
              "      <td>115</td>\n",
              "      <td>97245</td>\n",
              "      <td>1.0</td>\n",
              "    </tr>\n",
              "  </tbody>\n",
              "</table>\n",
              "<p>115 rows × 5 columns</p>\n",
              "</div>"
            ],
            "text/plain": [
              "     docid                                           fulltext  ...  caseid  label\n",
              "0      1.0  Document Text: Example 1\\nReferring Doctor: Un...  ...      -1    1.0\n",
              "1      2.0  Document Text: Example 2\\nProgress Notes\\nDate...  ...      -1    1.0\n",
              "2      3.0  Document Text: Example 3\\nChief Complaint:\\n1....  ...      -1    4.0\n",
              "3      4.0  Document Text: 14\\nse\\nLAIDA\\n*\\nPatient Infor...  ...   11594    1.0\n",
              "4      5.0  Document Text: The first set of documents behi...  ...   11594    1.0\n",
              "..     ...                                                ...  ...     ...    ...\n",
              "110  111.0  Document Text: 9:10\\nFAX\\n2002/041\\n'\\nPatient...  ...   87832    1.0\n",
              "111  112.0  Document Text: # 23/24\\nfined VI\\nvyy\\nScan on...  ...   88178    1.0\n",
              "112  113.0  Document Text: 15:03 From\\nPage: 1/24\\nNUFACTO...  ...   95139    1.0\n",
              "113  114.0  Document Text: 03:58:42 p.m.\\n1/2\\nNU FACTOR\\n...  ...   95739    2.0\n",
              "114  115.0  Document Text: No. 0902 P. 1\\nIV/IG Protocol\\n...  ...   97245    1.0\n",
              "\n",
              "[115 rows x 5 columns]"
            ]
          },
          "metadata": {
            "tags": []
          },
          "execution_count": 3
        }
      ]
    },
    {
      "cell_type": "code",
      "metadata": {
        "id": "1VjuqD-j3_Vt"
      },
      "source": [
        "corpus_dict = {}\n",
        "corpus = []\n",
        "tags = []\n",
        "for i, row in fulldocs.iterrows():\n",
        "  corpus.append(row['fulltext'])\n",
        "  tags.append(row['label'])\n",
        "  corpus_dict[i] = (row['fulltext'], row['label'])"
      ],
      "execution_count": null,
      "outputs": []
    },
    {
      "cell_type": "code",
      "metadata": {
        "id": "MOSlO18jxDZY"
      },
      "source": [
        "from sklearn.feature_extraction.text import TfidfVectorizer\n",
        "vectorizer = TfidfVectorizer(stop_words='english')"
      ],
      "execution_count": null,
      "outputs": []
    },
    {
      "cell_type": "markdown",
      "metadata": {
        "id": "6PAwgEt_vGzW"
      },
      "source": [
        "### tf-idf"
      ]
    },
    {
      "cell_type": "code",
      "metadata": {
        "id": "3CTgk1TK35jP"
      },
      "source": [
        "from sklearn.model_selection import train_test_split\n",
        "features_train, features_test, labels_train, labels_test = train_test_split(corpus, tags, test_size=0.2, random_state=10)\n",
        "features_train = vectorizer.fit_transform(features_train)\n",
        "features_test = vectorizer.transform(features_test)"
      ],
      "execution_count": null,
      "outputs": []
    },
    {
      "cell_type": "code",
      "metadata": {
        "id": "ECCg3zFo4gs-"
      },
      "source": [
        "from sklearn.feature_selection import SelectPercentile, f_classif\n",
        "selector = SelectPercentile(f_classif, percentile=10)\n",
        "selector.fit(features_train, labels_train)\n",
        "features_train = selector.transform(features_train).toarray()\n",
        "features_test = selector.transform(features_test).toarray()"
      ],
      "execution_count": null,
      "outputs": []
    },
    {
      "cell_type": "code",
      "metadata": {
        "id": "Dds2xfrG4dOd"
      },
      "source": [
        "from sklearn.linear_model import LogisticRegression\n",
        "# from sklearn.model_selection import cross_val_score, StratifiedKFold"
      ],
      "execution_count": null,
      "outputs": []
    },
    {
      "cell_type": "code",
      "metadata": {
        "colab": {
          "base_uri": "https://localhost:8080/"
        },
        "id": "cDglXXJS4_0n",
        "outputId": "1e84b533-488b-4e07-bede-81ba848d1959"
      },
      "source": [
        "model = LogisticRegression(C=100).fit(features_train, labels_train)\n",
        "score = model.score(features_test, labels_test)\n",
        "print(score)"
      ],
      "execution_count": null,
      "outputs": [
        {
          "output_type": "stream",
          "text": [
            "0.4782608695652174\n"
          ],
          "name": "stdout"
        }
      ]
    },
    {
      "cell_type": "markdown",
      "metadata": {
        "id": "wO1uSHT78LEQ"
      },
      "source": [
        "### Adjusting C, which determines the amount of regularization.\n",
        "Lower values increase regularization"
      ]
    },
    {
      "cell_type": "code",
      "metadata": {
        "id": "sUNFx0TU71m7"
      },
      "source": [
        "from sklearn.model_selection import GridSearchCV"
      ],
      "execution_count": null,
      "outputs": []
    },
    {
      "cell_type": "code",
      "metadata": {
        "id": "ORT3D1uN6HIA"
      },
      "source": [
        "param_grid_ = {'C': [1e-5, 1e-3, 1e-1, 1e0, 1e1, 1e2]}\n",
        "tfidf_search = GridSearchCV(LogisticRegression(), cv=5, param_grid=param_grid_)"
      ],
      "execution_count": null,
      "outputs": []
    },
    {
      "cell_type": "code",
      "metadata": {
        "colab": {
          "base_uri": "https://localhost:8080/"
        },
        "id": "qMUbrJne78Oi",
        "outputId": "80349ce2-f6b1-49b7-bf10-1552faa433d3"
      },
      "source": [
        "Cs = [1e-7, 1e-5, 1e-3, 1e-1, 1e0, 1e1, 1e2]\n",
        "\n",
        "for c in Cs:\n",
        "  curr_model = LogisticRegression(C=c).fit(features_train, labels_train)\n",
        "  curr_score = curr_model.score(features_test, labels_test)\n",
        "  print(f'{c}: {curr_score}')"
      ],
      "execution_count": null,
      "outputs": [
        {
          "output_type": "stream",
          "text": [
            "1e-07: 0.43478260869565216\n",
            "1e-05: 0.43478260869565216\n",
            "0.001: 0.43478260869565216\n",
            "0.1: 0.43478260869565216\n",
            "1.0: 0.43478260869565216\n",
            "10.0: 0.4782608695652174\n",
            "100.0: 0.4782608695652174\n"
          ],
          "name": "stdout"
        }
      ]
    },
    {
      "cell_type": "markdown",
      "metadata": {
        "id": "BQNowRK09969"
      },
      "source": [
        "highest accuracy:\n",
        "max_df = 0.5 or without this, C = 100, 0.4782608695652174"
      ]
    },
    {
      "cell_type": "markdown",
      "metadata": {
        "id": "3og0Ldk49USP"
      },
      "source": [
        "considering different parameters:\n",
        "- penalty\n",
        "- C\n",
        "- class_weight\n",
        "- solver: 'newton-cg', 'sag', 'saga', 'lbfgs'\n",
        "- max_iter"
      ]
    },
    {
      "cell_type": "markdown",
      "metadata": {
        "id": "IuNuZBRm94YY"
      },
      "source": [
        "### with bigrams"
      ]
    },
    {
      "cell_type": "code",
      "metadata": {
        "id": "iWQ2DpDn-936"
      },
      "source": [
        "from sklearn.model_selection import train_test_split\n",
        "features_train, features_test, labels_train, labels_test = train_test_split(corpus, tags, test_size=0.2, random_state=10)"
      ],
      "execution_count": null,
      "outputs": []
    },
    {
      "cell_type": "code",
      "metadata": {
        "id": "9rMBPhaG8B3c"
      },
      "source": [
        "from sklearn.feature_extraction.text import TfidfVectorizer\n",
        "vectorizer = TfidfVectorizer(stop_words='english', ngram_range = (1,2))\n",
        "features_train = vectorizer.fit_transform(features_train)\n",
        "features_test = vectorizer.transform(features_test)"
      ],
      "execution_count": null,
      "outputs": []
    },
    {
      "cell_type": "code",
      "metadata": {
        "colab": {
          "base_uri": "https://localhost:8080/"
        },
        "id": "5-IYXHLh-20e",
        "outputId": "1052bbc0-f58f-45a4-9d4d-67911b8ffb17"
      },
      "source": [
        "for c in Cs:\n",
        "  curr_model = LogisticRegression(C=c).fit(features_train, labels_train)\n",
        "  curr_score = curr_model.score(features_test, labels_test)\n",
        "  print(f'{c}: {curr_score}')"
      ],
      "execution_count": null,
      "outputs": [
        {
          "output_type": "stream",
          "text": [
            "1e-07: 0.43478260869565216\n",
            "1e-05: 0.43478260869565216\n",
            "0.001: 0.43478260869565216\n",
            "0.1: 0.43478260869565216\n",
            "1.0: 0.43478260869565216\n",
            "10.0: 0.43478260869565216\n",
            "100.0: 0.4782608695652174\n"
          ],
          "name": "stdout"
        }
      ]
    },
    {
      "cell_type": "markdown",
      "metadata": {
        "id": "13oM5lE4MU79"
      },
      "source": [
        "### with penalty l1"
      ]
    },
    {
      "cell_type": "code",
      "metadata": {
        "id": "NOC3wp2c_KE0",
        "colab": {
          "base_uri": "https://localhost:8080/",
          "height": 207
        },
        "outputId": "4ddb305a-ddd4-47a0-8b1d-14dd4146365f"
      },
      "source": [
        "l1_model = LogisticRegression(penalty = 'l1', solver = 'saga').fit(features_train, labels_train)\n",
        "l1_score = l1_model.score(features_test, labels_test)\n",
        "print(l1_score)"
      ],
      "execution_count": null,
      "outputs": [
        {
          "output_type": "error",
          "ename": "NameError",
          "evalue": "ignored",
          "traceback": [
            "\u001b[0;31m---------------------------------------------------------------------------\u001b[0m",
            "\u001b[0;31mNameError\u001b[0m                                 Traceback (most recent call last)",
            "\u001b[0;32m<ipython-input-6-30b862b0626a>\u001b[0m in \u001b[0;36m<module>\u001b[0;34m()\u001b[0m\n\u001b[0;32m----> 1\u001b[0;31m \u001b[0ml1_model\u001b[0m \u001b[0;34m=\u001b[0m \u001b[0mLogisticRegression\u001b[0m\u001b[0;34m(\u001b[0m\u001b[0mpenalty\u001b[0m \u001b[0;34m=\u001b[0m \u001b[0;34m'l1'\u001b[0m\u001b[0;34m,\u001b[0m \u001b[0msolver\u001b[0m \u001b[0;34m=\u001b[0m \u001b[0;34m'saga'\u001b[0m\u001b[0;34m)\u001b[0m\u001b[0;34m.\u001b[0m\u001b[0mfit\u001b[0m\u001b[0;34m(\u001b[0m\u001b[0mfeatures_train\u001b[0m\u001b[0;34m,\u001b[0m \u001b[0mlabels_train\u001b[0m\u001b[0;34m)\u001b[0m\u001b[0;34m\u001b[0m\u001b[0;34m\u001b[0m\u001b[0m\n\u001b[0m\u001b[1;32m      2\u001b[0m \u001b[0ml1_score\u001b[0m \u001b[0;34m=\u001b[0m \u001b[0ml1_model\u001b[0m\u001b[0;34m.\u001b[0m\u001b[0mscore\u001b[0m\u001b[0;34m(\u001b[0m\u001b[0mfeatures_test\u001b[0m\u001b[0;34m,\u001b[0m \u001b[0mlabels_test\u001b[0m\u001b[0;34m)\u001b[0m\u001b[0;34m\u001b[0m\u001b[0;34m\u001b[0m\u001b[0m\n\u001b[1;32m      3\u001b[0m \u001b[0mprint\u001b[0m\u001b[0;34m(\u001b[0m\u001b[0ml1_score\u001b[0m\u001b[0;34m)\u001b[0m\u001b[0;34m\u001b[0m\u001b[0;34m\u001b[0m\u001b[0m\n",
            "\u001b[0;31mNameError\u001b[0m: name 'LogisticRegression' is not defined"
          ]
        }
      ]
    },
    {
      "cell_type": "code",
      "metadata": {
        "colab": {
          "base_uri": "https://localhost:8080/"
        },
        "id": "QuwCEtIMMKI7",
        "outputId": "94a93b49-40f5-4309-cb50-d517b05b53e3"
      },
      "source": [
        "Cs = [1e-7, 1e-5, 1e-3, 1e-1, 1e0, 1e1, 1e2, 1e3, 1e4, 1e5, 1e6, 1e7]\n",
        "\n",
        "for c in Cs:\n",
        "  curr_model = LogisticRegression(penalty = 'l1', solver = 'saga', C=c).fit(features_train, labels_train)\n",
        "  curr_score = curr_model.score(features_test, labels_test)\n",
        "  print(f'{c}: {curr_score}')"
      ],
      "execution_count": null,
      "outputs": [
        {
          "output_type": "stream",
          "text": [
            "1e-07: 0.43478260869565216\n",
            "1e-05: 0.43478260869565216\n",
            "0.001: 0.34782608695652173\n",
            "0.1: 0.43478260869565216\n",
            "1.0: 0.43478260869565216\n"
          ],
          "name": "stdout"
        },
        {
          "output_type": "stream",
          "text": [
            "/usr/local/lib/python3.7/dist-packages/sklearn/linear_model/_sag.py:330: ConvergenceWarning: The max_iter was reached which means the coef_ did not converge\n",
            "  \"the coef_ did not converge\", ConvergenceWarning)\n"
          ],
          "name": "stderr"
        },
        {
          "output_type": "stream",
          "text": [
            "10.0: 0.4782608695652174\n"
          ],
          "name": "stdout"
        },
        {
          "output_type": "stream",
          "text": [
            "/usr/local/lib/python3.7/dist-packages/sklearn/linear_model/_sag.py:330: ConvergenceWarning: The max_iter was reached which means the coef_ did not converge\n",
            "  \"the coef_ did not converge\", ConvergenceWarning)\n"
          ],
          "name": "stderr"
        },
        {
          "output_type": "stream",
          "text": [
            "100.0: 0.4782608695652174\n"
          ],
          "name": "stdout"
        },
        {
          "output_type": "stream",
          "text": [
            "/usr/local/lib/python3.7/dist-packages/sklearn/linear_model/_sag.py:330: ConvergenceWarning: The max_iter was reached which means the coef_ did not converge\n",
            "  \"the coef_ did not converge\", ConvergenceWarning)\n"
          ],
          "name": "stderr"
        },
        {
          "output_type": "stream",
          "text": [
            "1000.0: 0.4782608695652174\n"
          ],
          "name": "stdout"
        },
        {
          "output_type": "stream",
          "text": [
            "/usr/local/lib/python3.7/dist-packages/sklearn/linear_model/_sag.py:330: ConvergenceWarning: The max_iter was reached which means the coef_ did not converge\n",
            "  \"the coef_ did not converge\", ConvergenceWarning)\n"
          ],
          "name": "stderr"
        },
        {
          "output_type": "stream",
          "text": [
            "10000.0: 0.4782608695652174\n"
          ],
          "name": "stdout"
        },
        {
          "output_type": "stream",
          "text": [
            "/usr/local/lib/python3.7/dist-packages/sklearn/linear_model/_sag.py:330: ConvergenceWarning: The max_iter was reached which means the coef_ did not converge\n",
            "  \"the coef_ did not converge\", ConvergenceWarning)\n"
          ],
          "name": "stderr"
        },
        {
          "output_type": "stream",
          "text": [
            "100000.0: 0.4782608695652174\n"
          ],
          "name": "stdout"
        },
        {
          "output_type": "stream",
          "text": [
            "/usr/local/lib/python3.7/dist-packages/sklearn/linear_model/_sag.py:330: ConvergenceWarning: The max_iter was reached which means the coef_ did not converge\n",
            "  \"the coef_ did not converge\", ConvergenceWarning)\n"
          ],
          "name": "stderr"
        },
        {
          "output_type": "stream",
          "text": [
            "1000000.0: 0.4782608695652174\n",
            "10000000.0: 0.4782608695652174\n"
          ],
          "name": "stdout"
        },
        {
          "output_type": "stream",
          "text": [
            "/usr/local/lib/python3.7/dist-packages/sklearn/linear_model/_sag.py:330: ConvergenceWarning: The max_iter was reached which means the coef_ did not converge\n",
            "  \"the coef_ did not converge\", ConvergenceWarning)\n"
          ],
          "name": "stderr"
        }
      ]
    },
    {
      "cell_type": "markdown",
      "metadata": {
        "id": "SUcs7m7cONor"
      },
      "source": [
        "### stratified kfold split"
      ]
    },
    {
      "cell_type": "code",
      "metadata": {
        "id": "336tvMVdNsIL"
      },
      "source": [
        "from sklearn.linear_model import LogisticRegression\n",
        "from sklearn.model_selection import StratifiedKFold \n",
        "# features_train, features_test, labels_train, labels_test = train_test_split(corpus, tags, test_size=0.2, random_state=10)\n",
        "from sklearn.feature_extraction.text import TfidfVectorizer\n",
        "vectorizer = TfidfVectorizer(stop_words='english')\n",
        "# features_train = vectorizer.fit_transform(features_train)\n",
        "# features_test = vectorizer.transform(features_test)"
      ],
      "execution_count": null,
      "outputs": []
    },
    {
      "cell_type": "code",
      "metadata": {
        "id": "dtnVNLSMOxw8"
      },
      "source": [
        "skf = StratifiedKFold(n_splits=5, shuffle=True, random_state=1)"
      ],
      "execution_count": null,
      "outputs": []
    },
    {
      "cell_type": "code",
      "metadata": {
        "id": "P7ZWIGFlQhqp"
      },
      "source": [
        "corpus_np = np.array(corpus)\n",
        "tags_np = np.array(tags)"
      ],
      "execution_count": null,
      "outputs": []
    },
    {
      "cell_type": "code",
      "metadata": {
        "id": "Cbvk1SjZI5wR"
      },
      "source": [
        "from collections import defaultdict\n",
        "from sklearn.metrics import accuracy_score, f1_score"
      ],
      "execution_count": null,
      "outputs": []
    },
    {
      "cell_type": "code",
      "metadata": {
        "colab": {
          "base_uri": "https://localhost:8080/"
        },
        "id": "bVGMF0tQUy-U",
        "outputId": "3778802c-81c9-4fc0-af95-8f16367f0179"
      },
      "source": [
        "skf = StratifiedKFold(n_splits=6, shuffle=True, random_state=1)\n",
        "vectorizer = TfidfVectorizer(stop_words='english')\n",
        "accuracy_scores = []\n",
        "train_dict = defaultdict(list)\n",
        "test_dict = defaultdict(list)\n",
        "train_f1_dict = defaultdict(list)\n",
        "test_f1_dict = defaultdict(list)\n",
        "vectorizer = TfidfVectorizer(stop_words='english')\n",
        "accuracy_scores = []\n",
        "Cs = [1e-7, 1e-5, 1e-3, 1e-1, 1e0, 1e1, 1e2, 1e3, 1e4, 1e5] #, 1e6, 1e7]\n",
        "\n",
        "for c in Cs:\n",
        "  print(f'-----{c}')\n",
        "\n",
        "  for train_index, test_index in skf.split(corpus, tags):\n",
        "    # split corpus into train and test\n",
        "    features_train, features_test = corpus_np[train_index], corpus_np[test_index]\n",
        "    # split tags into train and test\n",
        "    labels_train, labels_test = tags_np[train_index], tags_np[test_index]\n",
        "    # train tfidf vectorizer\n",
        "    features_train = vectorizer.fit_transform(features_train)\n",
        "    features_test = vectorizer.transform(features_test)\n",
        "\n",
        "    current = []\n",
        "\n",
        "    curr_model = LogisticRegression(penalty = 'l1', solver = 'saga', C=c).fit(features_train, labels_train)\n",
        "    # curr_score = curr_model.score(features_test, labels_test)\n",
        "\n",
        "    labels_pred = curr_model.predict(features_test)\n",
        "    labels_train_pred = curr_model.predict(features_train)\n",
        "\n",
        "    train_dict[c].append(accuracy_score(labels_train, labels_train_pred))\n",
        "    test_dict[c].append(accuracy_score(labels_test, labels_pred))\n",
        "    train_f1_dict[c].append(f1_score(labels_train, labels_train_pred, average='weighted'))\n",
        "    test_f1_dict[c].append(f1_score(labels_test, labels_pred, average='weighted'))\n",
        "\n",
        "    # print(f'{c}: {curr_score}')\n",
        "    current.append(curr_score)\n",
        "\n",
        "  accuracy_scores.append(current)"
      ],
      "execution_count": null,
      "outputs": [
        {
          "output_type": "stream",
          "text": [
            "-----1e-07\n",
            "-----1e-05\n",
            "-----0.001\n",
            "-----0.1\n",
            "-----1.0\n",
            "-----10.0\n"
          ],
          "name": "stdout"
        },
        {
          "output_type": "stream",
          "text": [
            "/usr/local/lib/python3.7/dist-packages/sklearn/linear_model/_sag.py:330: ConvergenceWarning: The max_iter was reached which means the coef_ did not converge\n",
            "  \"the coef_ did not converge\", ConvergenceWarning)\n",
            "/usr/local/lib/python3.7/dist-packages/sklearn/linear_model/_sag.py:330: ConvergenceWarning: The max_iter was reached which means the coef_ did not converge\n",
            "  \"the coef_ did not converge\", ConvergenceWarning)\n",
            "/usr/local/lib/python3.7/dist-packages/sklearn/linear_model/_sag.py:330: ConvergenceWarning: The max_iter was reached which means the coef_ did not converge\n",
            "  \"the coef_ did not converge\", ConvergenceWarning)\n",
            "/usr/local/lib/python3.7/dist-packages/sklearn/linear_model/_sag.py:330: ConvergenceWarning: The max_iter was reached which means the coef_ did not converge\n",
            "  \"the coef_ did not converge\", ConvergenceWarning)\n",
            "/usr/local/lib/python3.7/dist-packages/sklearn/linear_model/_sag.py:330: ConvergenceWarning: The max_iter was reached which means the coef_ did not converge\n",
            "  \"the coef_ did not converge\", ConvergenceWarning)\n",
            "/usr/local/lib/python3.7/dist-packages/sklearn/linear_model/_sag.py:330: ConvergenceWarning: The max_iter was reached which means the coef_ did not converge\n",
            "  \"the coef_ did not converge\", ConvergenceWarning)\n"
          ],
          "name": "stderr"
        },
        {
          "output_type": "stream",
          "text": [
            "-----100.0\n"
          ],
          "name": "stdout"
        },
        {
          "output_type": "stream",
          "text": [
            "/usr/local/lib/python3.7/dist-packages/sklearn/linear_model/_sag.py:330: ConvergenceWarning: The max_iter was reached which means the coef_ did not converge\n",
            "  \"the coef_ did not converge\", ConvergenceWarning)\n",
            "/usr/local/lib/python3.7/dist-packages/sklearn/linear_model/_sag.py:330: ConvergenceWarning: The max_iter was reached which means the coef_ did not converge\n",
            "  \"the coef_ did not converge\", ConvergenceWarning)\n",
            "/usr/local/lib/python3.7/dist-packages/sklearn/linear_model/_sag.py:330: ConvergenceWarning: The max_iter was reached which means the coef_ did not converge\n",
            "  \"the coef_ did not converge\", ConvergenceWarning)\n",
            "/usr/local/lib/python3.7/dist-packages/sklearn/linear_model/_sag.py:330: ConvergenceWarning: The max_iter was reached which means the coef_ did not converge\n",
            "  \"the coef_ did not converge\", ConvergenceWarning)\n",
            "/usr/local/lib/python3.7/dist-packages/sklearn/linear_model/_sag.py:330: ConvergenceWarning: The max_iter was reached which means the coef_ did not converge\n",
            "  \"the coef_ did not converge\", ConvergenceWarning)\n",
            "/usr/local/lib/python3.7/dist-packages/sklearn/linear_model/_sag.py:330: ConvergenceWarning: The max_iter was reached which means the coef_ did not converge\n",
            "  \"the coef_ did not converge\", ConvergenceWarning)\n"
          ],
          "name": "stderr"
        },
        {
          "output_type": "stream",
          "text": [
            "-----1000.0\n"
          ],
          "name": "stdout"
        },
        {
          "output_type": "stream",
          "text": [
            "/usr/local/lib/python3.7/dist-packages/sklearn/linear_model/_sag.py:330: ConvergenceWarning: The max_iter was reached which means the coef_ did not converge\n",
            "  \"the coef_ did not converge\", ConvergenceWarning)\n",
            "/usr/local/lib/python3.7/dist-packages/sklearn/linear_model/_sag.py:330: ConvergenceWarning: The max_iter was reached which means the coef_ did not converge\n",
            "  \"the coef_ did not converge\", ConvergenceWarning)\n",
            "/usr/local/lib/python3.7/dist-packages/sklearn/linear_model/_sag.py:330: ConvergenceWarning: The max_iter was reached which means the coef_ did not converge\n",
            "  \"the coef_ did not converge\", ConvergenceWarning)\n",
            "/usr/local/lib/python3.7/dist-packages/sklearn/linear_model/_sag.py:330: ConvergenceWarning: The max_iter was reached which means the coef_ did not converge\n",
            "  \"the coef_ did not converge\", ConvergenceWarning)\n",
            "/usr/local/lib/python3.7/dist-packages/sklearn/linear_model/_sag.py:330: ConvergenceWarning: The max_iter was reached which means the coef_ did not converge\n",
            "  \"the coef_ did not converge\", ConvergenceWarning)\n",
            "/usr/local/lib/python3.7/dist-packages/sklearn/linear_model/_sag.py:330: ConvergenceWarning: The max_iter was reached which means the coef_ did not converge\n",
            "  \"the coef_ did not converge\", ConvergenceWarning)\n"
          ],
          "name": "stderr"
        },
        {
          "output_type": "stream",
          "text": [
            "-----10000.0\n"
          ],
          "name": "stdout"
        },
        {
          "output_type": "stream",
          "text": [
            "/usr/local/lib/python3.7/dist-packages/sklearn/linear_model/_sag.py:330: ConvergenceWarning: The max_iter was reached which means the coef_ did not converge\n",
            "  \"the coef_ did not converge\", ConvergenceWarning)\n",
            "/usr/local/lib/python3.7/dist-packages/sklearn/linear_model/_sag.py:330: ConvergenceWarning: The max_iter was reached which means the coef_ did not converge\n",
            "  \"the coef_ did not converge\", ConvergenceWarning)\n",
            "/usr/local/lib/python3.7/dist-packages/sklearn/linear_model/_sag.py:330: ConvergenceWarning: The max_iter was reached which means the coef_ did not converge\n",
            "  \"the coef_ did not converge\", ConvergenceWarning)\n",
            "/usr/local/lib/python3.7/dist-packages/sklearn/linear_model/_sag.py:330: ConvergenceWarning: The max_iter was reached which means the coef_ did not converge\n",
            "  \"the coef_ did not converge\", ConvergenceWarning)\n",
            "/usr/local/lib/python3.7/dist-packages/sklearn/linear_model/_sag.py:330: ConvergenceWarning: The max_iter was reached which means the coef_ did not converge\n",
            "  \"the coef_ did not converge\", ConvergenceWarning)\n",
            "/usr/local/lib/python3.7/dist-packages/sklearn/linear_model/_sag.py:330: ConvergenceWarning: The max_iter was reached which means the coef_ did not converge\n",
            "  \"the coef_ did not converge\", ConvergenceWarning)\n"
          ],
          "name": "stderr"
        },
        {
          "output_type": "stream",
          "text": [
            "-----100000.0\n"
          ],
          "name": "stdout"
        },
        {
          "output_type": "stream",
          "text": [
            "/usr/local/lib/python3.7/dist-packages/sklearn/linear_model/_sag.py:330: ConvergenceWarning: The max_iter was reached which means the coef_ did not converge\n",
            "  \"the coef_ did not converge\", ConvergenceWarning)\n",
            "/usr/local/lib/python3.7/dist-packages/sklearn/linear_model/_sag.py:330: ConvergenceWarning: The max_iter was reached which means the coef_ did not converge\n",
            "  \"the coef_ did not converge\", ConvergenceWarning)\n",
            "/usr/local/lib/python3.7/dist-packages/sklearn/linear_model/_sag.py:330: ConvergenceWarning: The max_iter was reached which means the coef_ did not converge\n",
            "  \"the coef_ did not converge\", ConvergenceWarning)\n",
            "/usr/local/lib/python3.7/dist-packages/sklearn/linear_model/_sag.py:330: ConvergenceWarning: The max_iter was reached which means the coef_ did not converge\n",
            "  \"the coef_ did not converge\", ConvergenceWarning)\n",
            "/usr/local/lib/python3.7/dist-packages/sklearn/linear_model/_sag.py:330: ConvergenceWarning: The max_iter was reached which means the coef_ did not converge\n",
            "  \"the coef_ did not converge\", ConvergenceWarning)\n",
            "/usr/local/lib/python3.7/dist-packages/sklearn/linear_model/_sag.py:330: ConvergenceWarning: The max_iter was reached which means the coef_ did not converge\n",
            "  \"the coef_ did not converge\", ConvergenceWarning)\n"
          ],
          "name": "stderr"
        }
      ]
    },
    {
      "cell_type": "code",
      "metadata": {
        "id": "3falY2-YWEb3",
        "colab": {
          "base_uri": "https://localhost:8080/"
        },
        "outputId": "e0b14cf1-fd31-451e-8116-bc4d27e850bb"
      },
      "source": [
        "train_dict"
      ],
      "execution_count": null,
      "outputs": [
        {
          "output_type": "execute_result",
          "data": {
            "text/plain": [
              "defaultdict(list,\n",
              "            {1e-07: [0.6105263157894737,\n",
              "              0.1875,\n",
              "              0.6041666666666666,\n",
              "              0.6041666666666666,\n",
              "              0.6145833333333334,\n",
              "              0.6145833333333334],\n",
              "             1e-05: [0.6105263157894737,\n",
              "              0.6041666666666666,\n",
              "              0.6041666666666666,\n",
              "              0.6041666666666666,\n",
              "              0.6145833333333334,\n",
              "              0.6145833333333334],\n",
              "             0.001: [0.6105263157894737,\n",
              "              0.6041666666666666,\n",
              "              0.6041666666666666,\n",
              "              0.1875,\n",
              "              0.6145833333333334,\n",
              "              0.6145833333333334],\n",
              "             0.1: [0.6105263157894737,\n",
              "              0.6041666666666666,\n",
              "              0.6041666666666666,\n",
              "              0.6041666666666666,\n",
              "              0.6145833333333334,\n",
              "              0.6145833333333334],\n",
              "             1.0: [0.6105263157894737,\n",
              "              0.6041666666666666,\n",
              "              0.6041666666666666,\n",
              "              0.6041666666666666,\n",
              "              0.6145833333333334,\n",
              "              0.6145833333333334],\n",
              "             10.0: [0.9157894736842105,\n",
              "              0.9479166666666666,\n",
              "              0.9270833333333334,\n",
              "              0.9479166666666666,\n",
              "              0.9479166666666666,\n",
              "              0.90625],\n",
              "             100.0: [1.0, 1.0, 1.0, 1.0, 1.0, 1.0],\n",
              "             1000.0: [1.0, 1.0, 1.0, 1.0, 1.0, 1.0],\n",
              "             10000.0: [1.0, 1.0, 1.0, 1.0, 1.0, 1.0],\n",
              "             100000.0: [1.0, 1.0, 1.0, 1.0, 1.0, 1.0]})"
            ]
          },
          "metadata": {
            "tags": []
          },
          "execution_count": 14
        }
      ]
    },
    {
      "cell_type": "code",
      "metadata": {
        "id": "Pxg_lvT7cJB0"
      },
      "source": [
        ""
      ],
      "execution_count": null,
      "outputs": []
    }
  ]
}